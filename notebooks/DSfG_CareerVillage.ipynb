{
 "cells": [
  {
   "cell_type": "markdown",
   "metadata": {},
   "source": [
    "## Set Working Directory"
   ]
  },
  {
   "cell_type": "code",
   "execution_count": 5,
   "metadata": {},
   "outputs": [
    {
     "data": {
      "text/plain": [
       "\"/Users/chiefkemist/datascience_workspace/DSfG_CareerVillage\""
      ]
     },
     "execution_count": 5,
     "metadata": {},
     "output_type": "execute_result"
    }
   ],
   "source": [
    "# cd(\"C:/Tools/oss/DSfG_CareerVillage\")\n",
    "cd(\"..\")\n",
    "pwd()"
   ]
  },
  {
   "cell_type": "markdown",
   "metadata": {},
   "source": [
    "## Report last generated"
   ]
  },
  {
   "cell_type": "code",
   "execution_count": 6,
   "metadata": {},
   "outputs": [
    {
     "data": {
      "text/plain": [
       "2019-04-07"
      ]
     },
     "metadata": {},
     "output_type": "display_data"
    }
   ],
   "source": [
    "using Dates; display(Dates.today())"
   ]
  },
  {
   "cell_type": "markdown",
   "metadata": {},
   "source": [
    "## load the required libraries"
   ]
  },
  {
   "cell_type": "code",
   "execution_count": 7,
   "metadata": {},
   "outputs": [
    {
     "name": "stdout",
     "output_type": "stream",
     "text": [
      "\u001b[32m\u001b[1m  Updating\u001b[22m\u001b[39m registry at `~/.julia/registries/General`\n",
      "\u001b[32m\u001b[1m  Updating\u001b[22m\u001b[39m git-repo `https://github.com/JuliaRegistries/General.git`\n",
      "\u001b[?25l\u001b[2K\u001b[?25h"
     ]
    }
   ],
   "source": [
    "using Pkg; Pkg.activate(\".\"); Pkg.instantiate()\n",
    "\n",
    "using CSV, DataFrames"
   ]
  },
  {
   "cell_type": "markdown",
   "metadata": {},
   "source": [
    "# Data Exploration"
   ]
  },
  {
   "cell_type": "code",
   "execution_count": 8,
   "metadata": {},
   "outputs": [
    {
     "data": {
      "text/plain": [
       "explore_data (generic function with 1 method)"
      ]
     },
     "execution_count": 8,
     "metadata": {},
     "output_type": "execute_result"
    }
   ],
   "source": [
    "function explore_data(csv)\n",
    "    # Load and Describe\n",
    "    df = CSV.read(csv)\n",
    "    # columns\n",
    "    display(names(df))\n",
    "    # description\n",
    "    # describe(df)\n",
    "    df\n",
    "end"
   ]
  },
  {
   "cell_type": "markdown",
   "metadata": {},
   "source": [
    "### Answers"
   ]
  },
  {
   "cell_type": "code",
   "execution_count": 9,
   "metadata": {},
   "outputs": [
    {
     "data": {
      "text/plain": [
       "5-element Array{Symbol,1}:\n",
       " :answers_id         \n",
       " :answers_author_id  \n",
       " :answers_question_id\n",
       " :answers_date_added \n",
       " :answers_body       "
      ]
     },
     "metadata": {},
     "output_type": "display_data"
    },
    {
     "data": {
      "text/html": [
       "<table class=\"data-frame\"><thead><tr><th></th><th>answers_id</th><th>answers_author_id</th><th>answers_question_id</th><th>answers_date_added</th><th>answers_body</th></tr><tr><th></th><th>String⍰</th><th>String⍰</th><th>String⍰</th><th>String⍰</th><th>String⍰</th></tr></thead><tbody><p>51,123 rows × 5 columns</p><tr><th>1</th><td>4e5f01128cae4f6d8fd697cec5dca60c</td><td>36ff3b3666df400f956f8335cf53e09e</td><td>332a511f1569444485cf7a7a556a5e54</td><td>2016-04-29 19:40:14 UTC+0000</td><td>&lt;p&gt;Hi!&lt;/p&gt;\\n&lt;p&gt;You are asking a very interesting question.  I am giving you two sites that will give you some of an explanation that may answer your question.&lt;/p&gt;\\n&lt;p&gt;http://mathforum.org/dr.math/faq/faq.why.math.html&lt;/p&gt;\\n&lt;p&gt;http://www.mathworksheetscenter.com/mathtips/mathissoimportant.html&lt;/p&gt;\\n&lt;p&gt;Let me know if this helps&lt;/p&gt;</td></tr><tr><th>2</th><td>ada720538c014e9b8a6dceed09385ee3</td><td>2aa47af241bf42a4b874c453f0381bd4</td><td>eb80205482e4424cad8f16bc25aa2d9c</td><td>2018-05-01 14:19:08 UTC+0000</td><td>&lt;p&gt;Hi. I joined the Army after I attended college and received a Bachelor's Degree in Criminal Justice.  Commissioned officers enter the Military with a four year degree or receive officer training after joining and complete a tour. You can prepare yourself by taking Reserve Officer Training Corps (ROTC) while in high school or a university. You can also attend Officer Candidate School (OCS) after graduating from college or become commissioned by earning a professional degree. If you decide to earn a degree, think about what you would like to do while in the military.  The experience in the military was very rewarding. I wish you well and much success in your future. &lt;/p&gt;</td></tr><tr><th>3</th><td>eaa66ef919bc408ab5296237440e323f</td><td>cbd8f30613a849bf918aed5c010340be</td><td>eb80205482e4424cad8f16bc25aa2d9c</td><td>2018-05-02 02:41:02 UTC+0000</td><td>&lt;p&gt;Dear Priyanka,&lt;/p&gt;&lt;p&gt;Greetings! I have answered this question to Eshwari few days ago. I am going to reproduce that answer with bit of modifications as required for better clarity. &lt;/p&gt;&lt;p&gt;&lt;br&gt;&lt;/p&gt;&lt;p&gt;From your background, I could make out that you are from Bangalore and a student of 10th standard but your location is Rhode Island, USA. So I am not very clear as to which Army you wish to join ? Is it the US Army or the Indian Army? It is important to know that very few foreign nationals can join Indian Army (like Nepali citizens etc.). So you have to ascertain for yourself as to which citizenship you hold and accordingly you can join armed forces of the respective countries. Both are highly professional armies and respected a lot. I shall answer the modalities about the Indian Army, assuming that is the natural choice.&lt;/p&gt;&lt;p&gt;&lt;br&gt;&lt;/p&gt;&lt;p&gt;So, to answer your query, there are following options for you to become army officer:&lt;/p&gt;&lt;ol&gt;&lt;li&gt; Do your B.Sc  and that will be good as you have wider choices including flying branches in air force and executive branches in Navy. Similarly BA/B.Com if you are not looking for flying or executive branches. &lt;/li&gt;&lt;li&gt;  Should you wish to be doctor in Army then you can appear for entrance Test for AFMC, Pune or Army Dental College after class 12th with PCMB. However, you can do the same by attending Medical colleges from civil institutes in India/abroad.  &lt;/li&gt;&lt;li&gt; You can also join Military Nursing Services after B.Sc or Diploma in Nursing but majority of them are trained within army organisations (after 12th only  with PCMB). &lt;/li&gt;&lt;li&gt; You can join after doing your graduation in Engineering (Civil, Mech, Electrical, Electronics or Computer Sciences) or Masters in Physics with Electronics or Computers for engineering branches.&lt;/li&gt;&lt;li&gt;You can also join in Education Corps by doing M.Sc/MA/M.Com with or without B.Ed or in Legal services by doing your Law Degree. &lt;/li&gt;&lt;/ol&gt;&lt;p&gt;&lt;br&gt;&lt;/p&gt;&lt;p&gt;After your basic education, application and selection test processes, one has to clear SSB (Services Selection Board) which is a very stringent 5 days test (compulsory for all including Women officers except medical professionals). It is one of the best methods of test I know to assess the suitability for military services (as officers), a proven method of testing of one's psyche, leadership qualities which takes  all the aspects of your personality into account and decide.  Although, success rate is pretty low but don't get disheartened and demotivated. Key to success in SSB is a sound mind with sound body, positive attitude and basic IQ.  If I could do with an average IQ and humble  educational backgrounds, why not you?  There were many friends (within my batch) of whom we thought that they will never make it to the SSB but they did qualify and now serving as  Major General. &lt;/p&gt;&lt;p&gt;Please refer the links given below and you can find scores of material to read about SSB on the net or through books.&lt;/p&gt;&lt;p&gt;All the Very Best! Jai Hind!&lt;/p&gt;&amp;lt;h1&amp;gt;&lt;br&gt;&amp;lt;/h1&amp;gt;&lt;p&gt;&lt;br&gt;&lt;/p&gt;</td></tr><tr><th>4</th><td>1a6b3749d391486c9e371fbd1e605014</td><td>7e72a630c303442ba92ff00e8ea451df</td><td>4ec31632938a40b98909416bdd0decff</td><td>2017-05-10 19:00:47 UTC+0000</td><td>&lt;p&gt;I work for a global company who values highly international experience.  In fact, that is a key experience we look for in candidates.  Therefore, I'd say it would be wise to take advantage of the teaching opportunity - even if only for a year or 2.  You never know where it might lead and you will certainly have an edge on your return if you then look for employment in a global company.&lt;/p&gt;</td></tr><tr><th>5</th><td>5229c514000446d582050f89ebd4e184</td><td>17802d94699140b0a0d2995f30c034c6</td><td>2f6a9a99d9b24e5baa50d40d0ba50a75</td><td>2017-10-13 22:07:33 UTC+0000</td><td>I agree with Denise. Every single job I've had since my first internship in college, I've found through connections. I have also been surprised that in some cases, connections that I least expected were crucial in helping me find new opportunities. For example, I am about to start a new role that in a lot of ways, is my dream job. A few months ago, I connected with someone that used to be on my team at a different company. We only worked on the same team for about 2 months, and 5 years later, ended up working at another tech company in Seattle. He ended up being the hiring manager for this new role, and after passing the other interviews, I got the job. \\n\\nI would say the most important thing when starting your career is to define what you want your brand to be, and what you want to be known for. This will help give you guidance on what activities and events to prioritize, books to read, etc. \\n\\nIt's also essential to be mindful of the impression you leave with others. While networking is essential to building your career, it's important that it's also backed up by a reputation you feel proud about. \\n\\nAs a student, I remember this feeling like an incredibly daunting task. It made it easier for me to find a group I could relate to. I joined ALPFA, an association for Latino Professionals that work across various business disciplines. I would recommend finding an organization that speaks to you, and begin practicing your networking skills there.</td></tr><tr><th>6</th><td>5f62fadae80748c7907e3b0551bf4203</td><td>b03c3872daeb4a5cb1d8cd510942f0c4</td><td>2f6a9a99d9b24e5baa50d40d0ba50a75</td><td>2017-10-12 16:01:44 UTC+0000</td><td>Networking is a key component to progressing your career.  I've worked for several high tech organizations over many years and each job I was offered was because I knew someone who worked at the company who knew my skills and was able to advocate for me to get the job.  Without my professional and personal networks, it would have been much harder to get job offers and I may not have been as successful in my career.   \\n\\nDepending on the type of business/industry you would like to be in, you may have to start out as a team member or team contributor to grow your expertise in the business, possibly around a particular business function like operations, finance,  sales, etc.   As you become more knowledgeable and show your strengths in conducting your day to day work,  you will have a good chance to become a manager or leader of a team.   I do encourage you to take every networking opportunity that comes your way - join professional organizations, maybe your company or school offers networking activities you can join, and stay close to your social networks, you never know when a friend will help you find your next career move! </td></tr><tr><th>7</th><td>1d804b3b9e764cdd90195fb138d1a5aa</td><td>f6c89fde797d45938bce3531f55c9b6b</td><td>5af8880460c141dbb02971a1a8369529</td><td>2017-09-29 18:50:11 UTC+0000</td><td>https://www.unigo.com/\\n\\nCheck out this website! It allows you to search scholarships based on who you are and what you're interested in.  It even filters what state they're available in.</td></tr><tr><th>8</th><td>08d3cf6fa20543ddbdc42f70a7bcae9e</td><td>5bc2db4d58584f95bdba30ed2c21d573</td><td>5af8880460c141dbb02971a1a8369529</td><td>2018-06-08 02:39:02 UTC+0000</td><td>&lt;p&gt;Hi Jocelyn ,&lt;/p&gt;&lt;p&gt;&lt;br&gt;&lt;/p&gt;&lt;p&gt;May I recommend Fastweb.com! It’s a Free search engine that personalizes  your searches.  I also used it. &lt;/p&gt;&lt;p&gt;&lt;br&gt;&lt;/p&gt;&lt;p&gt;Or actively search for local orginzations in your town for scholarships!&lt;/p&gt;</td></tr><tr><th>9</th><td>9d33d099a03c44328fbf166aad585f63</td><td>8136c8653d3a4895b49cac90b88120d2</td><td>7c336403258f4da3a2e0955742c76462</td><td>2017-03-01 16:52:43 UTC+0000</td><td>&lt;p&gt;For the typical schedule it takes four years to receive a bachelor's degree in engineering.  I took five years because I wanted to intern and gain experience along the way.&lt;/p&gt;</td></tr><tr><th>10</th><td>228e5feefb4e42188b7c48a5c7eb3aa8</td><td>35c8d979b56647839c8df0f0383648cd</td><td>be3c5edfdb07423e955e9b2d7f186bce</td><td>2017-10-13 18:08:20 UTC+0000</td><td>Of course! I know someone who doubled in classical languages and music performance. She's now an OB/GYN. I believe she needed to go back and complete some pre-med credits post-graduation, but it's certainly possible.</td></tr><tr><th>11</th><td>06d99c4fb2bd4104bc7c74b4962aff01</td><td>62df4121c5d64528a7ed438b9ad86d98</td><td>be3c5edfdb07423e955e9b2d7f186bce</td><td>2017-10-23 22:24:33 UTC+0000</td><td>Sure!\\nMusic Therapy .  Actually I am learning how to connect myself with PDST Clinics, So might be profitable.\\nSicology.\\nIf you are a good musician, you can master anything.\\nGood luck! </td></tr><tr><th>12</th><td>f3519ab99a1a4a13a8a9ecb814287d2a</td><td>36ff3b3666df400f956f8335cf53e09e</td><td>0f1d6a4f276c4a05878dd48e03e52289</td><td>2016-07-31 15:35:54 UTC+0000</td><td>&lt;p&gt;Hi Rodrigo!&lt;/p&gt;\\n&lt;p&gt;The important thing to remember if you are going to pursue professional sports is what are you going to do when you career is over?  Too many people have short careers due to injuries and other reasons beyond their control so you have to be prepared with a backup career.  It is important to consider what you might do for a career:\\nHere are things that might help:\\nhttp://www.wikihow.com/Choose-the-Right-Career\\nhttps://www.themuse.com/advice/the-most-useful-personality-quiz-youll-take-this-week\\nhttps://www.careerkey.org/choose-a-career/how-to-choose-a-career.html#.V54W0fkrLtQ&lt;/p&gt;</td></tr><tr><th>13</th><td>3613e323d81e4e35a7c4d99adadc60f2</td><td>b1dcb1aeac3644a9a8a68f766665315f</td><td>d4999cdc470049a1a3382c4b5f14a7aa</td><td>2018-04-11 00:05:28 UTC+0000</td><td>&lt;p&gt;If you like doing creative work, graphic design would be appropriate and much higher chance of landing a job rather than a fine arts degree (unless you want to try your luck in animations). From my personal experience, I have always been creative since elementary but I brushed if off cause I lived in a country where artists are frown upon and jobs were scarce around that area. &lt;/p&gt;&lt;p&gt;&lt;br&gt;&lt;/p&gt;&lt;p&gt;Throughout my college years, I was a nursing major for one semester then a computer science for a year and half but I could not stop drawing or painting in between it all. By my junior year, I decided to pick up a part-time job at a printing company, where I would use my artistic skills as a graphic designer. &lt;/p&gt;&lt;p&gt;&lt;br&gt;&lt;/p&gt;&lt;p&gt;From there, I knew I wanted to come back to my creative skills cause I really enjoy it. &lt;/p&gt;&lt;p&gt;&lt;br&gt;&lt;/p&gt;&lt;p&gt;My advice, try out graphic design courses and painting. To see the differences and what kind of creative work you'd want to do. &lt;/p&gt;</td></tr><tr><th>14</th><td>ff2b4495db684ca3b0961cff81cd2376</td><td>349db306672e425f9481e6c30d84afe5</td><td>d4999cdc470049a1a3382c4b5f14a7aa</td><td>2017-09-04 19:56:05 UTC+0000</td><td>Hi Torrey,\\r\\n\\r\\nwhen I went to school at university we had to take some required classes first such as basic drawing and  basic graphic design, typography, then we had to apply to get into the specific program we wanted (graphic design, illustration, or print production). The teachers made the selection based on a portfolio of projects we had from the basic classes. Once I got into the 2 year design program I had more advanced classes on logo design, page layouts, typography, history of graphic design, product packaging design and professional design practices (how to manage the professional design process, how to deal with clients, copyright etc).\\r\\n\\r\\nHope this helps. \\r\\n\\r\\nBest of luck, enjoy your creativity!</td></tr><tr><th>15</th><td>f18d7fca363d4b21a81e6683c5a86b96</td><td>0c673e046d824ec0ad0ebe012a0673e4</td><td>e214acfbe6644d65b889a3268828db9d</td><td>2012-10-01 04:35:42 UTC+0000</td><td>&lt;html&gt;&lt;head&gt;&lt;/head&gt;&lt;body&gt;&lt;p&gt;Hi Deja,&lt;/p&gt;\\n&lt;p&gt;Know we're recommending a lot of videos for you, but here's a nice one that follows anesthesia resident Dr. Jesse Hill on a typical day as he works on the Obstetric anesthesia rotation at the Stanford University School of Medicine:&lt;/p&gt;\\n&lt;p&gt;&lt;a href=\"http://www.youtube.com/watch?v=20YzbPVIzmE&amp;amp;feature=related\" rel=\"nofollow\"&gt;&lt;/a&gt;&lt;a href=\"http://www.youtube.com/watch?v=20YzbPVIzmE&amp;amp;feature=related\" rel=\"nofollow\"&gt;&lt;/a&gt;&lt;a href=\"http://www.youtube.com/watch?v=20YzbPVIzmE&amp;amp;feature=related\" rel=\"nofollow\"&gt;http://www.youtube.com/watch?v=20YzbPVIzmE&amp;amp;feature=related&lt;/a&gt;&lt;/p&gt;&lt;/body&gt;&lt;/html&gt;</td></tr><tr><th>16</th><td>3d56d36b5e644d079d0d7ada4bdcddcf</td><td>b1776598991649088c0a00a6e0a2c766</td><td>e214acfbe6644d65b889a3268828db9d</td><td>2012-09-09 12:20:48 UTC+0000</td><td>&lt;ul&gt;\\n&lt;li&gt;\\n&lt;p&gt;4 years of college&lt;/p&gt;\\n&lt;/li&gt;\\n&lt;li&gt;\\n&lt;p&gt;4 years of med school&lt;/p&gt;\\n&lt;/li&gt;\\n&lt;li&gt;\\n&lt;p&gt;4-5 years of residency in anesthesiology&lt;/p&gt;\\n&lt;/li&gt;\\n&lt;li&gt;\\n&lt;p&gt;If you want to specialize even further, you can do a fellowship&lt;/p&gt;\\n&lt;/li&gt;\\n&lt;/ul&gt;\\n&lt;p&gt;Approximately 13 years of training after high school. It's one of the more competitive specialities. You should think about volunteering at a hospital and shadowing an Anesthesiologist. Contact your local hospital.&lt;/p&gt;</td></tr><tr><th>17</th><td>32d45e294fe74810836593ea9fed10d9</td><td>1232315022424e71b440d41e35e9dc89</td><td>6351c23f2e144b359c3301d40b3d81ef</td><td>2018-08-15 02:03:13 UTC+0000</td><td>&lt;p&gt;Hey Megan. You are looking at a great field.  Typically you need a bachelors degree in Human Psychology, Biology, Human Physiology or any Health Science will offer you the best insight for going to the Occupation Therapy field.&lt;/p&gt;</td></tr><tr><th>18</th><td>00b7a9eb44d1448ea6e42f10c20a2721</td><td>fc1f95af33ff4169a4190c00b7a4c6d3</td><td>a978f83b826c4fba80cbef96f16777cd</td><td>2016-10-24 19:08:18 UTC+0000</td><td>&lt;p&gt;Gender differences in access to economic opportunities are frequently debated in relation to gender differences in labor market participation.   participation  focus on productivity and earnings—for two reasons. First, a focus exclusively on labor force participation provides only a partial picture of women’s and men’s experience in the labor market. Far from being a simple decision about whether or not to join the labor force, participation in market work involves reallocating time across a variety of activities—a process that can be difficult and costly, particularly for women. And a focus solely on participation masks gender differences in the nature and dynamics of work. Second, despite significant progress in female labor force participation over the past 25 years  pervasive and persistent gender differences remain in productivity and earnings across different sectors and jobs. Indeed, many women around the world appear to be caught in a productivity trap—one that imposes significant costs on women’s welfare and economic empowerment today and serious disincentives to invest in the women of tomorrow. Despite lower earnings and productivity, women are not worse farmers, entrepreneurs, and workers than men. We argue instead that gender differences in labor productivity and earnings are primarily the result of differences in the economic activities of men and women— although gender differences in human capital and in the returns to worker and job characteristics also play a role.&lt;/p&gt;</td></tr><tr><th>19</th><td>1415558e4eae45c3804cdd3f33532240</td><td>ef2c0f7cacf348f1b083f5d5cd7803f9</td><td>63171d8c2d3f4a8c9100b0bfcb062195</td><td>2016-10-26 18:54:17 UTC+0000</td><td>&lt;p&gt;It all depends on what type of job you have. In my days as a new Civil Engineer, I also spent my full days either drafting or making calculations. During my structural design days, I spent all hours of the day in the office making calculations. Never saw a project.  When I hit Public Work things changed. I did visit project sites, did project administration, did calculations and other administrative work. The amount of time spent on the various items was completely dependent on the project and what was happening. You can go days without getting out of the office and then you can spent an inordinate amount of time in the field. It is extremely variable. I loved it!&lt;/p&gt;</td></tr><tr><th>20</th><td>a935b998214a48f0978a0575543cc268</td><td>4f7dc57899f74c0399e049467553211e</td><td>63171d8c2d3f4a8c9100b0bfcb062195</td><td>2017-07-13 00:26:31 UTC+0000</td><td>Sort of on top of what Myron said, the \"correct\" answer is it varies.  Being a civil engineer is a vary wide ranging and encompassing profession, from designing bridges to working with construction contractors in the field to managing projects &amp; funds in the office.  It really is up to you where you want to take it, and while it can be somewhat difficult to find a position that you can do all three, they are definitely out there.  My advice would be to try and get internships in college or even just a day or two shadowing in high school or later in three different places: a private consulting firm (i.e. AECOM, or a local equivalent), a construction contractor (like Kiewit), and a state or local government office (like a Dept of Transportation).  While there are many varying roles within these sorts of organizations, the attitude of who you work for will shape you more than what you are doing.</td></tr><tr><th>21</th><td>a518a7573d7f4012b2644624e4ecef86</td><td>4e9fe7ffb54c42eba0987c6119da9975</td><td>fecd4c7f68144042abca8672b6114a36</td><td>2018-01-16 20:21:32 UTC+0000</td><td>The lawyer response is, \"it depends!\" Each person is different.  I thought the prep was okay, but I struggled with the legal writing and research.  My roommate really struggled with the testing, but aced the writing part.  All of us struggle with employment at times in our life.  It's going to depend on your own individual circumstances.  The entire process is designed to be difficult, but doable, if you are capable.  Your best bet is to develop good study habits now, practice for the tests, draft your entry essay early, and once you're in, ask for help early and often, develop a network of peers to assist as you study, and be ready to work hard and read a lot!</td></tr><tr><th>22</th><td>16952fd642d648fb952da4f7479b8a02</td><td>c5c2ca95fcd3463a8852b8bc9d636313</td><td>fecd4c7f68144042abca8672b6114a36</td><td>2018-01-15 23:09:24 UTC+0000</td><td>The hardest parts of becoming a lawyer are graduating from law school near the top of your class and passing the bar examination on your first attempt.</td></tr><tr><th>23</th><td>1011167b308b4f85a79038573b83f30b</td><td>714f9104e8b148c090e975f050946ff2</td><td>baa937b4cd184a22acfd76249d25042c</td><td>2018-03-14 21:38:57 UTC+0000</td><td>&lt;p&gt;Hi Cynthia -&lt;/p&gt;&lt;p&gt;&lt;br&gt;&lt;/p&gt;&lt;p&gt;First of all congratulations on having a well-thought out plan for your non-profit.  You have shown a lot of initiative that this will help you go far.  Board development is one of the most important things for a new organization to focus on.  Members of your board help you establish credibility and ideally open their networks to you, both to raise visibility and of course, funds.&lt;/p&gt;&lt;p&gt;&lt;br&gt;&lt;/p&gt;&lt;p&gt;While community financial institutions are not my area of expertise, I will give you some tips that should be helpful in general.  As your main need is for this board to be a funding/fundraising board for a community financial institution, that arena is where you need to look for individuals to invite onto your board.  First, look at your own networks:&lt;/p&gt;&lt;ol&gt;&lt;li&gt; Are any of your friends, community members, relatives, friends' relatives in finance?  Can you approach them with your idea, see what they think and then invite them to join your board?  &lt;/li&gt;&lt;li&gt;Look at similar institutions - community financial institutions (CFIs).  Are there individuals on their boards that you can invite onto yours?&lt;/li&gt;&lt;li&gt;Once you have a core group of individuals on your board (not all need to have finance backgrounds - some can have HR experience or be from the community you are trying to help), then you need to put a fundraising plan in place.  It would be helpful to have at least one board member who has fundraising experience.  The fundraising plan should have concrete steps as to how the organization is going to reach its initial goal ($500,000), what is the timeline, what are the steps, etc.&lt;/li&gt;&lt;li&gt;Once you have your plan, then each member of the board should be encouraged to contribute and to help with fundraising in any way they can.  Your plan should have options for commitment - dollar amount, amount each board member will help raise, what networks they can introduce you to, to help fundraise, etc.&lt;/li&gt;&lt;/ol&gt;&lt;p&gt;Board development should be customized for each organization as it is important to get a good mix of people on the board, and who hopefully have good chemistry working together.  Your board chair should be the person you work closely with to help you keep other board members focused on their commitments.&lt;/p&gt;&lt;p&gt;&lt;br&gt;&lt;/p&gt;&lt;p&gt;Being at Harvard should help you access alumni networks, ask your professors for ideas on who should be on your board (perhaps one of them would agree to serve).  Having a couple of big names helps attract others.&lt;/p&gt;&lt;p&gt;&lt;br&gt;&lt;/p&gt;&lt;p&gt;Hope this is helpful - wish you the very best!&lt;/p&gt;&lt;p&gt;&lt;br&gt;&lt;/p&gt;&lt;p&gt;&lt;br&gt;&lt;/p&gt;</td></tr><tr><th>24</th><td>4f0fb2e913ec4f04a6f3f9fa8fc21119</td><td>5fb15f468af546bbbf7861b0025b947d</td><td>baa937b4cd184a22acfd76249d25042c</td><td>2018-05-02 15:31:49 UTC+0000</td><td>&lt;p&gt;Hi Cynthia,&lt;/p&gt;&lt;p&gt;Shalini has given you some excellent advice. My only other thought is to look into potential organizations that can help support your business plan. In CA (specifically Cal Poly)  there are organizations such as the Small Business Development Center (SBDC), Center for Innovation and Entrepreneurship, and HotHouse. All within the college environment and all with the mission of supporting student businesses while you are in school. They provide several areas of support, including board development. Perhaps Harvard has something like it or a connection to something similar. Here is a link to SBDC that will lead you to the other two. Best wishes on your endeavor.&lt;/p&gt;&lt;p&gt;http://sbdc.calpoly.edu&lt;/p&gt;</td></tr><tr><th>25</th><td>59b8aa380b484a9aa9f82ff363236b2e</td><td>c0a9c84db7bb48dfa9852c67d449bd50</td><td>eb0027b3dcd04d88b76a493fc1558c15</td><td>2017-03-11 03:22:32 UTC+0000</td><td>&lt;p&gt;Cierra,\\nBoth professions are great but don't think of it as \"making the money\". Do what you enjoy the monetary rewards will come.\\nI've been practicing for 27 years as a RDH. I did make an effort to apply to dental school after 6 years as a hygienist but didn't get admitted. I'm very happy now that I didn't. As Dr. Barnett mentioned, as a hygienist, the schedule is very flexible if you want to have a family.\\nLittle did I know I would still be practicing but I have recently started teaching as a part-time adjunct clinical instructor. \\nEvery dental hygiene program has different requirements for their program so make sure you look at each one.\\nMost programs are a 4 year but their are some 2 year associate programs. Then, if you want to do a  completion of BS in dental hygiene you may.\\nOther students have done a BS in science base degree then had options to apply to dental hygiene or DDS program.\\nWhatever you decide, don't let the monetary part drive you, let the profession drive you to be and do your best.\\nThe best to you!&lt;/p&gt;</td></tr><tr><th>26</th><td>16f9488b02f348c1b7ce4163b389c853</td><td>a6ebcb55beb5417e9b35320b4067c7d4</td><td>eb0027b3dcd04d88b76a493fc1558c15</td><td>2017-03-11 00:43:01 UTC+0000</td><td>&lt;p&gt;Hi Cierra,&lt;/p&gt;\\n&lt;p&gt;Working in the Oral Health care field is about being passionate with it and wanting to take care of people's Oral Health independently of the money you could make. Choosing a profession is about what you love to do . You will do well if people see in you a professional that is truly focused on their needs. Patient is first.&lt;/p&gt;\\n&lt;p&gt;Dentistry is a 4 year career (minimum - you never stop studying ) , but you have to have at least 2 years in College in a pre-dental program ( Sciences) before.\\nFind more information here: http://www.ada.org/en/education-careers/careers-in-dentistry/be-a-dentist/high-school-student&lt;/p&gt;\\n&lt;p&gt;Good Luck!&lt;/p&gt;</td></tr><tr><th>27</th><td>ba13b641f0344b81a81f0fac6e13556d</td><td>ea5ba6c268294e2c9566462ce929a0a9</td><td>eb0027b3dcd04d88b76a493fc1558c15</td><td>2017-03-11 00:09:45 UTC+0000</td><td>&lt;p&gt;Dental school would cost a lot more, but you make a lot more over your career.\\nMy mom was a hygienist, and I am a dentist. Always jobs in both.  Hygienist is a good career for you if you want to have kids and work part time. You have plenty of time to decide&lt;/p&gt;</td></tr><tr><th>28</th><td>a3ad8c30ef6b4cc3aaa4b706efaedde3</td><td>4a1516e61c3a498ba728a6792ff67983</td><td>be0bac33e0594b21ac1f82fe2ffac7fb</td><td>2018-07-09 02:49:22 UTC+0000</td><td>&lt;p&gt;lakeya,&lt;/p&gt;&lt;p&gt;&lt;br&gt;&lt;/p&gt;&lt;p&gt;You have an excellent question.   As with most excellent questions, the answer is - it depends.  What does it depend on?  A couple things:&lt;/p&gt;&lt;p&gt;&lt;br&gt;&lt;/p&gt;&lt;p&gt;1)  Could your invention be a business?  - Not all inventions can.  Some inventions might solve a problem in a way that's superior to any other, but if it can't be scaled (e.g. can't be manufactured in a way that brings cost below price by a sustainable margin, is not sufficiently differentiated from competition to attract customers, market of potential customers is not large enough to justify start-up costs, etc.) then there's no business.  Keep in mind though - just because one person may not be able to turn an invention into a business doesn't mean it doesn't have value.   An invention could be patented and then sold (or licensed) to a company with complementary characteristics from which value could be derived from synergies between the invention and their existing product (e.g. the company already has an established presence in the target market of the invention, the company manufactures their existing product in a similar way such that existing infrastructure could be utilized). &lt;/p&gt;&lt;p&gt;&lt;br&gt;&lt;/p&gt;&lt;p&gt;2) Do you want to be an entrepreneur?   - If your invention could be a business that you could start yourself, the next question to ask is whether you want to be an entrepreneur.   Successful entrepreneurs often work long hours for long periods of time trying to get their businesses off the ground, and even then success is scarce.  Read about successful entrepreneurs (and unsuccessful entrepreneurs) to learn more about the sheer size of the risks and rewards involved, and whether such a lifestyle works for you (one insightful resource from an experienced entrepreneur - http://www.paulgraham.com/articles.html)&lt;/p&gt;&lt;p&gt;&lt;br&gt;&lt;/p&gt;&lt;p&gt;After careful reflection, if you're leaning toward 'yes' to both questions, then starting down the path of launching a business is next.  If not, then selling (or licensing) your inventions to another individual or company with the means to bring it to market might be the best path.  Whether you decide to start your own business or sell / license your invention as is, you'll likely want to apply for a patent.   Patenting a product is not cheap (https://www.legalzoom.com/articles/how-much-does-a-patent-cost), but it's likely much cheaper than costs needed to launch a business.  Here's a good article I stumbled across that may be helpful on the topic of applying for patents (https://www.entrepreneur.com/article/204918).&lt;/p&gt;&lt;p&gt;&lt;br&gt;&lt;/p&gt;&lt;p&gt;I'm far from an expert on this topic, but hopefully these thoughts help you find a path to more relevant resources.  Best of luck to you!&lt;/p&gt;</td></tr><tr><th>29</th><td>4c4e2542656c428d8fa5c8123fd3e7c8</td><td>f65c1eac3d2846d1a05206be08477272</td><td>be0bac33e0594b21ac1f82fe2ffac7fb</td><td>2018-07-17 18:22:53 UTC+0000</td><td>&lt;p&gt;A patent&amp;nbsp; is a government authority or license conferring a right or title for a set period, especially the sole right to exclude others from making, using, or selling an invention.(got this from BING)&amp;nbsp;So you only get paid if you own the idea or license. So you would need to find a patent attorney to patent your idea so that you have the right to sell it.&amp;nbsp; So you can not sell it to a company until you have the patent which gives you ownership of the idea. IF&amp;nbsp; you go to a company and share the idea with them they have no obligation to pay you for it unless you own the patent for that idea.&lt;/p&gt;</td></tr><tr><th>30</th><td>c7b511c38e7540ab9b10b3e1f2b1ed70</td><td>d3d51f244e054abc83099fdb32781975</td><td>be0bac33e0594b21ac1f82fe2ffac7fb</td><td>2018-07-18 02:43:10 UTC+0000</td><td>&lt;p&gt;So some people see the universe as it is. Some look and see the holes. I've always been one to see the holes, the things that dont exist and COULD exist. The problem is, does the rest of the universe care?  I've spent my whole life seeing the holes and I've tried filling many of them. Most of the time the universe didn't care but on a few, I've had great success. The key to seeing a hole in the universe and filling it with your idea is the brand, the marketing and a lot of dumb luck. So if you're starting out, try to get someone to take your idea and run with it. You'll likely come across some greedy bastards who will steal it, but if the well is deep enough you'll come up with more. The odds of you knowing enough now to make it successful are pretty low. You'll need 20 years of dealing with greedy bastards to know how to do it all on your own. &lt;/p&gt;</td></tr><tr><th>&vellip;</th><td>&vellip;</td><td>&vellip;</td><td>&vellip;</td><td>&vellip;</td><td>&vellip;</td></tr></tbody></table>"
      ],
      "text/latex": [
       "\\begin{tabular}{r|ccccc}\n",
       "\t& answers\\_id & answers\\_author\\_id & answers\\_question\\_id & answers\\_date\\_added & answers\\_body\\\\\n",
       "\t\\hline\n",
       "\t& String⍰ & String⍰ & String⍰ & String⍰ & String⍰\\\\\n",
       "\t\\hline\n",
       "\t1 & 4e5f01128cae4f6d8fd697cec5dca60c & 36ff3b3666df400f956f8335cf53e09e & 332a511f1569444485cf7a7a556a5e54 & 2016-04-29 19:40:14 UTC+0000 & <p>Hi!</p>\\textbackslash{}n<p>You are asking a very interesting question.  I am giving you two sites that will give you some of an explanation that may answer your question.</p>\\textbackslash{}n<p>http://mathforum.org/dr.math/faq/faq.why.math.html</p>\\textbackslash{}n<p>http://www.mathworksheetscenter.com/mathtips/mathissoimportant.html</p>\\textbackslash{}n<p>Let me know if this helps</p> \\\\\n",
       "\t2 & ada720538c014e9b8a6dceed09385ee3 & 2aa47af241bf42a4b874c453f0381bd4 & eb80205482e4424cad8f16bc25aa2d9c & 2018-05-01 14:19:08 UTC+0000 & <p>Hi. I joined the Army after I attended college and received a Bachelor's Degree in Criminal Justice.  Commissioned officers enter the Military with a four year degree or receive officer training after joining and complete a tour. You can prepare yourself by taking Reserve Officer Training Corps (ROTC) while in high school or a university. You can also attend Officer Candidate School (OCS) after graduating from college or become commissioned by earning a professional degree. If you decide to earn a degree, think about what you would like to do while in the military.  The experience in the military was very rewarding. I wish you well and much success in your future. </p> \\\\\n",
       "\t3 & eaa66ef919bc408ab5296237440e323f & cbd8f30613a849bf918aed5c010340be & eb80205482e4424cad8f16bc25aa2d9c & 2018-05-02 02:41:02 UTC+0000 & <p>Dear Priyanka,</p><p>Greetings! I have answered this question to Eshwari few days ago. I am going to reproduce that answer with bit of modifications as required for better clarity. </p><p><br></p><p>From your background, I could make out that you are from Bangalore and a student of 10th standard but your location is Rhode Island, USA. So I am not very clear as to which Army you wish to join ? Is it the US Army or the Indian Army? It is important to know that very few foreign nationals can join Indian Army (like Nepali citizens etc.). So you have to ascertain for yourself as to which citizenship you hold and accordingly you can join armed forces of the respective countries. Both are highly professional armies and respected a lot. I shall answer the modalities about the Indian Army, assuming that is the natural choice.</p><p><br></p><p>So, to answer your query, there are following options for you to become army officer:</p><ol><li> Do your B.Sc  and that will be good as you have wider choices including flying branches in air force and executive branches in Navy. Similarly BA/B.Com if you are not looking for flying or executive branches. </li><li>  Should you wish to be doctor in Army then you can appear for entrance Test for AFMC, Pune or Army Dental College after class 12th with PCMB. However, you can do the same by attending Medical colleges from civil institutes in India/abroad.  </li><li> You can also join Military Nursing Services after B.Sc or Diploma in Nursing but majority of them are trained within army organisations (after 12th only  with PCMB). </li><li> You can join after doing your graduation in Engineering (Civil, Mech, Electrical, Electronics or Computer Sciences) or Masters in Physics with Electronics or Computers for engineering branches.</li><li>You can also join in Education Corps by doing M.Sc/MA/M.Com with or without B.Ed or in Legal services by doing your Law Degree. </li></ol><p><br></p><p>After your basic education, application and selection test processes, one has to clear SSB (Services Selection Board) which is a very stringent 5 days test (compulsory for all including Women officers except medical professionals). It is one of the best methods of test I know to assess the suitability for military services (as officers), a proven method of testing of one's psyche, leadership qualities which takes  all the aspects of your personality into account and decide.  Although, success rate is pretty low but don't get disheartened and demotivated. Key to success in SSB is a sound mind with sound body, positive attitude and basic IQ.  If I could do with an average IQ and humble  educational backgrounds, why not you?  There were many friends (within my batch) of whom we thought that they will never make it to the SSB but they did qualify and now serving as  Major General. </p><p>Please refer the links given below and you can find scores of material to read about SSB on the net or through books.</p><p>All the Very Best! Jai Hind!</p>\\&lt;h1\\&gt;<br>\\&lt;/h1\\&gt;<p><br></p> \\\\\n",
       "\t4 & 1a6b3749d391486c9e371fbd1e605014 & 7e72a630c303442ba92ff00e8ea451df & 4ec31632938a40b98909416bdd0decff & 2017-05-10 19:00:47 UTC+0000 & <p>I work for a global company who values highly international experience.  In fact, that is a key experience we look for in candidates.  Therefore, I'd say it would be wise to take advantage of the teaching opportunity - even if only for a year or 2.  You never know where it might lead and you will certainly have an edge on your return if you then look for employment in a global company.</p> \\\\\n",
       "\t5 & 5229c514000446d582050f89ebd4e184 & 17802d94699140b0a0d2995f30c034c6 & 2f6a9a99d9b24e5baa50d40d0ba50a75 & 2017-10-13 22:07:33 UTC+0000 & I agree with Denise. Every single job I've had since my first internship in college, I've found through connections. I have also been surprised that in some cases, connections that I least expected were crucial in helping me find new opportunities. For example, I am about to start a new role that in a lot of ways, is my dream job. A few months ago, I connected with someone that used to be on my team at a different company. We only worked on the same team for about 2 months, and 5 years later, ended up working at another tech company in Seattle. He ended up being the hiring manager for this new role, and after passing the other interviews, I got the job. \\textbackslash{}n\\textbackslash{}nI would say the most important thing when starting your career is to define what you want your brand to be, and what you want to be known for. This will help give you guidance on what activities and events to prioritize, books to read, etc. \\textbackslash{}n\\textbackslash{}nIt's also essential to be mindful of the impression you leave with others. While networking is essential to building your career, it's important that it's also backed up by a reputation you feel proud about. \\textbackslash{}n\\textbackslash{}nAs a student, I remember this feeling like an incredibly daunting task. It made it easier for me to find a group I could relate to. I joined ALPFA, an association for Latino Professionals that work across various business disciplines. I would recommend finding an organization that speaks to you, and begin practicing your networking skills there. \\\\\n",
       "\t6 & 5f62fadae80748c7907e3b0551bf4203 & b03c3872daeb4a5cb1d8cd510942f0c4 & 2f6a9a99d9b24e5baa50d40d0ba50a75 & 2017-10-12 16:01:44 UTC+0000 & Networking is a key component to progressing your career.  I've worked for several high tech organizations over many years and each job I was offered was because I knew someone who worked at the company who knew my skills and was able to advocate for me to get the job.  Without my professional and personal networks, it would have been much harder to get job offers and I may not have been as successful in my career.   \\textbackslash{}n\\textbackslash{}nDepending on the type of business/industry you would like to be in, you may have to start out as a team member or team contributor to grow your expertise in the business, possibly around a particular business function like operations, finance,  sales, etc.   As you become more knowledgeable and show your strengths in conducting your day to day work,  you will have a good chance to become a manager or leader of a team.   I do encourage you to take every networking opportunity that comes your way - join professional organizations, maybe your company or school offers networking activities you can join, and stay close to your social networks, you never know when a friend will help you find your next career move!  \\\\\n",
       "\t7 & 1d804b3b9e764cdd90195fb138d1a5aa & f6c89fde797d45938bce3531f55c9b6b & 5af8880460c141dbb02971a1a8369529 & 2017-09-29 18:50:11 UTC+0000 & https://www.unigo.com/\\textbackslash{}n\\textbackslash{}nCheck out this website! It allows you to search scholarships based on who you are and what you're interested in.  It even filters what state they're available in. \\\\\n",
       "\t8 & 08d3cf6fa20543ddbdc42f70a7bcae9e & 5bc2db4d58584f95bdba30ed2c21d573 & 5af8880460c141dbb02971a1a8369529 & 2018-06-08 02:39:02 UTC+0000 & <p>Hi Jocelyn ,</p><p><br></p><p>May I recommend Fastweb.com! It’s a Free search engine that personalizes  your searches.  I also used it. </p><p><br></p><p>Or actively search for local orginzations in your town for scholarships!</p> \\\\\n",
       "\t9 & 9d33d099a03c44328fbf166aad585f63 & 8136c8653d3a4895b49cac90b88120d2 & 7c336403258f4da3a2e0955742c76462 & 2017-03-01 16:52:43 UTC+0000 & <p>For the typical schedule it takes four years to receive a bachelor's degree in engineering.  I took five years because I wanted to intern and gain experience along the way.</p> \\\\\n",
       "\t10 & 228e5feefb4e42188b7c48a5c7eb3aa8 & 35c8d979b56647839c8df0f0383648cd & be3c5edfdb07423e955e9b2d7f186bce & 2017-10-13 18:08:20 UTC+0000 & Of course! I know someone who doubled in classical languages and music performance. She's now an OB/GYN. I believe she needed to go back and complete some pre-med credits post-graduation, but it's certainly possible. \\\\\n",
       "\t11 & 06d99c4fb2bd4104bc7c74b4962aff01 & 62df4121c5d64528a7ed438b9ad86d98 & be3c5edfdb07423e955e9b2d7f186bce & 2017-10-23 22:24:33 UTC+0000 & Sure!\\textbackslash{}nMusic Therapy .  Actually I am learning how to connect myself with PDST Clinics, So might be profitable.\\textbackslash{}nSicology.\\textbackslash{}nIf you are a good musician, you can master anything.\\textbackslash{}nGood luck!  \\\\\n",
       "\t12 & f3519ab99a1a4a13a8a9ecb814287d2a & 36ff3b3666df400f956f8335cf53e09e & 0f1d6a4f276c4a05878dd48e03e52289 & 2016-07-31 15:35:54 UTC+0000 & <p>Hi Rodrigo!</p>\\textbackslash{}n<p>The important thing to remember if you are going to pursue professional sports is what are you going to do when you career is over?  Too many people have short careers due to injuries and other reasons beyond their control so you have to be prepared with a backup career.  It is important to consider what you might do for a career:\\textbackslash{}nHere are things that might help:\\textbackslash{}nhttp://www.wikihow.com/Choose-the-Right-Career\\textbackslash{}nhttps://www.themuse.com/advice/the-most-useful-personality-quiz-youll-take-this-week\\textbackslash{}nhttps://www.careerkey.org/choose-a-career/how-to-choose-a-career.html\\#.V54W0fkrLtQ</p> \\\\\n",
       "\t13 & 3613e323d81e4e35a7c4d99adadc60f2 & b1dcb1aeac3644a9a8a68f766665315f & d4999cdc470049a1a3382c4b5f14a7aa & 2018-04-11 00:05:28 UTC+0000 & <p>If you like doing creative work, graphic design would be appropriate and much higher chance of landing a job rather than a fine arts degree (unless you want to try your luck in animations). From my personal experience, I have always been creative since elementary but I brushed if off cause I lived in a country where artists are frown upon and jobs were scarce around that area. </p><p><br></p><p>Throughout my college years, I was a nursing major for one semester then a computer science for a year and half but I could not stop drawing or painting in between it all. By my junior year, I decided to pick up a part-time job at a printing company, where I would use my artistic skills as a graphic designer. </p><p><br></p><p>From there, I knew I wanted to come back to my creative skills cause I really enjoy it. </p><p><br></p><p>My advice, try out graphic design courses and painting. To see the differences and what kind of creative work you'd want to do. </p> \\\\\n",
       "\t14 & ff2b4495db684ca3b0961cff81cd2376 & 349db306672e425f9481e6c30d84afe5 & d4999cdc470049a1a3382c4b5f14a7aa & 2017-09-04 19:56:05 UTC+0000 & Hi Torrey,\\textbackslash{}r\\textbackslash{}n\\textbackslash{}r\\textbackslash{}nwhen I went to school at university we had to take some required classes first such as basic drawing and  basic graphic design, typography, then we had to apply to get into the specific program we wanted (graphic design, illustration, or print production). The teachers made the selection based on a portfolio of projects we had from the basic classes. Once I got into the 2 year design program I had more advanced classes on logo design, page layouts, typography, history of graphic design, product packaging design and professional design practices (how to manage the professional design process, how to deal with clients, copyright etc).\\textbackslash{}r\\textbackslash{}n\\textbackslash{}r\\textbackslash{}nHope this helps. \\textbackslash{}r\\textbackslash{}n\\textbackslash{}r\\textbackslash{}nBest of luck, enjoy your creativity! \\\\\n",
       "\t15 & f18d7fca363d4b21a81e6683c5a86b96 & 0c673e046d824ec0ad0ebe012a0673e4 & e214acfbe6644d65b889a3268828db9d & 2012-10-01 04:35:42 UTC+0000 & <html><head></head><body><p>Hi Deja,</p>\\textbackslash{}n<p>Know we're recommending a lot of videos for you, but here's a nice one that follows anesthesia resident Dr. Jesse Hill on a typical day as he works on the Obstetric anesthesia rotation at the Stanford University School of Medicine:</p>\\textbackslash{}n<p><a href=\"http://www.youtube.com/watch?v=20YzbPVIzmE\\&amp;feature=related\" rel=\"nofollow\"></a><a href=\"http://www.youtube.com/watch?v=20YzbPVIzmE\\&amp;feature=related\" rel=\"nofollow\"></a><a href=\"http://www.youtube.com/watch?v=20YzbPVIzmE\\&amp;feature=related\" rel=\"nofollow\">http://www.youtube.com/watch?v=20YzbPVIzmE\\&amp;feature=related</a></p></body></html> \\\\\n",
       "\t16 & 3d56d36b5e644d079d0d7ada4bdcddcf & b1776598991649088c0a00a6e0a2c766 & e214acfbe6644d65b889a3268828db9d & 2012-09-09 12:20:48 UTC+0000 & <ul>\\textbackslash{}n<li>\\textbackslash{}n<p>4 years of college</p>\\textbackslash{}n</li>\\textbackslash{}n<li>\\textbackslash{}n<p>4 years of med school</p>\\textbackslash{}n</li>\\textbackslash{}n<li>\\textbackslash{}n<p>4-5 years of residency in anesthesiology</p>\\textbackslash{}n</li>\\textbackslash{}n<li>\\textbackslash{}n<p>If you want to specialize even further, you can do a fellowship</p>\\textbackslash{}n</li>\\textbackslash{}n</ul>\\textbackslash{}n<p>Approximately 13 years of training after high school. It's one of the more competitive specialities. You should think about volunteering at a hospital and shadowing an Anesthesiologist. Contact your local hospital.</p> \\\\\n",
       "\t17 & 32d45e294fe74810836593ea9fed10d9 & 1232315022424e71b440d41e35e9dc89 & 6351c23f2e144b359c3301d40b3d81ef & 2018-08-15 02:03:13 UTC+0000 & <p>Hey Megan. You are looking at a great field.  Typically you need a bachelors degree in Human Psychology, Biology, Human Physiology or any Health Science will offer you the best insight for going to the Occupation Therapy field.</p> \\\\\n",
       "\t18 & 00b7a9eb44d1448ea6e42f10c20a2721 & fc1f95af33ff4169a4190c00b7a4c6d3 & a978f83b826c4fba80cbef96f16777cd & 2016-10-24 19:08:18 UTC+0000 & <p>Gender differences in access to economic opportunities are frequently debated in relation to gender differences in labor market participation.   participation  focus on productivity and earnings—for two reasons. First, a focus exclusively on labor force participation provides only a partial picture of women’s and men’s experience in the labor market. Far from being a simple decision about whether or not to join the labor force, participation in market work involves reallocating time across a variety of activities—a process that can be difficult and costly, particularly for women. And a focus solely on participation masks gender differences in the nature and dynamics of work. Second, despite significant progress in female labor force participation over the past 25 years  pervasive and persistent gender differences remain in productivity and earnings across different sectors and jobs. Indeed, many women around the world appear to be caught in a productivity trap—one that imposes significant costs on women’s welfare and economic empowerment today and serious disincentives to invest in the women of tomorrow. Despite lower earnings and productivity, women are not worse farmers, entrepreneurs, and workers than men. We argue instead that gender differences in labor productivity and earnings are primarily the result of differences in the economic activities of men and women— although gender differences in human capital and in the returns to worker and job characteristics also play a role.</p> \\\\\n",
       "\t19 & 1415558e4eae45c3804cdd3f33532240 & ef2c0f7cacf348f1b083f5d5cd7803f9 & 63171d8c2d3f4a8c9100b0bfcb062195 & 2016-10-26 18:54:17 UTC+0000 & <p>It all depends on what type of job you have. In my days as a new Civil Engineer, I also spent my full days either drafting or making calculations. During my structural design days, I spent all hours of the day in the office making calculations. Never saw a project.  When I hit Public Work things changed. I did visit project sites, did project administration, did calculations and other administrative work. The amount of time spent on the various items was completely dependent on the project and what was happening. You can go days without getting out of the office and then you can spent an inordinate amount of time in the field. It is extremely variable. I loved it!</p> \\\\\n",
       "\t20 & a935b998214a48f0978a0575543cc268 & 4f7dc57899f74c0399e049467553211e & 63171d8c2d3f4a8c9100b0bfcb062195 & 2017-07-13 00:26:31 UTC+0000 & Sort of on top of what Myron said, the \"correct\" answer is it varies.  Being a civil engineer is a vary wide ranging and encompassing profession, from designing bridges to working with construction contractors in the field to managing projects \\& funds in the office.  It really is up to you where you want to take it, and while it can be somewhat difficult to find a position that you can do all three, they are definitely out there.  My advice would be to try and get internships in college or even just a day or two shadowing in high school or later in three different places: a private consulting firm (i.e. AECOM, or a local equivalent), a construction contractor (like Kiewit), and a state or local government office (like a Dept of Transportation).  While there are many varying roles within these sorts of organizations, the attitude of who you work for will shape you more than what you are doing. \\\\\n",
       "\t21 & a518a7573d7f4012b2644624e4ecef86 & 4e9fe7ffb54c42eba0987c6119da9975 & fecd4c7f68144042abca8672b6114a36 & 2018-01-16 20:21:32 UTC+0000 & The lawyer response is, \"it depends!\" Each person is different.  I thought the prep was okay, but I struggled with the legal writing and research.  My roommate really struggled with the testing, but aced the writing part.  All of us struggle with employment at times in our life.  It's going to depend on your own individual circumstances.  The entire process is designed to be difficult, but doable, if you are capable.  Your best bet is to develop good study habits now, practice for the tests, draft your entry essay early, and once you're in, ask for help early and often, develop a network of peers to assist as you study, and be ready to work hard and read a lot! \\\\\n",
       "\t22 & 16952fd642d648fb952da4f7479b8a02 & c5c2ca95fcd3463a8852b8bc9d636313 & fecd4c7f68144042abca8672b6114a36 & 2018-01-15 23:09:24 UTC+0000 & The hardest parts of becoming a lawyer are graduating from law school near the top of your class and passing the bar examination on your first attempt. \\\\\n",
       "\t23 & 1011167b308b4f85a79038573b83f30b & 714f9104e8b148c090e975f050946ff2 & baa937b4cd184a22acfd76249d25042c & 2018-03-14 21:38:57 UTC+0000 & <p>Hi Cynthia -</p><p><br></p><p>First of all congratulations on having a well-thought out plan for your non-profit.  You have shown a lot of initiative that this will help you go far.  Board development is one of the most important things for a new organization to focus on.  Members of your board help you establish credibility and ideally open their networks to you, both to raise visibility and of course, funds.</p><p><br></p><p>While community financial institutions are not my area of expertise, I will give you some tips that should be helpful in general.  As your main need is for this board to be a funding/fundraising board for a community financial institution, that arena is where you need to look for individuals to invite onto your board.  First, look at your own networks:</p><ol><li> Are any of your friends, community members, relatives, friends' relatives in finance?  Can you approach them with your idea, see what they think and then invite them to join your board?  </li><li>Look at similar institutions - community financial institutions (CFIs).  Are there individuals on their boards that you can invite onto yours?</li><li>Once you have a core group of individuals on your board (not all need to have finance backgrounds - some can have HR experience or be from the community you are trying to help), then you need to put a fundraising plan in place.  It would be helpful to have at least one board member who has fundraising experience.  The fundraising plan should have concrete steps as to how the organization is going to reach its initial goal (\\$500,000), what is the timeline, what are the steps, etc.</li><li>Once you have your plan, then each member of the board should be encouraged to contribute and to help with fundraising in any way they can.  Your plan should have options for commitment - dollar amount, amount each board member will help raise, what networks they can introduce you to, to help fundraise, etc.</li></ol><p>Board development should be customized for each organization as it is important to get a good mix of people on the board, and who hopefully have good chemistry working together.  Your board chair should be the person you work closely with to help you keep other board members focused on their commitments.</p><p><br></p><p>Being at Harvard should help you access alumni networks, ask your professors for ideas on who should be on your board (perhaps one of them would agree to serve).  Having a couple of big names helps attract others.</p><p><br></p><p>Hope this is helpful - wish you the very best!</p><p><br></p><p><br></p> \\\\\n",
       "\t24 & 4f0fb2e913ec4f04a6f3f9fa8fc21119 & 5fb15f468af546bbbf7861b0025b947d & baa937b4cd184a22acfd76249d25042c & 2018-05-02 15:31:49 UTC+0000 & <p>Hi Cynthia,</p><p>Shalini has given you some excellent advice. My only other thought is to look into potential organizations that can help support your business plan. In CA (specifically Cal Poly)  there are organizations such as the Small Business Development Center (SBDC), Center for Innovation and Entrepreneurship, and HotHouse. All within the college environment and all with the mission of supporting student businesses while you are in school. They provide several areas of support, including board development. Perhaps Harvard has something like it or a connection to something similar. Here is a link to SBDC that will lead you to the other two. Best wishes on your endeavor.</p><p>http://sbdc.calpoly.edu</p> \\\\\n",
       "\t25 & 59b8aa380b484a9aa9f82ff363236b2e & c0a9c84db7bb48dfa9852c67d449bd50 & eb0027b3dcd04d88b76a493fc1558c15 & 2017-03-11 03:22:32 UTC+0000 & <p>Cierra,\\textbackslash{}nBoth professions are great but don't think of it as \"making the money\". Do what you enjoy the monetary rewards will come.\\textbackslash{}nI've been practicing for 27 years as a RDH. I did make an effort to apply to dental school after 6 years as a hygienist but didn't get admitted. I'm very happy now that I didn't. As Dr. Barnett mentioned, as a hygienist, the schedule is very flexible if you want to have a family.\\textbackslash{}nLittle did I know I would still be practicing but I have recently started teaching as a part-time adjunct clinical instructor. \\textbackslash{}nEvery dental hygiene program has different requirements for their program so make sure you look at each one.\\textbackslash{}nMost programs are a 4 year but their are some 2 year associate programs. Then, if you want to do a  completion of BS in dental hygiene you may.\\textbackslash{}nOther students have done a BS in science base degree then had options to apply to dental hygiene or DDS program.\\textbackslash{}nWhatever you decide, don't let the monetary part drive you, let the profession drive you to be and do your best.\\textbackslash{}nThe best to you!</p> \\\\\n",
       "\t26 & 16f9488b02f348c1b7ce4163b389c853 & a6ebcb55beb5417e9b35320b4067c7d4 & eb0027b3dcd04d88b76a493fc1558c15 & 2017-03-11 00:43:01 UTC+0000 & <p>Hi Cierra,</p>\\textbackslash{}n<p>Working in the Oral Health care field is about being passionate with it and wanting to take care of people's Oral Health independently of the money you could make. Choosing a profession is about what you love to do . You will do well if people see in you a professional that is truly focused on their needs. Patient is first.</p>\\textbackslash{}n<p>Dentistry is a 4 year career (minimum - you never stop studying ) , but you have to have at least 2 years in College in a pre-dental program ( Sciences) before.\\textbackslash{}nFind more information here: http://www.ada.org/en/education-careers/careers-in-dentistry/be-a-dentist/high-school-student</p>\\textbackslash{}n<p>Good Luck!</p> \\\\\n",
       "\t27 & ba13b641f0344b81a81f0fac6e13556d & ea5ba6c268294e2c9566462ce929a0a9 & eb0027b3dcd04d88b76a493fc1558c15 & 2017-03-11 00:09:45 UTC+0000 & <p>Dental school would cost a lot more, but you make a lot more over your career.\\textbackslash{}nMy mom was a hygienist, and I am a dentist. Always jobs in both.  Hygienist is a good career for you if you want to have kids and work part time. You have plenty of time to decide</p> \\\\\n",
       "\t28 & a3ad8c30ef6b4cc3aaa4b706efaedde3 & 4a1516e61c3a498ba728a6792ff67983 & be0bac33e0594b21ac1f82fe2ffac7fb & 2018-07-09 02:49:22 UTC+0000 & <p>lakeya,</p><p><br></p><p>You have an excellent question.   As with most excellent questions, the answer is - it depends.  What does it depend on?  A couple things:</p><p><br></p><p>1)  Could your invention be a business?  - Not all inventions can.  Some inventions might solve a problem in a way that's superior to any other, but if it can't be scaled (e.g. can't be manufactured in a way that brings cost below price by a sustainable margin, is not sufficiently differentiated from competition to attract customers, market of potential customers is not large enough to justify start-up costs, etc.) then there's no business.  Keep in mind though - just because one person may not be able to turn an invention into a business doesn't mean it doesn't have value.   An invention could be patented and then sold (or licensed) to a company with complementary characteristics from which value could be derived from synergies between the invention and their existing product (e.g. the company already has an established presence in the target market of the invention, the company manufactures their existing product in a similar way such that existing infrastructure could be utilized). </p><p><br></p><p>2) Do you want to be an entrepreneur?   - If your invention could be a business that you could start yourself, the next question to ask is whether you want to be an entrepreneur.   Successful entrepreneurs often work long hours for long periods of time trying to get their businesses off the ground, and even then success is scarce.  Read about successful entrepreneurs (and unsuccessful entrepreneurs) to learn more about the sheer size of the risks and rewards involved, and whether such a lifestyle works for you (one insightful resource from an experienced entrepreneur - http://www.paulgraham.com/articles.html)</p><p><br></p><p>After careful reflection, if you're leaning toward 'yes' to both questions, then starting down the path of launching a business is next.  If not, then selling (or licensing) your inventions to another individual or company with the means to bring it to market might be the best path.  Whether you decide to start your own business or sell / license your invention as is, you'll likely want to apply for a patent.   Patenting a product is not cheap (https://www.legalzoom.com/articles/how-much-does-a-patent-cost), but it's likely much cheaper than costs needed to launch a business.  Here's a good article I stumbled across that may be helpful on the topic of applying for patents (https://www.entrepreneur.com/article/204918).</p><p><br></p><p>I'm far from an expert on this topic, but hopefully these thoughts help you find a path to more relevant resources.  Best of luck to you!</p> \\\\\n",
       "\t29 & 4c4e2542656c428d8fa5c8123fd3e7c8 & f65c1eac3d2846d1a05206be08477272 & be0bac33e0594b21ac1f82fe2ffac7fb & 2018-07-17 18:22:53 UTC+0000 & <p>A patent\\&nbsp; is a government authority or license conferring a right or title for a set period, especially the sole right to exclude others from making, using, or selling an invention.(got this from BING)\\&nbsp;So you only get paid if you own the idea or license. So you would need to find a patent attorney to patent your idea so that you have the right to sell it.\\&nbsp; So you can not sell it to a company until you have the patent which gives you ownership of the idea. IF\\&nbsp; you go to a company and share the idea with them they have no obligation to pay you for it unless you own the patent for that idea.</p> \\\\\n",
       "\t30 & c7b511c38e7540ab9b10b3e1f2b1ed70 & d3d51f244e054abc83099fdb32781975 & be0bac33e0594b21ac1f82fe2ffac7fb & 2018-07-18 02:43:10 UTC+0000 & <p>So some people see the universe as it is. Some look and see the holes. I've always been one to see the holes, the things that dont exist and COULD exist. The problem is, does the rest of the universe care?  I've spent my whole life seeing the holes and I've tried filling many of them. Most of the time the universe didn't care but on a few, I've had great success. The key to seeing a hole in the universe and filling it with your idea is the brand, the marketing and a lot of dumb luck. So if you're starting out, try to get someone to take your idea and run with it. You'll likely come across some greedy bastards who will steal it, but if the well is deep enough you'll come up with more. The odds of you knowing enough now to make it successful are pretty low. You'll need 20 years of dealing with greedy bastards to know how to do it all on your own. </p> \\\\\n",
       "\t$\\dots$ & $\\dots$ & $\\dots$ & $\\dots$ & $\\dots$ & $\\dots$ \\\\\n",
       "\\end{tabular}\n"
      ],
      "text/plain": [
       "51123×5 DataFrame. Omitted printing of 3 columns\n",
       "│ Row   │ answers_id                       │ answers_author_id                │\n",
       "│       │ \u001b[90mUnion{Missing, String}\u001b[39m           │ \u001b[90mUnion{Missing, String}\u001b[39m           │\n",
       "├───────┼──────────────────────────────────┼──────────────────────────────────┤\n",
       "│ 1     │ 4e5f01128cae4f6d8fd697cec5dca60c │ 36ff3b3666df400f956f8335cf53e09e │\n",
       "│ 2     │ ada720538c014e9b8a6dceed09385ee3 │ 2aa47af241bf42a4b874c453f0381bd4 │\n",
       "│ 3     │ eaa66ef919bc408ab5296237440e323f │ cbd8f30613a849bf918aed5c010340be │\n",
       "│ 4     │ 1a6b3749d391486c9e371fbd1e605014 │ 7e72a630c303442ba92ff00e8ea451df │\n",
       "│ 5     │ 5229c514000446d582050f89ebd4e184 │ 17802d94699140b0a0d2995f30c034c6 │\n",
       "│ 6     │ 5f62fadae80748c7907e3b0551bf4203 │ b03c3872daeb4a5cb1d8cd510942f0c4 │\n",
       "│ 7     │ 1d804b3b9e764cdd90195fb138d1a5aa │ f6c89fde797d45938bce3531f55c9b6b │\n",
       "│ 8     │ 08d3cf6fa20543ddbdc42f70a7bcae9e │ 5bc2db4d58584f95bdba30ed2c21d573 │\n",
       "│ 9     │ 9d33d099a03c44328fbf166aad585f63 │ 8136c8653d3a4895b49cac90b88120d2 │\n",
       "│ 10    │ 228e5feefb4e42188b7c48a5c7eb3aa8 │ 35c8d979b56647839c8df0f0383648cd │\n",
       "⋮\n",
       "│ 51113 │ e7c915c44afa4bf6abfd37ba9fc72fbd │ a71fdedfdb8a478cb19f6fdb761da215 │\n",
       "│ 51114 │ bab4cc0c6d84429a902077aad0146adb │ 84aad4b8fcd545a6b512935460ad9ed0 │\n",
       "│ 51115 │ c74b4d19700f4361a8d0ee78582d3e51 │ 177f482adc1a449284471f7c556ee8f0 │\n",
       "│ 51116 │ 72eaf4216d9c495891c0fd1246ab1138 │ 588f357fb2f74666b4fefbc9c6564b24 │\n",
       "│ 51117 │ 83458bf556a440868a515b2cdf689aec │ 3e97f9692b1f495cb09f937d59fe865f │\n",
       "│ 51118 │ 09c4e72858a94446ba55eca5feaea100 │ 10cca13647914a59b291fbb9cd91152a │\n",
       "│ 51119 │ 74d708859d7e4d8c9d330506733e1fc3 │ b08b41c9e3724b609930779875b6b284 │\n",
       "│ 51120 │ 2070acba9f89433fa7dd9bcdc5f12351 │ f1ca9370286248aba5aae737f92a07dd │\n",
       "│ 51121 │ 322bc9269c47467cbbee4f2b6b685ae2 │ 9798c8df06244283ba14d30978ec318a │\n",
       "│ 51122 │ e554bc001ece4cda9ef9524a83239fbc │ 597cd583fb1049deb9b68ce308a992a8 │\n",
       "│ 51123 │ 563bc22e715e42bfb4b6ef9c3a95fb23 │ 5750e3d592cd4b0486ec4e7eb01c29ad │"
      ]
     },
     "execution_count": 9,
     "metadata": {},
     "output_type": "execute_result"
    }
   ],
   "source": [
    "answers = explore_data(\"data/answers.csv\")"
   ]
  },
  {
   "cell_type": "markdown",
   "metadata": {},
   "source": [
    "### Comments"
   ]
  },
  {
   "cell_type": "code",
   "execution_count": 10,
   "metadata": {},
   "outputs": [
    {
     "data": {
      "text/plain": [
       "5-element Array{Symbol,1}:\n",
       " :comments_id               \n",
       " :comments_author_id        \n",
       " :comments_parent_content_id\n",
       " :comments_date_added       \n",
       " :comments_body             "
      ]
     },
     "metadata": {},
     "output_type": "display_data"
    },
    {
     "data": {
      "text/html": [
       "<table class=\"data-frame\"><thead><tr><th></th><th>comments_id</th><th>comments_author_id</th><th>comments_parent_content_id</th><th>comments_date_added</th><th>comments_body</th></tr><tr><th></th><th>String⍰</th><th>String⍰</th><th>String⍰</th><th>String⍰</th><th>String⍰</th></tr></thead><tbody><p>14,966 rows × 5 columns</p><tr><th>1</th><td>f30250d3c2ca489db1afa9b95d481e08</td><td>9fc88a7c3323466dbb35798264c7d497</td><td>b476f9c6d9cd4c50a7bacdd90edd015a</td><td>2019-01-31 23:39:40 UTC+0000</td><td>First, you speak to recruiters. They are trained and knowledgable on all the requirements for each branch of service and can do the research for you on the specific job that you are looking at. \\r\\n\\r\\nAdditionally, birds of a feather do flock together. In high school, you can join groups like the Civil Air Patrol. The Civil Air Patrol is the auxiliary of the Air Force and many former and retired Air Force member within their ranks.</td></tr><tr><th>2</th><td>ca9bfc4ba9464ea383a8b080301ad72c</td><td>de2415064b9b445c8717425ed70fd99a</td><td>ef4b6ae24d1f4c3b977731e8189c7fd7</td><td>2019-01-31 20:30:47 UTC+0000</td><td>Most large universities offer study abroad programs.  The study abroad programs are found on the schools website.  You may have to click into the Undergraduate or Graduate links.   I also recommend reaching out to the university counselors.  The have wealth of information and details that may not be on the website. \\r\\n\\r\\nMy son will be studying in France and Sweden next year through DePaul University.   The University of Southern California has a very strong international program in which most students participate.  It's a great opportunity to learn the culture of other countries while in school.</td></tr><tr><th>3</th><td>c354f6e33956499aa8b03798a60e9386</td><td>6ed20605002a42b0b8e3d6ac97c50c7f</td><td>ca7a9d7a95df471c816db82ee758f57d</td><td>2019-01-31 18:44:04 UTC+0000</td><td>First, I want to put you at ease that the opposite can happen.  My dormmate that I was paired with my freshman year of college turned into one of my very best friends.  Second, we lived with another girl during our sophomore year; a good friend of ours that lived next to us the previous year.  To us, she was the annoying dormmate that you are mentioning and we already knew her!  Sometimes it takes living with someone to learn their annoying habits.  We could have swapped if someone else agreed to swap with us.  Instead we tried to talk to her about it.  When it did not get better, my other dormmate and I strategized how we could avoid the annoying habits.  For instance, we agreed that the habits were most annoying when we were trying to study so we studied elsewhere.</td></tr><tr><th>4</th><td>73a6223948714c5da6231937157e4cb7</td><td>d02f6d9faac24997a7003a59e5f34bd3</td><td>c7a88aa76f5f49b0830bfeb46ba17e4d</td><td>2019-01-31 17:53:28 UTC+0000</td><td>Your question submission was great! I just wanted to point out that if you break your original question into separate and slightly more specific points (like \"In addition to the LSAT what is the Law School acceptance process like...\" you might also get some great Advice from our professionals. General questions are always welcome too, just make sure to leave some detail (like you did) of why you are interested etc. Welcome to the CareerVillage community!</td></tr><tr><th>5</th><td>55a89a9061d44dd19569c45f90a22779</td><td>e78f75c543e84e1c94da1801d8560f65</td><td>c7a88aa76f5f49b0830bfeb46ba17e4d</td><td>2019-01-31 14:51:53 UTC+0000</td><td>Thank you. I'm new to this site. I'm sorry if what I put out there is spam. I will for sure read through those forums.</td></tr><tr><th>6</th><td>3661006cdb6f4595b193b8d9fbe21228</td><td>d02f6d9faac24997a7003a59e5f34bd3</td><td>30901132449849b2aa18f308306e89a2</td><td>2019-01-30 23:15:54 UTC+0000</td><td>My pleasure! I'm so glad I was helpful!</td></tr><tr><th>7</th><td>2e0fd25e53bd4f6a838210d1addc50f3</td><td>da98e5a8fc6748ccac91d0951368e71f</td><td>5bf762c8501d450a97af992800980242</td><td>2019-01-30 18:03:00 UTC+0000</td><td>My suggestion is to fix a certain time to focus on studies and plan well.</td></tr><tr><th>8</th><td>82934dc63c7044b4922750024d8a51ca</td><td>a303c1c4faef4adda38fcd4c0d2bade1</td><td>dee2a0bb57f446578fc9c73b745c7b15</td><td>2019-01-29 18:01:00 UTC+0000</td><td>I have a different view from Ogechi's answer. It does not mean Ogechi is incorrect. It simply means that my view is a little different.\\r\\n\\r\\nI posted my answer below.</td></tr><tr><th>9</th><td>8e319089858640779761122f270e8449</td><td>4e7876eee5b947f39602db35f4dd8162</td><td>30901132449849b2aa18f308306e89a2</td><td>2019-01-29 15:14:38 UTC+0000</td><td>Thanks so much for your answer, Bryant and will start thinking about what you told me. You really helped me</td></tr><tr><th>10</th><td>9dc4c77e87bd406ba851628e290027b3</td><td>c1297398b70744f9a1a4ba200af28ebe</td><td>7ebb0e5e9b544c1eb0c96ffad1d73dfd</td><td>2019-01-29 08:29:30 UTC+0000</td><td>here’s another from a question 4 years ago\\r\\np\\r\\n\\r\\nGenerally speaking, Political Science is a very flexible major. The two most often-cited careers for PoliSci majors are:\\r\\n\\r\\nLaw \\r\\nGovernment and Politics (e.g., working for local, state, or federal agencies, or working for a political party, organization, or interest group, or political research organization or \"think tank\")\\r\\n If you want to join the police force, you often don't need a bachelor's degree (depends on your specific location). If you want to join a federal law enforcement agency, you might also want to consider majors including criminal justice as other great routes</td></tr><tr><th>11</th><td>4bdc14110fc74678a69fdaab390f74f1</td><td>c1297398b70744f9a1a4ba200af28ebe</td><td>7ebb0e5e9b544c1eb0c96ffad1d73dfd</td><td>2019-01-29 08:23:37 UTC+0000</td><td>i also found info from others about similar questions and i’m adding them here\\r\\n\\r\\n“Hi, Good question, a political degree can take you a lot of places...below is a good link with a lot of options: http://polisci.msu.edu/index.php/undergraduate-program/postgraduate-and-career-opportunities/careers\\r\\n\\r\\nAlso, PS degrees can be used for military or government service, politics of course, as an undergraduate degree for entry into law school and so much more...\\r\\n\\r\\nGood luck!”</td></tr><tr><th>12</th><td>a6d4765ddbe54d4f87237a6285c90549</td><td>93296e44f9064a20b0c84bd20d5157a2</td><td>9a4e52afed2647a7a3214c32dd93f9a1</td><td>2019-01-25 16:54:57 UTC+0000</td><td>I would have an employee appreciation day once a month.  I find that appreciation goes along way toward high performance.   At the end of the month, as a manager I would recognize top performers to the team and also award them in some way.  A few minutes offline time, opportunities for theme to share best practices, or employee spotlights throughout the industry.</td></tr><tr><th>13</th><td>4c0d96bd4a64413d88173c8ab4670bbc</td><td>a84d5899689c49eaaae28ffe0ff9ec69</td><td>827148e064e74b4ca740df1b4a1e48fc</td><td>2019-01-25 02:10:06 UTC+0000</td><td>Great answer. I second this! It's great that you are thinking about starting to make payments. \\r\\n\\r\\nIf you can, the most ideal situation is to do what you can to keep your student debt load low. Especially if you are going into a field that does not have high starting salaries.</td></tr><tr><th>14</th><td>a25ce8dfef1c435c92bcc10c67d85839</td><td>0b7d98c311994b91bb4adbabf0c5f1ef</td><td>730e22cf66cd439e9e594c33fe5ae6a8</td><td>2019-01-24 22:18:11 UTC+0000</td><td>I love that this is your path. many blessings to you! To add onto the first response, I was talking to my 16 year old about this on our way home from mid-week last night. At our church (CC Eastside), high school-age youth does not have a separate Sunday service; they sit in the main sanctuary with us. She asked her youth pastor why and his statement was quite simple... the best way to build a strong foundation is to engage with adults. easiest way to do that is to attend the same service they do. yes, there are your-centric activities and mid-week is youth only. but that bond with adults is really crucial to their spiritual growth.</td></tr><tr><th>15</th><td>2d0d7bbae9284457bd100070cc3579a1</td><td>bc9ed09bca654166ade5c94c7bac13de</td><td>13327ad8c45a4da390101e8057f801cd</td><td>2019-01-23 20:55:59 UTC+0000</td><td>Excellent points from the first advisor!  \\r\\n\\r\\nI would add, make your intentions known to your manager.  \\r\\nBe direct in letting them know you intend to advance and ask them if there is a pathway already established.  You can then reference it to understand what type of certifications, projects or leadership experience the next  level requires. \\r\\nAlso, letting your manager knows your intentions can gain you an advocate who will keep you in mind for opportunities that may come up for your advancement or skill building needs.</td></tr><tr><th>16</th><td>ac9675524e034ff2ba3e677860b64610</td><td>2694d61072bc46be9d657652403c3fb3</td><td>c05f7ba8d6164396902dc40472c4d5bc</td><td>2019-01-23 15:41:58 UTC+0000</td><td>Good day, Sabrina you have a nice name.  \\r\\n\\r\\nSmile - Carry a great attitude, realize the blessings from each person you encounter on campus and stay close with professors that you can form a bond with, including taking them again and carrying out research on ratemyprofessor.  \\r\\n\\r\\nActive - Staying active along the way with career counselors, academic advisors, job fairs are all sure ways to get in the field you want to.  Again smile, shake hands and keep a positive attitude when meeting people that simply want to help and know more about you.\\r\\n\\r\\nEnjoy - Enjoy yourself along the way, learn from your experiences, do not fear failure and be a dependable person that can be counted on to perform tasks, learn new things, and is trustworthy.\\r\\n\\r\\nStay positive and imaginative!\\r\\n\\r\\nTroy</td></tr><tr><th>17</th><td>266f17adb9ef488ab9da1131830112d3</td><td>a318b511dfdf4901a161d852531e59f4</td><td>7a144ffc39844b6bbf86fd6eadc9b0ad</td><td>2019-01-23 14:00:11 UTC+0000</td><td>Rene: Excellent question. When I started working at AT&amp;T I was hired to sit out at the front desk as a receptionist. Although I was not thrilled at the initial prospect of being a \"receptionist\" it worked out beautifully. I met everyone including people at the very top of the Company and, became the Office Manager. I am now Executive Assistant to an Officer. The point of this is that you want to get your foot in the door and develop your skill set. Learn everything  you can and meet as many people as possible. A favorite quote I have on my desk is \"If you can see your road clearly in front of you, it's probably someone else's.\" Wishing you the very best of success wherever the road leads you!</td></tr><tr><th>18</th><td>634c1c975e4e4f7582ccc5571663ea8f</td><td>9523c55195a040a2be119286a313ba42</td><td>6ec20e6e19c844de803d8e152ccc7f47</td><td>2019-01-23 06:03:49 UTC+0000</td><td>I agree with everything Dr. Phillips said.  As long as you meet all the science classes required to get in, almost any science major is fine.  I have a BS and MS in Animal Science (equine nutrition) and plan B was a Phd in Equine Nutrition.  But bio, chem, biochem and zoology are all good majors to prepare for vet school.</td></tr><tr><th>19</th><td>edb913ec8d6942caa43cd04c268163a2</td><td>249e879e748b4213861409bd37337e05</td><td>7ca4e81da5524d519b5a0607efc0f809</td><td>2019-01-23 05:18:11 UTC+0000</td><td>hello, i would like to know if i can do my research work in USA having my masters and bachelors from India. what are the requirements? I have my bachelors hons. and masters degree both in forensic science. i would like to pursue my research in the same area.</td></tr><tr><th>20</th><td>37283876bb4448c1bbfaccec9e04183c</td><td>93d6e474982c4ff4879aedbcf53c2463</td><td>83816ac4e2f849dea631e47368289200</td><td>2019-01-23 00:39:10 UTC+0000</td><td>I agree with Alyssa. I think if you are able, it's ok to start investing. In addition to the advice from Alyssa, I think mutual funds are a good. A mutual fund is a mix of investments managed by an individual company. When you invest, you don’t choose specific stocks or other securities; the mutual fund does it for you. The inherent diversification of mutual funds makes them generally less risky than individual stocks, but there are mutual funds available at all risk levels.\\r\\n\\r\\nIf you have a job that offers a retirement savings plan, I would also encourage you to consider this as a way to invest, at least up to the point that your employer matches your savings. You will typically have investment options for those funds as well.</td></tr><tr><th>21</th><td>1b7e42aa40254c898e607a616aff4b5b</td><td>8f3685dc9fe34ca3bef7eec561b602a2</td><td>c8d7779865bb4640822327e8026b01ee</td><td>2019-01-22 21:17:53 UTC+0000</td><td>Definitely want to echo the advice about online grocery shopping! It's incredibly valuable towards keeping to your budget and planning. (Not to mention some online only coupons!) It is much easier to keep track of your total due and prevents the dreaded \"register-returns\" when you lose track of your grand total.  Additionally, I'd recommend a journal of what groups on campus/ church / social groups have potlucks and freebies. I've always gone by the motto: \"If it's for free it's for me.\"</td></tr><tr><th>22</th><td>b509fe03632c4a4db3598ca68a84cab7</td><td>c258f388f42b4f608dd6fd8e9b6c1dd6</td><td>426fbb8a3bb147cea525f8c68bf9f84f</td><td>2019-01-22 20:16:12 UTC+0000</td><td>I HAVE ADDED A LITTLE MORE INFORMATION ON THE SUBJECT!</td></tr><tr><th>23</th><td>07bf273dc4964c8ea1b99c3e9245ac46</td><td>2ec53eda8116415784bb10d34d663215</td><td>5187f15cde794f0db73888e987eefb7c</td><td>2019-01-22 07:08:58 UTC+0000</td><td>You are so very welcome, Catherine T.  I wish you much happiness on this adventure.</td></tr><tr><th>24</th><td>d01b2dab63cd4a5eab2c5815fe62c3cf</td><td>e9e520a1e9d741819907586acbd3442d</td><td>5187f15cde794f0db73888e987eefb7c</td><td>2019-01-22 03:04:53 UTC+0000</td><td>Thank you, this is a really helpful answer! I will definitely try some of the suggestions you've given me; I've never thought of doing those before. Thank you again for the advice!</td></tr><tr><th>25</th><td>cebd94eefe4a4a9c9011a848c3f295cb</td><td>e9e520a1e9d741819907586acbd3442d</td><td>5f7be0347fca4fa8bcd245190c3c5f77</td><td>2019-01-22 03:02:53 UTC+0000</td><td>I really like your answer; thank you for sharing this with me. It does make sense that I'd have to put up with more negative environments in the beginning of my career and try to view them as learning experiences rather than solely acting on my emotions and my own discomfort. I could definitely adopt a more objective approach to the environment. Thank you again for your answer!</td></tr><tr><th>26</th><td>65bda2fd44c84547ac7447c1f93153bf</td><td>e9e520a1e9d741819907586acbd3442d</td><td>9a8dc9da02fe4e6dbd9de1e9bd6781a0</td><td>2019-01-22 03:00:29 UTC+0000</td><td>Thank you for the advice!</td></tr><tr><th>27</th><td>42cb38201ad54369b4dd6ee1228eb680</td><td>e9e520a1e9d741819907586acbd3442d</td><td>426fbb8a3bb147cea525f8c68bf9f84f</td><td>2019-01-22 02:59:48 UTC+0000</td><td>Thank you very much for the advice and sharing your personal experience with me! I appreciate it!</td></tr><tr><th>28</th><td>5156a7fdf2d643d8b533843923b2d57c</td><td>e9e520a1e9d741819907586acbd3442d</td><td>abab16b7b49a4798be5594d30fe1d3aa</td><td>2019-01-22 02:57:17 UTC+0000</td><td>This is truly an amazing answer; thank you for taking the time to share this advice with me. It's both comforting yet crazy to know that so many other people experience lack of appreciation in their work environments. I also really appreciate the list of options to consider if leaving isn't an immediate option. Again, thank you very much!</td></tr><tr><th>29</th><td>0ee22bed01144d3dac7abc02a24b1a9f</td><td>e9e520a1e9d741819907586acbd3442d</td><td>4d9d7f5214634b6a8167c9fe331f7b7b</td><td>2019-01-22 02:52:14 UTC+0000</td><td>Thank you for the advice.</td></tr><tr><th>30</th><td>f8a7098f654c43ba8b7b50e4eac32043</td><td>e9e520a1e9d741819907586acbd3442d</td><td>0da4738f68434b64ba1870b1b7567009</td><td>2019-01-22 02:51:19 UTC+0000</td><td>Thank you so much for your advice and encouragement! I'll definitely have to keep this in mind as I move forward and try to figure out what to do with my life.</td></tr><tr><th>&vellip;</th><td>&vellip;</td><td>&vellip;</td><td>&vellip;</td><td>&vellip;</td><td>&vellip;</td></tr></tbody></table>"
      ],
      "text/latex": [
       "\\begin{tabular}{r|ccccc}\n",
       "\t& comments\\_id & comments\\_author\\_id & comments\\_parent\\_content\\_id & comments\\_date\\_added & comments\\_body\\\\\n",
       "\t\\hline\n",
       "\t& String⍰ & String⍰ & String⍰ & String⍰ & String⍰\\\\\n",
       "\t\\hline\n",
       "\t1 & f30250d3c2ca489db1afa9b95d481e08 & 9fc88a7c3323466dbb35798264c7d497 & b476f9c6d9cd4c50a7bacdd90edd015a & 2019-01-31 23:39:40 UTC+0000 & First, you speak to recruiters. They are trained and knowledgable on all the requirements for each branch of service and can do the research for you on the specific job that you are looking at. \\textbackslash{}r\\textbackslash{}n\\textbackslash{}r\\textbackslash{}nAdditionally, birds of a feather do flock together. In high school, you can join groups like the Civil Air Patrol. The Civil Air Patrol is the auxiliary of the Air Force and many former and retired Air Force member within their ranks. \\\\\n",
       "\t2 & ca9bfc4ba9464ea383a8b080301ad72c & de2415064b9b445c8717425ed70fd99a & ef4b6ae24d1f4c3b977731e8189c7fd7 & 2019-01-31 20:30:47 UTC+0000 & Most large universities offer study abroad programs.  The study abroad programs are found on the schools website.  You may have to click into the Undergraduate or Graduate links.   I also recommend reaching out to the university counselors.  The have wealth of information and details that may not be on the website. \\textbackslash{}r\\textbackslash{}n\\textbackslash{}r\\textbackslash{}nMy son will be studying in France and Sweden next year through DePaul University.   The University of Southern California has a very strong international program in which most students participate.  It's a great opportunity to learn the culture of other countries while in school. \\\\\n",
       "\t3 & c354f6e33956499aa8b03798a60e9386 & 6ed20605002a42b0b8e3d6ac97c50c7f & ca7a9d7a95df471c816db82ee758f57d & 2019-01-31 18:44:04 UTC+0000 & First, I want to put you at ease that the opposite can happen.  My dormmate that I was paired with my freshman year of college turned into one of my very best friends.  Second, we lived with another girl during our sophomore year; a good friend of ours that lived next to us the previous year.  To us, she was the annoying dormmate that you are mentioning and we already knew her!  Sometimes it takes living with someone to learn their annoying habits.  We could have swapped if someone else agreed to swap with us.  Instead we tried to talk to her about it.  When it did not get better, my other dormmate and I strategized how we could avoid the annoying habits.  For instance, we agreed that the habits were most annoying when we were trying to study so we studied elsewhere. \\\\\n",
       "\t4 & 73a6223948714c5da6231937157e4cb7 & d02f6d9faac24997a7003a59e5f34bd3 & c7a88aa76f5f49b0830bfeb46ba17e4d & 2019-01-31 17:53:28 UTC+0000 & Your question submission was great! I just wanted to point out that if you break your original question into separate and slightly more specific points (like \"In addition to the LSAT what is the Law School acceptance process like...\" you might also get some great Advice from our professionals. General questions are always welcome too, just make sure to leave some detail (like you did) of why you are interested etc. Welcome to the CareerVillage community! \\\\\n",
       "\t5 & 55a89a9061d44dd19569c45f90a22779 & e78f75c543e84e1c94da1801d8560f65 & c7a88aa76f5f49b0830bfeb46ba17e4d & 2019-01-31 14:51:53 UTC+0000 & Thank you. I'm new to this site. I'm sorry if what I put out there is spam. I will for sure read through those forums. \\\\\n",
       "\t6 & 3661006cdb6f4595b193b8d9fbe21228 & d02f6d9faac24997a7003a59e5f34bd3 & 30901132449849b2aa18f308306e89a2 & 2019-01-30 23:15:54 UTC+0000 & My pleasure! I'm so glad I was helpful! \\\\\n",
       "\t7 & 2e0fd25e53bd4f6a838210d1addc50f3 & da98e5a8fc6748ccac91d0951368e71f & 5bf762c8501d450a97af992800980242 & 2019-01-30 18:03:00 UTC+0000 & My suggestion is to fix a certain time to focus on studies and plan well. \\\\\n",
       "\t8 & 82934dc63c7044b4922750024d8a51ca & a303c1c4faef4adda38fcd4c0d2bade1 & dee2a0bb57f446578fc9c73b745c7b15 & 2019-01-29 18:01:00 UTC+0000 & I have a different view from Ogechi's answer. It does not mean Ogechi is incorrect. It simply means that my view is a little different.\\textbackslash{}r\\textbackslash{}n\\textbackslash{}r\\textbackslash{}nI posted my answer below. \\\\\n",
       "\t9 & 8e319089858640779761122f270e8449 & 4e7876eee5b947f39602db35f4dd8162 & 30901132449849b2aa18f308306e89a2 & 2019-01-29 15:14:38 UTC+0000 & Thanks so much for your answer, Bryant and will start thinking about what you told me. You really helped me \\\\\n",
       "\t10 & 9dc4c77e87bd406ba851628e290027b3 & c1297398b70744f9a1a4ba200af28ebe & 7ebb0e5e9b544c1eb0c96ffad1d73dfd & 2019-01-29 08:29:30 UTC+0000 & here’s another from a question 4 years ago\\textbackslash{}r\\textbackslash{}np\\textbackslash{}r\\textbackslash{}n\\textbackslash{}r\\textbackslash{}nGenerally speaking, Political Science is a very flexible major. The two most often-cited careers for PoliSci majors are:\\textbackslash{}r\\textbackslash{}n\\textbackslash{}r\\textbackslash{}nLaw \\textbackslash{}r\\textbackslash{}nGovernment and Politics (e.g., working for local, state, or federal agencies, or working for a political party, organization, or interest group, or political research organization or \"think tank\")\\textbackslash{}r\\textbackslash{}n If you want to join the police force, you often don't need a bachelor's degree (depends on your specific location). If you want to join a federal law enforcement agency, you might also want to consider majors including criminal justice as other great routes \\\\\n",
       "\t11 & 4bdc14110fc74678a69fdaab390f74f1 & c1297398b70744f9a1a4ba200af28ebe & 7ebb0e5e9b544c1eb0c96ffad1d73dfd & 2019-01-29 08:23:37 UTC+0000 & i also found info from others about similar questions and i’m adding them here\\textbackslash{}r\\textbackslash{}n\\textbackslash{}r\\textbackslash{}n“Hi, Good question, a political degree can take you a lot of places...below is a good link with a lot of options: http://polisci.msu.edu/index.php/undergraduate-program/postgraduate-and-career-opportunities/careers\\textbackslash{}r\\textbackslash{}n\\textbackslash{}r\\textbackslash{}nAlso, PS degrees can be used for military or government service, politics of course, as an undergraduate degree for entry into law school and so much more...\\textbackslash{}r\\textbackslash{}n\\textbackslash{}r\\textbackslash{}nGood luck!” \\\\\n",
       "\t12 & a6d4765ddbe54d4f87237a6285c90549 & 93296e44f9064a20b0c84bd20d5157a2 & 9a4e52afed2647a7a3214c32dd93f9a1 & 2019-01-25 16:54:57 UTC+0000 & I would have an employee appreciation day once a month.  I find that appreciation goes along way toward high performance.   At the end of the month, as a manager I would recognize top performers to the team and also award them in some way.  A few minutes offline time, opportunities for theme to share best practices, or employee spotlights throughout the industry. \\\\\n",
       "\t13 & 4c0d96bd4a64413d88173c8ab4670bbc & a84d5899689c49eaaae28ffe0ff9ec69 & 827148e064e74b4ca740df1b4a1e48fc & 2019-01-25 02:10:06 UTC+0000 & Great answer. I second this! It's great that you are thinking about starting to make payments. \\textbackslash{}r\\textbackslash{}n\\textbackslash{}r\\textbackslash{}nIf you can, the most ideal situation is to do what you can to keep your student debt load low. Especially if you are going into a field that does not have high starting salaries. \\\\\n",
       "\t14 & a25ce8dfef1c435c92bcc10c67d85839 & 0b7d98c311994b91bb4adbabf0c5f1ef & 730e22cf66cd439e9e594c33fe5ae6a8 & 2019-01-24 22:18:11 UTC+0000 & I love that this is your path. many blessings to you! To add onto the first response, I was talking to my 16 year old about this on our way home from mid-week last night. At our church (CC Eastside), high school-age youth does not have a separate Sunday service; they sit in the main sanctuary with us. She asked her youth pastor why and his statement was quite simple... the best way to build a strong foundation is to engage with adults. easiest way to do that is to attend the same service they do. yes, there are your-centric activities and mid-week is youth only. but that bond with adults is really crucial to their spiritual growth. \\\\\n",
       "\t15 & 2d0d7bbae9284457bd100070cc3579a1 & bc9ed09bca654166ade5c94c7bac13de & 13327ad8c45a4da390101e8057f801cd & 2019-01-23 20:55:59 UTC+0000 & Excellent points from the first advisor!  \\textbackslash{}r\\textbackslash{}n\\textbackslash{}r\\textbackslash{}nI would add, make your intentions known to your manager.  \\textbackslash{}r\\textbackslash{}nBe direct in letting them know you intend to advance and ask them if there is a pathway already established.  You can then reference it to understand what type of certifications, projects or leadership experience the next  level requires. \\textbackslash{}r\\textbackslash{}nAlso, letting your manager knows your intentions can gain you an advocate who will keep you in mind for opportunities that may come up for your advancement or skill building needs. \\\\\n",
       "\t16 & ac9675524e034ff2ba3e677860b64610 & 2694d61072bc46be9d657652403c3fb3 & c05f7ba8d6164396902dc40472c4d5bc & 2019-01-23 15:41:58 UTC+0000 & Good day, Sabrina you have a nice name.  \\textbackslash{}r\\textbackslash{}n\\textbackslash{}r\\textbackslash{}nSmile - Carry a great attitude, realize the blessings from each person you encounter on campus and stay close with professors that you can form a bond with, including taking them again and carrying out research on ratemyprofessor.  \\textbackslash{}r\\textbackslash{}n\\textbackslash{}r\\textbackslash{}nActive - Staying active along the way with career counselors, academic advisors, job fairs are all sure ways to get in the field you want to.  Again smile, shake hands and keep a positive attitude when meeting people that simply want to help and know more about you.\\textbackslash{}r\\textbackslash{}n\\textbackslash{}r\\textbackslash{}nEnjoy - Enjoy yourself along the way, learn from your experiences, do not fear failure and be a dependable person that can be counted on to perform tasks, learn new things, and is trustworthy.\\textbackslash{}r\\textbackslash{}n\\textbackslash{}r\\textbackslash{}nStay positive and imaginative!\\textbackslash{}r\\textbackslash{}n\\textbackslash{}r\\textbackslash{}nTroy \\\\\n",
       "\t17 & 266f17adb9ef488ab9da1131830112d3 & a318b511dfdf4901a161d852531e59f4 & 7a144ffc39844b6bbf86fd6eadc9b0ad & 2019-01-23 14:00:11 UTC+0000 & Rene: Excellent question. When I started working at AT\\&T I was hired to sit out at the front desk as a receptionist. Although I was not thrilled at the initial prospect of being a \"receptionist\" it worked out beautifully. I met everyone including people at the very top of the Company and, became the Office Manager. I am now Executive Assistant to an Officer. The point of this is that you want to get your foot in the door and develop your skill set. Learn everything  you can and meet as many people as possible. A favorite quote I have on my desk is \"If you can see your road clearly in front of you, it's probably someone else's.\" Wishing you the very best of success wherever the road leads you! \\\\\n",
       "\t18 & 634c1c975e4e4f7582ccc5571663ea8f & 9523c55195a040a2be119286a313ba42 & 6ec20e6e19c844de803d8e152ccc7f47 & 2019-01-23 06:03:49 UTC+0000 & I agree with everything Dr. Phillips said.  As long as you meet all the science classes required to get in, almost any science major is fine.  I have a BS and MS in Animal Science (equine nutrition) and plan B was a Phd in Equine Nutrition.  But bio, chem, biochem and zoology are all good majors to prepare for vet school. \\\\\n",
       "\t19 & edb913ec8d6942caa43cd04c268163a2 & 249e879e748b4213861409bd37337e05 & 7ca4e81da5524d519b5a0607efc0f809 & 2019-01-23 05:18:11 UTC+0000 & hello, i would like to know if i can do my research work in USA having my masters and bachelors from India. what are the requirements? I have my bachelors hons. and masters degree both in forensic science. i would like to pursue my research in the same area. \\\\\n",
       "\t20 & 37283876bb4448c1bbfaccec9e04183c & 93d6e474982c4ff4879aedbcf53c2463 & 83816ac4e2f849dea631e47368289200 & 2019-01-23 00:39:10 UTC+0000 & I agree with Alyssa. I think if you are able, it's ok to start investing. In addition to the advice from Alyssa, I think mutual funds are a good. A mutual fund is a mix of investments managed by an individual company. When you invest, you don’t choose specific stocks or other securities; the mutual fund does it for you. The inherent diversification of mutual funds makes them generally less risky than individual stocks, but there are mutual funds available at all risk levels.\\textbackslash{}r\\textbackslash{}n\\textbackslash{}r\\textbackslash{}nIf you have a job that offers a retirement savings plan, I would also encourage you to consider this as a way to invest, at least up to the point that your employer matches your savings. You will typically have investment options for those funds as well. \\\\\n",
       "\t21 & 1b7e42aa40254c898e607a616aff4b5b & 8f3685dc9fe34ca3bef7eec561b602a2 & c8d7779865bb4640822327e8026b01ee & 2019-01-22 21:17:53 UTC+0000 & Definitely want to echo the advice about online grocery shopping! It's incredibly valuable towards keeping to your budget and planning. (Not to mention some online only coupons!) It is much easier to keep track of your total due and prevents the dreaded \"register-returns\" when you lose track of your grand total.  Additionally, I'd recommend a journal of what groups on campus/ church / social groups have potlucks and freebies. I've always gone by the motto: \"If it's for free it's for me.\" \\\\\n",
       "\t22 & b509fe03632c4a4db3598ca68a84cab7 & c258f388f42b4f608dd6fd8e9b6c1dd6 & 426fbb8a3bb147cea525f8c68bf9f84f & 2019-01-22 20:16:12 UTC+0000 & I HAVE ADDED A LITTLE MORE INFORMATION ON THE SUBJECT! \\\\\n",
       "\t23 & 07bf273dc4964c8ea1b99c3e9245ac46 & 2ec53eda8116415784bb10d34d663215 & 5187f15cde794f0db73888e987eefb7c & 2019-01-22 07:08:58 UTC+0000 & You are so very welcome, Catherine T.  I wish you much happiness on this adventure. \\\\\n",
       "\t24 & d01b2dab63cd4a5eab2c5815fe62c3cf & e9e520a1e9d741819907586acbd3442d & 5187f15cde794f0db73888e987eefb7c & 2019-01-22 03:04:53 UTC+0000 & Thank you, this is a really helpful answer! I will definitely try some of the suggestions you've given me; I've never thought of doing those before. Thank you again for the advice! \\\\\n",
       "\t25 & cebd94eefe4a4a9c9011a848c3f295cb & e9e520a1e9d741819907586acbd3442d & 5f7be0347fca4fa8bcd245190c3c5f77 & 2019-01-22 03:02:53 UTC+0000 & I really like your answer; thank you for sharing this with me. It does make sense that I'd have to put up with more negative environments in the beginning of my career and try to view them as learning experiences rather than solely acting on my emotions and my own discomfort. I could definitely adopt a more objective approach to the environment. Thank you again for your answer! \\\\\n",
       "\t26 & 65bda2fd44c84547ac7447c1f93153bf & e9e520a1e9d741819907586acbd3442d & 9a8dc9da02fe4e6dbd9de1e9bd6781a0 & 2019-01-22 03:00:29 UTC+0000 & Thank you for the advice! \\\\\n",
       "\t27 & 42cb38201ad54369b4dd6ee1228eb680 & e9e520a1e9d741819907586acbd3442d & 426fbb8a3bb147cea525f8c68bf9f84f & 2019-01-22 02:59:48 UTC+0000 & Thank you very much for the advice and sharing your personal experience with me! I appreciate it! \\\\\n",
       "\t28 & 5156a7fdf2d643d8b533843923b2d57c & e9e520a1e9d741819907586acbd3442d & abab16b7b49a4798be5594d30fe1d3aa & 2019-01-22 02:57:17 UTC+0000 & This is truly an amazing answer; thank you for taking the time to share this advice with me. It's both comforting yet crazy to know that so many other people experience lack of appreciation in their work environments. I also really appreciate the list of options to consider if leaving isn't an immediate option. Again, thank you very much! \\\\\n",
       "\t29 & 0ee22bed01144d3dac7abc02a24b1a9f & e9e520a1e9d741819907586acbd3442d & 4d9d7f5214634b6a8167c9fe331f7b7b & 2019-01-22 02:52:14 UTC+0000 & Thank you for the advice. \\\\\n",
       "\t30 & f8a7098f654c43ba8b7b50e4eac32043 & e9e520a1e9d741819907586acbd3442d & 0da4738f68434b64ba1870b1b7567009 & 2019-01-22 02:51:19 UTC+0000 & Thank you so much for your advice and encouragement! I'll definitely have to keep this in mind as I move forward and try to figure out what to do with my life. \\\\\n",
       "\t$\\dots$ & $\\dots$ & $\\dots$ & $\\dots$ & $\\dots$ & $\\dots$ \\\\\n",
       "\\end{tabular}\n"
      ],
      "text/plain": [
       "14966×5 DataFrame. Omitted printing of 3 columns\n",
       "│ Row   │ comments_id                      │ comments_author_id               │\n",
       "│       │ \u001b[90mUnion{Missing, String}\u001b[39m           │ \u001b[90mUnion{Missing, String}\u001b[39m           │\n",
       "├───────┼──────────────────────────────────┼──────────────────────────────────┤\n",
       "│ 1     │ f30250d3c2ca489db1afa9b95d481e08 │ 9fc88a7c3323466dbb35798264c7d497 │\n",
       "│ 2     │ ca9bfc4ba9464ea383a8b080301ad72c │ de2415064b9b445c8717425ed70fd99a │\n",
       "│ 3     │ c354f6e33956499aa8b03798a60e9386 │ 6ed20605002a42b0b8e3d6ac97c50c7f │\n",
       "│ 4     │ 73a6223948714c5da6231937157e4cb7 │ d02f6d9faac24997a7003a59e5f34bd3 │\n",
       "│ 5     │ 55a89a9061d44dd19569c45f90a22779 │ e78f75c543e84e1c94da1801d8560f65 │\n",
       "│ 6     │ 3661006cdb6f4595b193b8d9fbe21228 │ d02f6d9faac24997a7003a59e5f34bd3 │\n",
       "│ 7     │ 2e0fd25e53bd4f6a838210d1addc50f3 │ da98e5a8fc6748ccac91d0951368e71f │\n",
       "│ 8     │ 82934dc63c7044b4922750024d8a51ca │ a303c1c4faef4adda38fcd4c0d2bade1 │\n",
       "│ 9     │ 8e319089858640779761122f270e8449 │ 4e7876eee5b947f39602db35f4dd8162 │\n",
       "│ 10    │ 9dc4c77e87bd406ba851628e290027b3 │ c1297398b70744f9a1a4ba200af28ebe │\n",
       "⋮\n",
       "│ 14956 │ 57c16197fe524721b10f93c23059cf5d │ 05444a2f42454327b2ac4b463c0adbe0 │\n",
       "│ 14957 │ e481eac4715f43d185bc83d53b07f431 │ 392a273cb57b42389ec01a8fcdaff3af │\n",
       "│ 14958 │ 6a9467a84c6a4c8f80256990ab3fca50 │ 05444a2f42454327b2ac4b463c0adbe0 │\n",
       "│ 14959 │ 3fd43d299fe84e88bb0b0e2ed1c874eb │ 05444a2f42454327b2ac4b463c0adbe0 │\n",
       "│ 14960 │ 8335fc1c605f4da18ee0b0f1c5740dc2 │ 392a273cb57b42389ec01a8fcdaff3af │\n",
       "│ 14961 │ f256775222544f3a90379ce1da635cab │ 392a273cb57b42389ec01a8fcdaff3af │\n",
       "│ 14962 │ 895427c2eb474120b6d50a2aee799dae │ 392a273cb57b42389ec01a8fcdaff3af │\n",
       "│ 14963 │ 6a91b1a7f1ff445c899c6ab2a1dcf0ae │ 977428d851b24183b223be0eb8619a8c │\n",
       "│ 14964 │ d9e35cd966f44590a4804df8d5accd1d │ 392a273cb57b42389ec01a8fcdaff3af │\n",
       "│ 14965 │ 90e60bb28a4b4c0e8fb88c7308d99975 │ 977428d851b24183b223be0eb8619a8c │\n",
       "│ 14966 │ cdb4a1d2326a4bc5b5c2f13da7fdff08 │ 392a273cb57b42389ec01a8fcdaff3af │"
      ]
     },
     "execution_count": 10,
     "metadata": {},
     "output_type": "execute_result"
    }
   ],
   "source": [
    "comments = explore_data(\"data/comments.csv\")"
   ]
  },
  {
   "cell_type": "markdown",
   "metadata": {},
   "source": [
    "### Emails"
   ]
  },
  {
   "cell_type": "code",
   "execution_count": 11,
   "metadata": {},
   "outputs": [
    {
     "data": {
      "text/plain": [
       "4-element Array{Symbol,1}:\n",
       " :emails_id             \n",
       " :emails_recipient_id   \n",
       " :emails_date_sent      \n",
       " :emails_frequency_level"
      ]
     },
     "metadata": {},
     "output_type": "display_data"
    },
    {
     "data": {
      "text/html": [
       "<table class=\"data-frame\"><thead><tr><th></th><th>emails_id</th><th>emails_recipient_id</th><th>emails_date_sent</th><th>emails_frequency_level</th></tr><tr><th></th><th>Int64⍰</th><th>String⍰</th><th>String⍰</th><th>String⍰</th></tr></thead><tbody><p>1,850,101 rows × 4 columns</p><tr><th>1</th><td>2337714</td><td>0c673e046d824ec0ad0ebe012a0673e4</td><td>2018-12-07 01:05:40 UTC+0000</td><td>email_notification_daily</td></tr><tr><th>2</th><td>2336077</td><td>0c673e046d824ec0ad0ebe012a0673e4</td><td>2018-12-06 01:14:15 UTC+0000</td><td>email_notification_daily</td></tr><tr><th>3</th><td>2314660</td><td>0c673e046d824ec0ad0ebe012a0673e4</td><td>2018-11-17 00:38:27 UTC+0000</td><td>email_notification_daily</td></tr><tr><th>4</th><td>2312639</td><td>0c673e046d824ec0ad0ebe012a0673e4</td><td>2018-11-16 00:32:19 UTC+0000</td><td>email_notification_daily</td></tr><tr><th>5</th><td>2299700</td><td>0c673e046d824ec0ad0ebe012a0673e4</td><td>2018-11-08 00:16:40 UTC+0000</td><td>email_notification_daily</td></tr><tr><th>6</th><td>2288533</td><td>0c673e046d824ec0ad0ebe012a0673e4</td><td>2018-11-02 23:02:12 UTC+0000</td><td>email_notification_daily</td></tr><tr><th>7</th><td>2280818</td><td>0c673e046d824ec0ad0ebe012a0673e4</td><td>2018-10-30 00:54:31 UTC+0000</td><td>email_notification_daily</td></tr><tr><th>8</th><td>2270520</td><td>0c673e046d824ec0ad0ebe012a0673e4</td><td>2018-10-25 23:44:41 UTC+0000</td><td>email_notification_daily</td></tr><tr><th>9</th><td>2269277</td><td>0c673e046d824ec0ad0ebe012a0673e4</td><td>2018-10-25 02:46:00 UTC+0000</td><td>email_notification_daily</td></tr><tr><th>10</th><td>2267396</td><td>0c673e046d824ec0ad0ebe012a0673e4</td><td>2018-10-24 04:42:34 UTC+0000</td><td>email_notification_daily</td></tr><tr><th>11</th><td>2261890</td><td>0c673e046d824ec0ad0ebe012a0673e4</td><td>2018-10-21 23:46:59 UTC+0000</td><td>email_notification_daily</td></tr><tr><th>12</th><td>2255961</td><td>0c673e046d824ec0ad0ebe012a0673e4</td><td>2018-10-19 03:18:57 UTC+0000</td><td>email_notification_daily</td></tr><tr><th>13</th><td>2250050</td><td>0c673e046d824ec0ad0ebe012a0673e4</td><td>2018-10-17 01:09:40 UTC+0000</td><td>email_notification_daily</td></tr><tr><th>14</th><td>2248194</td><td>0c673e046d824ec0ad0ebe012a0673e4</td><td>2018-10-16 03:04:22 UTC+0000</td><td>email_notification_daily</td></tr><tr><th>15</th><td>2245565</td><td>0c673e046d824ec0ad0ebe012a0673e4</td><td>2018-10-15 02:52:55 UTC+0000</td><td>email_notification_daily</td></tr><tr><th>16</th><td>2242948</td><td>0c673e046d824ec0ad0ebe012a0673e4</td><td>2018-10-14 02:37:52 UTC+0000</td><td>email_notification_daily</td></tr><tr><th>17</th><td>2238696</td><td>0c673e046d824ec0ad0ebe012a0673e4</td><td>2018-10-12 01:49:37 UTC+0000</td><td>email_notification_daily</td></tr><tr><th>18</th><td>2231385</td><td>0c673e046d824ec0ad0ebe012a0673e4</td><td>2018-10-09 03:25:51 UTC+0000</td><td>email_notification_daily</td></tr><tr><th>19</th><td>2226800</td><td>0c673e046d824ec0ad0ebe012a0673e4</td><td>2018-10-08 00:17:40 UTC+0000</td><td>email_notification_daily</td></tr><tr><th>20</th><td>2222267</td><td>0c673e046d824ec0ad0ebe012a0673e4</td><td>2018-10-06 03:59:49 UTC+0000</td><td>email_notification_daily</td></tr><tr><th>21</th><td>2206244</td><td>0c673e046d824ec0ad0ebe012a0673e4</td><td>2018-09-22 00:10:35 UTC+0000</td><td>email_notification_daily</td></tr><tr><th>22</th><td>2203490</td><td>0c673e046d824ec0ad0ebe012a0673e4</td><td>2018-09-21 01:11:18 UTC+0000</td><td>email_notification_daily</td></tr><tr><th>23</th><td>2200417</td><td>0c673e046d824ec0ad0ebe012a0673e4</td><td>2018-09-20 00:36:48 UTC+0000</td><td>email_notification_daily</td></tr><tr><th>24</th><td>2199087</td><td>0c673e046d824ec0ad0ebe012a0673e4</td><td>2018-09-19 03:32:19 UTC+0000</td><td>email_notification_daily</td></tr><tr><th>25</th><td>2192620</td><td>0c673e046d824ec0ad0ebe012a0673e4</td><td>2018-09-16 23:31:08 UTC+0000</td><td>email_notification_daily</td></tr><tr><th>26</th><td>2183522</td><td>0c673e046d824ec0ad0ebe012a0673e4</td><td>2018-09-13 01:26:36 UTC+0000</td><td>email_notification_daily</td></tr><tr><th>27</th><td>2173838</td><td>0c673e046d824ec0ad0ebe012a0673e4</td><td>2018-09-09 01:42:59 UTC+0000</td><td>email_notification_daily</td></tr><tr><th>28</th><td>2170184</td><td>0c673e046d824ec0ad0ebe012a0673e4</td><td>2018-09-08 00:41:59 UTC+0000</td><td>email_notification_daily</td></tr><tr><th>29</th><td>2168319</td><td>0c673e046d824ec0ad0ebe012a0673e4</td><td>2018-09-07 04:56:13 UTC+0000</td><td>email_notification_daily</td></tr><tr><th>30</th><td>2164724</td><td>0c673e046d824ec0ad0ebe012a0673e4</td><td>2018-09-06 05:13:40 UTC+0000</td><td>email_notification_daily</td></tr><tr><th>&vellip;</th><td>&vellip;</td><td>&vellip;</td><td>&vellip;</td><td>&vellip;</td></tr></tbody></table>"
      ],
      "text/latex": [
       "\\begin{tabular}{r|cccc}\n",
       "\t& emails\\_id & emails\\_recipient\\_id & emails\\_date\\_sent & emails\\_frequency\\_level\\\\\n",
       "\t\\hline\n",
       "\t& Int64⍰ & String⍰ & String⍰ & String⍰\\\\\n",
       "\t\\hline\n",
       "\t1 & 2337714 & 0c673e046d824ec0ad0ebe012a0673e4 & 2018-12-07 01:05:40 UTC+0000 & email\\_notification\\_daily \\\\\n",
       "\t2 & 2336077 & 0c673e046d824ec0ad0ebe012a0673e4 & 2018-12-06 01:14:15 UTC+0000 & email\\_notification\\_daily \\\\\n",
       "\t3 & 2314660 & 0c673e046d824ec0ad0ebe012a0673e4 & 2018-11-17 00:38:27 UTC+0000 & email\\_notification\\_daily \\\\\n",
       "\t4 & 2312639 & 0c673e046d824ec0ad0ebe012a0673e4 & 2018-11-16 00:32:19 UTC+0000 & email\\_notification\\_daily \\\\\n",
       "\t5 & 2299700 & 0c673e046d824ec0ad0ebe012a0673e4 & 2018-11-08 00:16:40 UTC+0000 & email\\_notification\\_daily \\\\\n",
       "\t6 & 2288533 & 0c673e046d824ec0ad0ebe012a0673e4 & 2018-11-02 23:02:12 UTC+0000 & email\\_notification\\_daily \\\\\n",
       "\t7 & 2280818 & 0c673e046d824ec0ad0ebe012a0673e4 & 2018-10-30 00:54:31 UTC+0000 & email\\_notification\\_daily \\\\\n",
       "\t8 & 2270520 & 0c673e046d824ec0ad0ebe012a0673e4 & 2018-10-25 23:44:41 UTC+0000 & email\\_notification\\_daily \\\\\n",
       "\t9 & 2269277 & 0c673e046d824ec0ad0ebe012a0673e4 & 2018-10-25 02:46:00 UTC+0000 & email\\_notification\\_daily \\\\\n",
       "\t10 & 2267396 & 0c673e046d824ec0ad0ebe012a0673e4 & 2018-10-24 04:42:34 UTC+0000 & email\\_notification\\_daily \\\\\n",
       "\t11 & 2261890 & 0c673e046d824ec0ad0ebe012a0673e4 & 2018-10-21 23:46:59 UTC+0000 & email\\_notification\\_daily \\\\\n",
       "\t12 & 2255961 & 0c673e046d824ec0ad0ebe012a0673e4 & 2018-10-19 03:18:57 UTC+0000 & email\\_notification\\_daily \\\\\n",
       "\t13 & 2250050 & 0c673e046d824ec0ad0ebe012a0673e4 & 2018-10-17 01:09:40 UTC+0000 & email\\_notification\\_daily \\\\\n",
       "\t14 & 2248194 & 0c673e046d824ec0ad0ebe012a0673e4 & 2018-10-16 03:04:22 UTC+0000 & email\\_notification\\_daily \\\\\n",
       "\t15 & 2245565 & 0c673e046d824ec0ad0ebe012a0673e4 & 2018-10-15 02:52:55 UTC+0000 & email\\_notification\\_daily \\\\\n",
       "\t16 & 2242948 & 0c673e046d824ec0ad0ebe012a0673e4 & 2018-10-14 02:37:52 UTC+0000 & email\\_notification\\_daily \\\\\n",
       "\t17 & 2238696 & 0c673e046d824ec0ad0ebe012a0673e4 & 2018-10-12 01:49:37 UTC+0000 & email\\_notification\\_daily \\\\\n",
       "\t18 & 2231385 & 0c673e046d824ec0ad0ebe012a0673e4 & 2018-10-09 03:25:51 UTC+0000 & email\\_notification\\_daily \\\\\n",
       "\t19 & 2226800 & 0c673e046d824ec0ad0ebe012a0673e4 & 2018-10-08 00:17:40 UTC+0000 & email\\_notification\\_daily \\\\\n",
       "\t20 & 2222267 & 0c673e046d824ec0ad0ebe012a0673e4 & 2018-10-06 03:59:49 UTC+0000 & email\\_notification\\_daily \\\\\n",
       "\t21 & 2206244 & 0c673e046d824ec0ad0ebe012a0673e4 & 2018-09-22 00:10:35 UTC+0000 & email\\_notification\\_daily \\\\\n",
       "\t22 & 2203490 & 0c673e046d824ec0ad0ebe012a0673e4 & 2018-09-21 01:11:18 UTC+0000 & email\\_notification\\_daily \\\\\n",
       "\t23 & 2200417 & 0c673e046d824ec0ad0ebe012a0673e4 & 2018-09-20 00:36:48 UTC+0000 & email\\_notification\\_daily \\\\\n",
       "\t24 & 2199087 & 0c673e046d824ec0ad0ebe012a0673e4 & 2018-09-19 03:32:19 UTC+0000 & email\\_notification\\_daily \\\\\n",
       "\t25 & 2192620 & 0c673e046d824ec0ad0ebe012a0673e4 & 2018-09-16 23:31:08 UTC+0000 & email\\_notification\\_daily \\\\\n",
       "\t26 & 2183522 & 0c673e046d824ec0ad0ebe012a0673e4 & 2018-09-13 01:26:36 UTC+0000 & email\\_notification\\_daily \\\\\n",
       "\t27 & 2173838 & 0c673e046d824ec0ad0ebe012a0673e4 & 2018-09-09 01:42:59 UTC+0000 & email\\_notification\\_daily \\\\\n",
       "\t28 & 2170184 & 0c673e046d824ec0ad0ebe012a0673e4 & 2018-09-08 00:41:59 UTC+0000 & email\\_notification\\_daily \\\\\n",
       "\t29 & 2168319 & 0c673e046d824ec0ad0ebe012a0673e4 & 2018-09-07 04:56:13 UTC+0000 & email\\_notification\\_daily \\\\\n",
       "\t30 & 2164724 & 0c673e046d824ec0ad0ebe012a0673e4 & 2018-09-06 05:13:40 UTC+0000 & email\\_notification\\_daily \\\\\n",
       "\t$\\dots$ & $\\dots$ & $\\dots$ & $\\dots$ & $\\dots$ \\\\\n",
       "\\end{tabular}\n"
      ],
      "text/plain": [
       "1850101×4 DataFrame. Omitted printing of 2 columns\n",
       "│ Row     │ emails_id │ emails_recipient_id              │\n",
       "│         │ \u001b[90mInt64⍰\u001b[39m    │ \u001b[90mUnion{Missing, String}\u001b[39m           │\n",
       "├─────────┼───────────┼──────────────────────────────────┤\n",
       "│ 1       │ 2337714   │ 0c673e046d824ec0ad0ebe012a0673e4 │\n",
       "│ 2       │ 2336077   │ 0c673e046d824ec0ad0ebe012a0673e4 │\n",
       "│ 3       │ 2314660   │ 0c673e046d824ec0ad0ebe012a0673e4 │\n",
       "│ 4       │ 2312639   │ 0c673e046d824ec0ad0ebe012a0673e4 │\n",
       "│ 5       │ 2299700   │ 0c673e046d824ec0ad0ebe012a0673e4 │\n",
       "│ 6       │ 2288533   │ 0c673e046d824ec0ad0ebe012a0673e4 │\n",
       "│ 7       │ 2280818   │ 0c673e046d824ec0ad0ebe012a0673e4 │\n",
       "│ 8       │ 2270520   │ 0c673e046d824ec0ad0ebe012a0673e4 │\n",
       "│ 9       │ 2269277   │ 0c673e046d824ec0ad0ebe012a0673e4 │\n",
       "│ 10      │ 2267396   │ 0c673e046d824ec0ad0ebe012a0673e4 │\n",
       "⋮\n",
       "│ 1850091 │ 2409449   │ d2626b8488324164abb7d5cc27080d86 │\n",
       "│ 1850092 │ 2409748   │ 15fcaf531fa9477d9b2a4bf8ae095509 │\n",
       "│ 1850093 │ 2409755   │ a756259dd0204dc788c076590b319ae9 │\n",
       "│ 1850094 │ 2408580   │ 9baaedbff57645bf8ec91572c9f71868 │\n",
       "│ 1850095 │ 2408373   │ 016e9df628874c34a36abd35002a3ee8 │\n",
       "│ 1850096 │ 2408098   │ d005bbc04c914a44bb2c5192eb842f96 │\n",
       "│ 1850097 │ 2409293   │ de40a9dc047c4cf3acdf9756af10462c │\n",
       "│ 1850098 │ 2409400   │ eee7985edfc64e0494b1424fed2136b8 │\n",
       "│ 1850099 │ 2409811   │ d6eec2d641424aa8ac2875c701c3b168 │\n",
       "│ 1850100 │ 2409736   │ 7dd5060696844838ba4fbad3246a6d3e │\n",
       "│ 1850101 │ 2409773   │ 5157275d7d6f49e89147673f6663eb7c │"
      ]
     },
     "execution_count": 11,
     "metadata": {},
     "output_type": "execute_result"
    }
   ],
   "source": [
    "emails = explore_data(\"data/emails.csv\")"
   ]
  },
  {
   "cell_type": "markdown",
   "metadata": {},
   "source": [
    "### Memberships"
   ]
  },
  {
   "cell_type": "code",
   "execution_count": 12,
   "metadata": {},
   "outputs": [
    {
     "data": {
      "text/plain": [
       "2-element Array{Symbol,1}:\n",
       " :group_memberships_group_id\n",
       " :group_memberships_user_id "
      ]
     },
     "metadata": {},
     "output_type": "display_data"
    },
    {
     "data": {
      "text/html": [
       "<table class=\"data-frame\"><thead><tr><th></th><th>group_memberships_group_id</th><th>group_memberships_user_id</th></tr><tr><th></th><th>String⍰</th><th>String⍰</th></tr></thead><tbody><p>1,038 rows × 2 columns</p><tr><th>1</th><td>eabbdf4029734c848a9da20779637d03</td><td>9a5aead62c344207b2624dba90985dc5</td></tr><tr><th>2</th><td>eabbdf4029734c848a9da20779637d03</td><td>ea7122da1c7b4244a2184a4f9f944053</td></tr><tr><th>3</th><td>eabbdf4029734c848a9da20779637d03</td><td>cba603f34acb4a40b3ccb53fe6681b5d</td></tr><tr><th>4</th><td>eabbdf4029734c848a9da20779637d03</td><td>fa9a126e63714641ae0145557a390cab</td></tr><tr><th>5</th><td>eabbdf4029734c848a9da20779637d03</td><td>299da113c5d1420ab525106c242c9429</td></tr><tr><th>6</th><td>7080bf8dcf78463bb03e6863887fd715</td><td>836a747118d6436caf56ff3a3c47289a</td></tr><tr><th>7</th><td>7080bf8dcf78463bb03e6863887fd715</td><td>82cf96ae74fa4b3a8ffd8a74446c08ca</td></tr><tr><th>8</th><td>7080bf8dcf78463bb03e6863887fd715</td><td>b0f6c44506444fb99e910dcc5836b5d8</td></tr><tr><th>9</th><td>bc6fc50a2b444efc8ec47111b290ffb8</td><td>ab8d405cfdab4faf83ffe7f83944a87b</td></tr><tr><th>10</th><td>bc6fc50a2b444efc8ec47111b290ffb8</td><td>370dba85f183496186772be0c53a69b1</td></tr><tr><th>11</th><td>bc6fc50a2b444efc8ec47111b290ffb8</td><td>ff165c6b122b47b9a5d4db2504086460</td></tr><tr><th>12</th><td>bc6fc50a2b444efc8ec47111b290ffb8</td><td>4d7b8bf7e9c547a4a49c39114cd378e0</td></tr><tr><th>13</th><td>bc6fc50a2b444efc8ec47111b290ffb8</td><td>25b0211225e5436cacdfa360c47923eb</td></tr><tr><th>14</th><td>bc6fc50a2b444efc8ec47111b290ffb8</td><td>900fabec471b4390a2f236dd149d3289</td></tr><tr><th>15</th><td>bc6fc50a2b444efc8ec47111b290ffb8</td><td>ba4c2067fc9d47db95c021a5a7b83acf</td></tr><tr><th>16</th><td>bc6fc50a2b444efc8ec47111b290ffb8</td><td>2037358605a34ccf971bd857efc63d82</td></tr><tr><th>17</th><td>bc6fc50a2b444efc8ec47111b290ffb8</td><td>a48ce3eed4ca43439066add35ea28b89</td></tr><tr><th>18</th><td>bc6fc50a2b444efc8ec47111b290ffb8</td><td>6dd15920ae1342d9bfe4c03ae498ba79</td></tr><tr><th>19</th><td>bc6fc50a2b444efc8ec47111b290ffb8</td><td>2e1b81da118c485a907aebe8cd00defb</td></tr><tr><th>20</th><td>bc6fc50a2b444efc8ec47111b290ffb8</td><td>1ab788388ebd4b6fa60577651604b331</td></tr><tr><th>21</th><td>bc6fc50a2b444efc8ec47111b290ffb8</td><td>338635b17df248b3959ab4d5423cc6f3</td></tr><tr><th>22</th><td>bc6fc50a2b444efc8ec47111b290ffb8</td><td>6804f8b34cd9457fb3f1bbd6ee0f4fa9</td></tr><tr><th>23</th><td>bc6fc50a2b444efc8ec47111b290ffb8</td><td>3582658c92e5432b849f6da00a8a1e4a</td></tr><tr><th>24</th><td>bc6fc50a2b444efc8ec47111b290ffb8</td><td>984de094ed3144a3b9e389a1b125465b</td></tr><tr><th>25</th><td>bc6fc50a2b444efc8ec47111b290ffb8</td><td>5a14109840c24b21b81eec989db259f6</td></tr><tr><th>26</th><td>bc6fc50a2b444efc8ec47111b290ffb8</td><td>dcb47b7b2f534196a7339f161198c125</td></tr><tr><th>27</th><td>bc6fc50a2b444efc8ec47111b290ffb8</td><td>1009f4edd679418faf1532a0b77733ae</td></tr><tr><th>28</th><td>bc6fc50a2b444efc8ec47111b290ffb8</td><td>e250f84df134459faab2187e01c1b39e</td></tr><tr><th>29</th><td>bc6fc50a2b444efc8ec47111b290ffb8</td><td>8f0d5eef37dc432a8597eaf2078c2b20</td></tr><tr><th>30</th><td>bc6fc50a2b444efc8ec47111b290ffb8</td><td>e3e0ef78006d440c892e26cfca963dd0</td></tr><tr><th>&vellip;</th><td>&vellip;</td><td>&vellip;</td></tr></tbody></table>"
      ],
      "text/latex": [
       "\\begin{tabular}{r|cc}\n",
       "\t& group\\_memberships\\_group\\_id & group\\_memberships\\_user\\_id\\\\\n",
       "\t\\hline\n",
       "\t& String⍰ & String⍰\\\\\n",
       "\t\\hline\n",
       "\t1 & eabbdf4029734c848a9da20779637d03 & 9a5aead62c344207b2624dba90985dc5 \\\\\n",
       "\t2 & eabbdf4029734c848a9da20779637d03 & ea7122da1c7b4244a2184a4f9f944053 \\\\\n",
       "\t3 & eabbdf4029734c848a9da20779637d03 & cba603f34acb4a40b3ccb53fe6681b5d \\\\\n",
       "\t4 & eabbdf4029734c848a9da20779637d03 & fa9a126e63714641ae0145557a390cab \\\\\n",
       "\t5 & eabbdf4029734c848a9da20779637d03 & 299da113c5d1420ab525106c242c9429 \\\\\n",
       "\t6 & 7080bf8dcf78463bb03e6863887fd715 & 836a747118d6436caf56ff3a3c47289a \\\\\n",
       "\t7 & 7080bf8dcf78463bb03e6863887fd715 & 82cf96ae74fa4b3a8ffd8a74446c08ca \\\\\n",
       "\t8 & 7080bf8dcf78463bb03e6863887fd715 & b0f6c44506444fb99e910dcc5836b5d8 \\\\\n",
       "\t9 & bc6fc50a2b444efc8ec47111b290ffb8 & ab8d405cfdab4faf83ffe7f83944a87b \\\\\n",
       "\t10 & bc6fc50a2b444efc8ec47111b290ffb8 & 370dba85f183496186772be0c53a69b1 \\\\\n",
       "\t11 & bc6fc50a2b444efc8ec47111b290ffb8 & ff165c6b122b47b9a5d4db2504086460 \\\\\n",
       "\t12 & bc6fc50a2b444efc8ec47111b290ffb8 & 4d7b8bf7e9c547a4a49c39114cd378e0 \\\\\n",
       "\t13 & bc6fc50a2b444efc8ec47111b290ffb8 & 25b0211225e5436cacdfa360c47923eb \\\\\n",
       "\t14 & bc6fc50a2b444efc8ec47111b290ffb8 & 900fabec471b4390a2f236dd149d3289 \\\\\n",
       "\t15 & bc6fc50a2b444efc8ec47111b290ffb8 & ba4c2067fc9d47db95c021a5a7b83acf \\\\\n",
       "\t16 & bc6fc50a2b444efc8ec47111b290ffb8 & 2037358605a34ccf971bd857efc63d82 \\\\\n",
       "\t17 & bc6fc50a2b444efc8ec47111b290ffb8 & a48ce3eed4ca43439066add35ea28b89 \\\\\n",
       "\t18 & bc6fc50a2b444efc8ec47111b290ffb8 & 6dd15920ae1342d9bfe4c03ae498ba79 \\\\\n",
       "\t19 & bc6fc50a2b444efc8ec47111b290ffb8 & 2e1b81da118c485a907aebe8cd00defb \\\\\n",
       "\t20 & bc6fc50a2b444efc8ec47111b290ffb8 & 1ab788388ebd4b6fa60577651604b331 \\\\\n",
       "\t21 & bc6fc50a2b444efc8ec47111b290ffb8 & 338635b17df248b3959ab4d5423cc6f3 \\\\\n",
       "\t22 & bc6fc50a2b444efc8ec47111b290ffb8 & 6804f8b34cd9457fb3f1bbd6ee0f4fa9 \\\\\n",
       "\t23 & bc6fc50a2b444efc8ec47111b290ffb8 & 3582658c92e5432b849f6da00a8a1e4a \\\\\n",
       "\t24 & bc6fc50a2b444efc8ec47111b290ffb8 & 984de094ed3144a3b9e389a1b125465b \\\\\n",
       "\t25 & bc6fc50a2b444efc8ec47111b290ffb8 & 5a14109840c24b21b81eec989db259f6 \\\\\n",
       "\t26 & bc6fc50a2b444efc8ec47111b290ffb8 & dcb47b7b2f534196a7339f161198c125 \\\\\n",
       "\t27 & bc6fc50a2b444efc8ec47111b290ffb8 & 1009f4edd679418faf1532a0b77733ae \\\\\n",
       "\t28 & bc6fc50a2b444efc8ec47111b290ffb8 & e250f84df134459faab2187e01c1b39e \\\\\n",
       "\t29 & bc6fc50a2b444efc8ec47111b290ffb8 & 8f0d5eef37dc432a8597eaf2078c2b20 \\\\\n",
       "\t30 & bc6fc50a2b444efc8ec47111b290ffb8 & e3e0ef78006d440c892e26cfca963dd0 \\\\\n",
       "\t$\\dots$ & $\\dots$ & $\\dots$ \\\\\n",
       "\\end{tabular}\n"
      ],
      "text/plain": [
       "1038×2 DataFrame\n",
       "│ Row  │ group_memberships_group_id       │ group_memberships_user_id        │\n",
       "│      │ \u001b[90mUnion{Missing, String}\u001b[39m           │ \u001b[90mUnion{Missing, String}\u001b[39m           │\n",
       "├──────┼──────────────────────────────────┼──────────────────────────────────┤\n",
       "│ 1    │ eabbdf4029734c848a9da20779637d03 │ 9a5aead62c344207b2624dba90985dc5 │\n",
       "│ 2    │ eabbdf4029734c848a9da20779637d03 │ ea7122da1c7b4244a2184a4f9f944053 │\n",
       "│ 3    │ eabbdf4029734c848a9da20779637d03 │ cba603f34acb4a40b3ccb53fe6681b5d │\n",
       "│ 4    │ eabbdf4029734c848a9da20779637d03 │ fa9a126e63714641ae0145557a390cab │\n",
       "│ 5    │ eabbdf4029734c848a9da20779637d03 │ 299da113c5d1420ab525106c242c9429 │\n",
       "│ 6    │ 7080bf8dcf78463bb03e6863887fd715 │ 836a747118d6436caf56ff3a3c47289a │\n",
       "│ 7    │ 7080bf8dcf78463bb03e6863887fd715 │ 82cf96ae74fa4b3a8ffd8a74446c08ca │\n",
       "│ 8    │ 7080bf8dcf78463bb03e6863887fd715 │ b0f6c44506444fb99e910dcc5836b5d8 │\n",
       "│ 9    │ bc6fc50a2b444efc8ec47111b290ffb8 │ ab8d405cfdab4faf83ffe7f83944a87b │\n",
       "│ 10   │ bc6fc50a2b444efc8ec47111b290ffb8 │ 370dba85f183496186772be0c53a69b1 │\n",
       "⋮\n",
       "│ 1028 │ 66574765baa94b79a7e76b13f36a0d4a │ 4970fcae53a749aeb64318c132cf445d │\n",
       "│ 1029 │ 66574765baa94b79a7e76b13f36a0d4a │ 4ad4d0c90cf64bd3abf1b50998dc397e │\n",
       "│ 1030 │ 66574765baa94b79a7e76b13f36a0d4a │ 4575e1766da7427db1eb068942195c8f │\n",
       "│ 1031 │ 66574765baa94b79a7e76b13f36a0d4a │ bee5b29f51dc436d8deacd2a03919311 │\n",
       "│ 1032 │ 66574765baa94b79a7e76b13f36a0d4a │ 2dddc8e2f41647e180156e7d4dda064d │\n",
       "│ 1033 │ 66574765baa94b79a7e76b13f36a0d4a │ bddb3bc6a24d4bbc8ce187fa48e97f0c │\n",
       "│ 1034 │ 66574765baa94b79a7e76b13f36a0d4a │ 0e98d45e17b249cb9a4614dd644f4813 │\n",
       "│ 1035 │ 66574765baa94b79a7e76b13f36a0d4a │ 1281a56ed75b454faaa11962a0beca3a │\n",
       "│ 1036 │ 66574765baa94b79a7e76b13f36a0d4a │ a303c1c4faef4adda38fcd4c0d2bade1 │\n",
       "│ 1037 │ 66574765baa94b79a7e76b13f36a0d4a │ f25658bc5e374a1a8ea099156fc1206a │\n",
       "│ 1038 │ 66574765baa94b79a7e76b13f36a0d4a │ 5c5ffaf87ed249d9a630c010d80feb3f │"
      ]
     },
     "execution_count": 12,
     "metadata": {},
     "output_type": "execute_result"
    }
   ],
   "source": [
    "group_memberships = explore_data(\"data/group_memberships.csv\")"
   ]
  },
  {
   "cell_type": "markdown",
   "metadata": {},
   "source": [
    "### Groups"
   ]
  },
  {
   "cell_type": "code",
   "execution_count": 13,
   "metadata": {},
   "outputs": [
    {
     "data": {
      "text/plain": [
       "2-element Array{Symbol,1}:\n",
       " :groups_id        \n",
       " :groups_group_type"
      ]
     },
     "metadata": {},
     "output_type": "display_data"
    },
    {
     "data": {
      "text/html": [
       "<table class=\"data-frame\"><thead><tr><th></th><th>groups_id</th><th>groups_group_type</th></tr><tr><th></th><th>String⍰</th><th>String⍰</th></tr></thead><tbody><p>49 rows × 2 columns</p><tr><th>1</th><td>eabbdf4029734c848a9da20779637d03</td><td>youth program</td></tr><tr><th>2</th><td>7080bf8dcf78463bb03e6863887fd715</td><td>youth program</td></tr><tr><th>3</th><td>bc6fc50a2b444efc8ec47111b290ffb8</td><td>youth program</td></tr><tr><th>4</th><td>37f002e8d5e442ca8e36e972eaa55882</td><td>youth program</td></tr><tr><th>5</th><td>52419ff84d4b47bebd0b0a6c1263c296</td><td>youth program</td></tr><tr><th>6</th><td>559dbc7bd1f64c268ff149c4d5d63500</td><td>youth program</td></tr><tr><th>7</th><td>528fa2c7559a40749b6151a07d3b8ef5</td><td>youth program</td></tr><tr><th>8</th><td>cfaac1762bed4c8bb88696267129a560</td><td>youth program</td></tr><tr><th>9</th><td>f79273f51df849d298bd6f4b86daee99</td><td>youth program</td></tr><tr><th>10</th><td>ba94226c87d249a1a2dbdc32a848b769</td><td>youth program</td></tr><tr><th>11</th><td>cfdab61b2c6c47a78c4641852debb38f</td><td>youth program</td></tr><tr><th>12</th><td>9d922f354e7c404e98cb2acc1bcfa444</td><td>youth program</td></tr><tr><th>13</th><td>d617d88792bf4fa5bff144d0ddb3bdf0</td><td>youth program</td></tr><tr><th>14</th><td>23842cfc53704f9dbb95d57a4842cfea</td><td>youth program</td></tr><tr><th>15</th><td>70f2353c62b345298f449f010e754443</td><td>youth program</td></tr><tr><th>16</th><td>c1b73a8474054188ac49f53811c78189</td><td>youth program</td></tr><tr><th>17</th><td>64f55a07c0864292afe4b41d674ee2e9</td><td>youth program</td></tr><tr><th>18</th><td>ac46767c35014e4c93869199d05ea956</td><td>youth program</td></tr><tr><th>19</th><td>45b7c8a5647647df92de6f40d5f12682</td><td>cause</td></tr><tr><th>20</th><td>f16d593910bf443598839021bbe97128</td><td>cause</td></tr><tr><th>21</th><td>d692245208e248e49625d76f6b932aff</td><td>professional network</td></tr><tr><th>22</th><td>0b3cdc7e092041f4b8cf680bb1064144</td><td>professional network</td></tr><tr><th>23</th><td>fdb6a122e8474580a5d109c8c8933f3c</td><td>professional network</td></tr><tr><th>24</th><td>e224f030cc34477ba50994ba33a2f29f</td><td>youth program</td></tr><tr><th>25</th><td>febfa8fcd364484487a245d32dbe24f7</td><td>professional network</td></tr><tr><th>26</th><td>fc44b18cb5aa4ead87515171d48ced27</td><td>club</td></tr><tr><th>27</th><td>d1974b33f9744683a13ce46e203e2819</td><td>youth program</td></tr><tr><th>28</th><td>df78fe697f3b41068d2efc3654f5e707</td><td>youth program</td></tr><tr><th>29</th><td>ec1b5a43e9794f67b9761b0840a02c26</td><td>youth program</td></tr><tr><th>30</th><td>bd88fd4be76e4940b259cfd19dc737a2</td><td>youth program</td></tr><tr><th>&vellip;</th><td>&vellip;</td><td>&vellip;</td></tr></tbody></table>"
      ],
      "text/latex": [
       "\\begin{tabular}{r|cc}\n",
       "\t& groups\\_id & groups\\_group\\_type\\\\\n",
       "\t\\hline\n",
       "\t& String⍰ & String⍰\\\\\n",
       "\t\\hline\n",
       "\t1 & eabbdf4029734c848a9da20779637d03 & youth program \\\\\n",
       "\t2 & 7080bf8dcf78463bb03e6863887fd715 & youth program \\\\\n",
       "\t3 & bc6fc50a2b444efc8ec47111b290ffb8 & youth program \\\\\n",
       "\t4 & 37f002e8d5e442ca8e36e972eaa55882 & youth program \\\\\n",
       "\t5 & 52419ff84d4b47bebd0b0a6c1263c296 & youth program \\\\\n",
       "\t6 & 559dbc7bd1f64c268ff149c4d5d63500 & youth program \\\\\n",
       "\t7 & 528fa2c7559a40749b6151a07d3b8ef5 & youth program \\\\\n",
       "\t8 & cfaac1762bed4c8bb88696267129a560 & youth program \\\\\n",
       "\t9 & f79273f51df849d298bd6f4b86daee99 & youth program \\\\\n",
       "\t10 & ba94226c87d249a1a2dbdc32a848b769 & youth program \\\\\n",
       "\t11 & cfdab61b2c6c47a78c4641852debb38f & youth program \\\\\n",
       "\t12 & 9d922f354e7c404e98cb2acc1bcfa444 & youth program \\\\\n",
       "\t13 & d617d88792bf4fa5bff144d0ddb3bdf0 & youth program \\\\\n",
       "\t14 & 23842cfc53704f9dbb95d57a4842cfea & youth program \\\\\n",
       "\t15 & 70f2353c62b345298f449f010e754443 & youth program \\\\\n",
       "\t16 & c1b73a8474054188ac49f53811c78189 & youth program \\\\\n",
       "\t17 & 64f55a07c0864292afe4b41d674ee2e9 & youth program \\\\\n",
       "\t18 & ac46767c35014e4c93869199d05ea956 & youth program \\\\\n",
       "\t19 & 45b7c8a5647647df92de6f40d5f12682 & cause \\\\\n",
       "\t20 & f16d593910bf443598839021bbe97128 & cause \\\\\n",
       "\t21 & d692245208e248e49625d76f6b932aff & professional network \\\\\n",
       "\t22 & 0b3cdc7e092041f4b8cf680bb1064144 & professional network \\\\\n",
       "\t23 & fdb6a122e8474580a5d109c8c8933f3c & professional network \\\\\n",
       "\t24 & e224f030cc34477ba50994ba33a2f29f & youth program \\\\\n",
       "\t25 & febfa8fcd364484487a245d32dbe24f7 & professional network \\\\\n",
       "\t26 & fc44b18cb5aa4ead87515171d48ced27 & club \\\\\n",
       "\t27 & d1974b33f9744683a13ce46e203e2819 & youth program \\\\\n",
       "\t28 & df78fe697f3b41068d2efc3654f5e707 & youth program \\\\\n",
       "\t29 & ec1b5a43e9794f67b9761b0840a02c26 & youth program \\\\\n",
       "\t30 & bd88fd4be76e4940b259cfd19dc737a2 & youth program \\\\\n",
       "\t$\\dots$ & $\\dots$ & $\\dots$ \\\\\n",
       "\\end{tabular}\n"
      ],
      "text/plain": [
       "49×2 DataFrame\n",
       "│ Row │ groups_id                        │ groups_group_type    │\n",
       "│     │ \u001b[90mUnion{Missing, String}\u001b[39m           │ \u001b[90mString⍰\u001b[39m              │\n",
       "├─────┼──────────────────────────────────┼──────────────────────┤\n",
       "│ 1   │ eabbdf4029734c848a9da20779637d03 │ youth program        │\n",
       "│ 2   │ 7080bf8dcf78463bb03e6863887fd715 │ youth program        │\n",
       "│ 3   │ bc6fc50a2b444efc8ec47111b290ffb8 │ youth program        │\n",
       "│ 4   │ 37f002e8d5e442ca8e36e972eaa55882 │ youth program        │\n",
       "│ 5   │ 52419ff84d4b47bebd0b0a6c1263c296 │ youth program        │\n",
       "│ 6   │ 559dbc7bd1f64c268ff149c4d5d63500 │ youth program        │\n",
       "│ 7   │ 528fa2c7559a40749b6151a07d3b8ef5 │ youth program        │\n",
       "│ 8   │ cfaac1762bed4c8bb88696267129a560 │ youth program        │\n",
       "│ 9   │ f79273f51df849d298bd6f4b86daee99 │ youth program        │\n",
       "│ 10  │ ba94226c87d249a1a2dbdc32a848b769 │ youth program        │\n",
       "⋮\n",
       "│ 39  │ 8e4d8e5542a9407ab7b5a05e6e28c62c │ youth program        │\n",
       "│ 40  │ 6f13430a2bd1409f8c0863ca3a133db6 │ professional network │\n",
       "│ 41  │ 86850633393147be9d070c47a1258c41 │ mentorship program   │\n",
       "│ 42  │ 1f3b7e8f20db4a23959e1cb673604b45 │ youth program        │\n",
       "│ 43  │ 78c15b3814e7417a9da357c0df011194 │ youth program        │\n",
       "│ 44  │ ab73e3e161b64543a194b46442b0f805 │ professional network │\n",
       "│ 45  │ 298f0e917129423d9c6b12f08d26416f │ mentorship program   │\n",
       "│ 46  │ e2d6994350424f46a329cb3ba17e4893 │ youth program        │\n",
       "│ 47  │ 66574765baa94b79a7e76b13f36a0d4a │ youth program        │\n",
       "│ 48  │ a36cb039d1f4429a90a6b2c9de08dd39 │ professional network │\n",
       "│ 49  │ e1a4d435bbd84deaae344c223f204742 │ professional network │"
      ]
     },
     "execution_count": 13,
     "metadata": {},
     "output_type": "execute_result"
    }
   ],
   "source": [
    "groups = explore_data(\"data/groups.csv\")"
   ]
  },
  {
   "cell_type": "markdown",
   "metadata": {},
   "source": [
    "### Matches"
   ]
  },
  {
   "cell_type": "code",
   "execution_count": 14,
   "metadata": {},
   "outputs": [
    {
     "data": {
      "text/plain": [
       "2-element Array{Symbol,1}:\n",
       " :matches_email_id   \n",
       " :matches_question_id"
      ]
     },
     "metadata": {},
     "output_type": "display_data"
    },
    {
     "data": {
      "text/html": [
       "<table class=\"data-frame\"><thead><tr><th></th><th>matches_email_id</th><th>matches_question_id</th></tr><tr><th></th><th>Int64⍰</th><th>String⍰</th></tr></thead><tbody><p>4,316,275 rows × 2 columns</p><tr><th>1</th><td>1721939</td><td>332a511f1569444485cf7a7a556a5e54</td></tr><tr><th>2</th><td>1665388</td><td>332a511f1569444485cf7a7a556a5e54</td></tr><tr><th>3</th><td>1636634</td><td>332a511f1569444485cf7a7a556a5e54</td></tr><tr><th>4</th><td>1635498</td><td>332a511f1569444485cf7a7a556a5e54</td></tr><tr><th>5</th><td>1620298</td><td>332a511f1569444485cf7a7a556a5e54</td></tr><tr><th>6</th><td>1618336</td><td>332a511f1569444485cf7a7a556a5e54</td></tr><tr><th>7</th><td>1610422</td><td>332a511f1569444485cf7a7a556a5e54</td></tr><tr><th>8</th><td>1601694</td><td>332a511f1569444485cf7a7a556a5e54</td></tr><tr><th>9</th><td>1568908</td><td>332a511f1569444485cf7a7a556a5e54</td></tr><tr><th>10</th><td>1551730</td><td>332a511f1569444485cf7a7a556a5e54</td></tr><tr><th>11</th><td>1550190</td><td>332a511f1569444485cf7a7a556a5e54</td></tr><tr><th>12</th><td>1530140</td><td>332a511f1569444485cf7a7a556a5e54</td></tr><tr><th>13</th><td>1488445</td><td>332a511f1569444485cf7a7a556a5e54</td></tr><tr><th>14</th><td>1458642</td><td>332a511f1569444485cf7a7a556a5e54</td></tr><tr><th>15</th><td>1457155</td><td>332a511f1569444485cf7a7a556a5e54</td></tr><tr><th>16</th><td>1452490</td><td>332a511f1569444485cf7a7a556a5e54</td></tr><tr><th>17</th><td>1451691</td><td>332a511f1569444485cf7a7a556a5e54</td></tr><tr><th>18</th><td>1437296</td><td>332a511f1569444485cf7a7a556a5e54</td></tr><tr><th>19</th><td>1430794</td><td>332a511f1569444485cf7a7a556a5e54</td></tr><tr><th>20</th><td>1421145</td><td>332a511f1569444485cf7a7a556a5e54</td></tr><tr><th>21</th><td>1406045</td><td>332a511f1569444485cf7a7a556a5e54</td></tr><tr><th>22</th><td>1405383</td><td>332a511f1569444485cf7a7a556a5e54</td></tr><tr><th>23</th><td>1403227</td><td>332a511f1569444485cf7a7a556a5e54</td></tr><tr><th>24</th><td>1402422</td><td>332a511f1569444485cf7a7a556a5e54</td></tr><tr><th>25</th><td>1398242</td><td>332a511f1569444485cf7a7a556a5e54</td></tr><tr><th>26</th><td>1391010</td><td>332a511f1569444485cf7a7a556a5e54</td></tr><tr><th>27</th><td>1384524</td><td>332a511f1569444485cf7a7a556a5e54</td></tr><tr><th>28</th><td>1383790</td><td>332a511f1569444485cf7a7a556a5e54</td></tr><tr><th>29</th><td>1381785</td><td>332a511f1569444485cf7a7a556a5e54</td></tr><tr><th>30</th><td>1377079</td><td>332a511f1569444485cf7a7a556a5e54</td></tr><tr><th>&vellip;</th><td>&vellip;</td><td>&vellip;</td></tr></tbody></table>"
      ],
      "text/latex": [
       "\\begin{tabular}{r|cc}\n",
       "\t& matches\\_email\\_id & matches\\_question\\_id\\\\\n",
       "\t\\hline\n",
       "\t& Int64⍰ & String⍰\\\\\n",
       "\t\\hline\n",
       "\t1 & 1721939 & 332a511f1569444485cf7a7a556a5e54 \\\\\n",
       "\t2 & 1665388 & 332a511f1569444485cf7a7a556a5e54 \\\\\n",
       "\t3 & 1636634 & 332a511f1569444485cf7a7a556a5e54 \\\\\n",
       "\t4 & 1635498 & 332a511f1569444485cf7a7a556a5e54 \\\\\n",
       "\t5 & 1620298 & 332a511f1569444485cf7a7a556a5e54 \\\\\n",
       "\t6 & 1618336 & 332a511f1569444485cf7a7a556a5e54 \\\\\n",
       "\t7 & 1610422 & 332a511f1569444485cf7a7a556a5e54 \\\\\n",
       "\t8 & 1601694 & 332a511f1569444485cf7a7a556a5e54 \\\\\n",
       "\t9 & 1568908 & 332a511f1569444485cf7a7a556a5e54 \\\\\n",
       "\t10 & 1551730 & 332a511f1569444485cf7a7a556a5e54 \\\\\n",
       "\t11 & 1550190 & 332a511f1569444485cf7a7a556a5e54 \\\\\n",
       "\t12 & 1530140 & 332a511f1569444485cf7a7a556a5e54 \\\\\n",
       "\t13 & 1488445 & 332a511f1569444485cf7a7a556a5e54 \\\\\n",
       "\t14 & 1458642 & 332a511f1569444485cf7a7a556a5e54 \\\\\n",
       "\t15 & 1457155 & 332a511f1569444485cf7a7a556a5e54 \\\\\n",
       "\t16 & 1452490 & 332a511f1569444485cf7a7a556a5e54 \\\\\n",
       "\t17 & 1451691 & 332a511f1569444485cf7a7a556a5e54 \\\\\n",
       "\t18 & 1437296 & 332a511f1569444485cf7a7a556a5e54 \\\\\n",
       "\t19 & 1430794 & 332a511f1569444485cf7a7a556a5e54 \\\\\n",
       "\t20 & 1421145 & 332a511f1569444485cf7a7a556a5e54 \\\\\n",
       "\t21 & 1406045 & 332a511f1569444485cf7a7a556a5e54 \\\\\n",
       "\t22 & 1405383 & 332a511f1569444485cf7a7a556a5e54 \\\\\n",
       "\t23 & 1403227 & 332a511f1569444485cf7a7a556a5e54 \\\\\n",
       "\t24 & 1402422 & 332a511f1569444485cf7a7a556a5e54 \\\\\n",
       "\t25 & 1398242 & 332a511f1569444485cf7a7a556a5e54 \\\\\n",
       "\t26 & 1391010 & 332a511f1569444485cf7a7a556a5e54 \\\\\n",
       "\t27 & 1384524 & 332a511f1569444485cf7a7a556a5e54 \\\\\n",
       "\t28 & 1383790 & 332a511f1569444485cf7a7a556a5e54 \\\\\n",
       "\t29 & 1381785 & 332a511f1569444485cf7a7a556a5e54 \\\\\n",
       "\t30 & 1377079 & 332a511f1569444485cf7a7a556a5e54 \\\\\n",
       "\t$\\dots$ & $\\dots$ & $\\dots$ \\\\\n",
       "\\end{tabular}\n"
      ],
      "text/plain": [
       "4316275×2 DataFrame\n",
       "│ Row     │ matches_email_id │ matches_question_id              │\n",
       "│         │ \u001b[90mInt64⍰\u001b[39m           │ \u001b[90mUnion{Missing, String}\u001b[39m           │\n",
       "├─────────┼──────────────────┼──────────────────────────────────┤\n",
       "│ 1       │ 1721939          │ 332a511f1569444485cf7a7a556a5e54 │\n",
       "│ 2       │ 1665388          │ 332a511f1569444485cf7a7a556a5e54 │\n",
       "│ 3       │ 1636634          │ 332a511f1569444485cf7a7a556a5e54 │\n",
       "│ 4       │ 1635498          │ 332a511f1569444485cf7a7a556a5e54 │\n",
       "│ 5       │ 1620298          │ 332a511f1569444485cf7a7a556a5e54 │\n",
       "│ 6       │ 1618336          │ 332a511f1569444485cf7a7a556a5e54 │\n",
       "│ 7       │ 1610422          │ 332a511f1569444485cf7a7a556a5e54 │\n",
       "│ 8       │ 1601694          │ 332a511f1569444485cf7a7a556a5e54 │\n",
       "│ 9       │ 1568908          │ 332a511f1569444485cf7a7a556a5e54 │\n",
       "│ 10      │ 1551730          │ 332a511f1569444485cf7a7a556a5e54 │\n",
       "⋮\n",
       "│ 4316265 │ 179600           │ 1b1ebe9afc5046ccbb328704e88e5cc0 │\n",
       "│ 4316266 │ 179602           │ 1b1ebe9afc5046ccbb328704e88e5cc0 │\n",
       "│ 4316267 │ 179605           │ 1b1ebe9afc5046ccbb328704e88e5cc0 │\n",
       "│ 4316268 │ 184796           │ 1b1ebe9afc5046ccbb328704e88e5cc0 │\n",
       "│ 4316269 │ 184797           │ 1b1ebe9afc5046ccbb328704e88e5cc0 │\n",
       "│ 4316270 │ 184801           │ 1b1ebe9afc5046ccbb328704e88e5cc0 │\n",
       "│ 4316271 │ 184809           │ 1b1ebe9afc5046ccbb328704e88e5cc0 │\n",
       "│ 4316272 │ 184814           │ 1b1ebe9afc5046ccbb328704e88e5cc0 │\n",
       "│ 4316273 │ 184815           │ 1b1ebe9afc5046ccbb328704e88e5cc0 │\n",
       "│ 4316274 │ 184818           │ 1b1ebe9afc5046ccbb328704e88e5cc0 │\n",
       "│ 4316275 │ 184837           │ 1b1ebe9afc5046ccbb328704e88e5cc0 │"
      ]
     },
     "execution_count": 14,
     "metadata": {},
     "output_type": "execute_result"
    }
   ],
   "source": [
    "matches = explore_data(\"data/matches.csv\")"
   ]
  },
  {
   "cell_type": "markdown",
   "metadata": {},
   "source": [
    "### Professionals"
   ]
  },
  {
   "cell_type": "code",
   "execution_count": 15,
   "metadata": {},
   "outputs": [
    {
     "data": {
      "text/plain": [
       "5-element Array{Symbol,1}:\n",
       " :professionals_id         \n",
       " :professionals_location   \n",
       " :professionals_industry   \n",
       " :professionals_headline   \n",
       " :professionals_date_joined"
      ]
     },
     "metadata": {},
     "output_type": "display_data"
    },
    {
     "data": {
      "text/html": [
       "<table class=\"data-frame\"><thead><tr><th></th><th>professionals_id</th><th>professionals_location</th><th>professionals_industry</th><th>professionals_headline</th><th>professionals_date_joined</th></tr><tr><th></th><th>String⍰</th><th>String⍰</th><th>String⍰</th><th>String⍰</th><th>String⍰</th></tr></thead><tbody><p>28,152 rows × 5 columns</p><tr><th>1</th><td>9ced4ce7519049c0944147afb75a8ce3</td><td>missing</td><td>missing</td><td>missing</td><td>2011-10-05 20:35:19 UTC+0000</td></tr><tr><th>2</th><td>f718dcf6d2ec4cb0a52a9db59d7f9e67</td><td>missing</td><td>missing</td><td>missing</td><td>2011-10-05 20:49:21 UTC+0000</td></tr><tr><th>3</th><td>0c673e046d824ec0ad0ebe012a0673e4</td><td>New York, New York</td><td>missing</td><td>missing</td><td>2011-10-18 17:31:26 UTC+0000</td></tr><tr><th>4</th><td>977428d851b24183b223be0eb8619a8c</td><td>Boston, Massachusetts</td><td>missing</td><td>missing</td><td>2011-11-09 20:39:29 UTC+0000</td></tr><tr><th>5</th><td>e2d57e5041a44f489288397c9904c2b2</td><td>missing</td><td>missing</td><td>missing</td><td>2011-12-10 22:14:44 UTC+0000</td></tr><tr><th>6</th><td>c9bfa93898594cbbace436deca644c64</td><td>missing</td><td>missing</td><td>missing</td><td>2011-12-12 14:25:46 UTC+0000</td></tr><tr><th>7</th><td>ed85488fb5e941eaa97014137fcbf317</td><td>missing</td><td>missing</td><td>missing</td><td>2011-12-28 03:02:04 UTC+0000</td></tr><tr><th>8</th><td>102fb92c28034ad988b593d0111cb4bb</td><td>missing</td><td>missing</td><td>missing</td><td>2011-12-26 05:00:00 UTC+0000</td></tr><tr><th>9</th><td>5a4a16842ec64430ac3f916aacf35fe1</td><td>missing</td><td>missing</td><td>missing</td><td>2011-12-26 05:00:00 UTC+0000</td></tr><tr><th>10</th><td>81999d5ad93549dab55636a545e84f2a</td><td>missing</td><td>missing</td><td>missing</td><td>2011-12-26 05:00:00 UTC+0000</td></tr><tr><th>11</th><td>7d425e8d7cfb4fe7b0702fff4d6d84e7</td><td>Milwaukee, Wisconsin</td><td>missing</td><td>Ph.D. Student in Political Science at Harvard University</td><td>2011-12-26 05:00:00 UTC+0000</td></tr><tr><th>12</th><td>7daf1e6dfb3443b99b240890f0a4d69b</td><td>missing</td><td>missing</td><td>missing</td><td>2011-12-26 05:00:00 UTC+0000</td></tr><tr><th>13</th><td>b7dc946585734ab8acfbeeeb0d76af20</td><td>missing</td><td>missing</td><td>missing</td><td>2011-12-26 05:00:00 UTC+0000</td></tr><tr><th>14</th><td>4863a65cd35b42a1bb89f3ecfc8fa2fe</td><td>missing</td><td>missing</td><td>missing</td><td>2011-12-26 05:00:00 UTC+0000</td></tr><tr><th>15</th><td>d07bdc32226e4d2c826da05b39a0f8f7</td><td>missing</td><td>missing</td><td>missing</td><td>2011-12-26 05:00:00 UTC+0000</td></tr><tr><th>16</th><td>68ecc66323b8418092fdd724aaf5be94</td><td>New York, New York</td><td>Special Events</td><td>Event Hospitality &amp; Operations Specialist</td><td>2011-12-26 05:00:00 UTC+0000</td></tr><tr><th>17</th><td>2b17cd431763494fa6096617645ba173</td><td>missing</td><td>missing</td><td>missing</td><td>2011-12-26 05:00:00 UTC+0000</td></tr><tr><th>18</th><td>4ca2656185ca4ed298111128d2e1679e</td><td>missing</td><td>missing</td><td>missing</td><td>2011-12-26 05:00:00 UTC+0000</td></tr><tr><th>19</th><td>971937860c164896a0771bf502bad482</td><td>Wilmington, Vermont</td><td>missing</td><td>missing</td><td>2011-12-26 05:00:00 UTC+0000</td></tr><tr><th>20</th><td>0c9a2748560541be9fe2df0d7be88282</td><td>New York, New York</td><td>missing</td><td>missing</td><td>2011-12-26 05:00:00 UTC+0000</td></tr><tr><th>21</th><td>b6af2f682f0e4bf2af7783c1980820e6</td><td>missing</td><td>missing</td><td>missing</td><td>2011-12-26 05:00:00 UTC+0000</td></tr><tr><th>22</th><td>752fe9d006c246a285787563ddb69bf8</td><td>missing</td><td>missing</td><td>missing</td><td>2011-12-26 05:00:00 UTC+0000</td></tr><tr><th>23</th><td>0891498de2ed423f85ec713e00b53561</td><td>missing</td><td>missing</td><td>missing</td><td>2011-12-26 05:00:00 UTC+0000</td></tr><tr><th>24</th><td>8074bb4fb8894ab99c2716ea6ef91ff9</td><td>missing</td><td>missing</td><td>missing</td><td>2011-12-26 05:00:00 UTC+0000</td></tr><tr><th>25</th><td>5f77e0a2c3a144dda336df2294a64530</td><td>missing</td><td>missing</td><td>missing</td><td>2011-12-26 05:00:00 UTC+0000</td></tr><tr><th>26</th><td>8ff80b2548fa4e68892da71d1e320289</td><td>missing</td><td>missing</td><td>missing</td><td>2011-12-26 05:00:00 UTC+0000</td></tr><tr><th>27</th><td>20c67345727444678b7e91267f1c1d4b</td><td>missing</td><td>missing</td><td>missing</td><td>2011-12-26 05:00:00 UTC+0000</td></tr><tr><th>28</th><td>2a8328f6ceb548699a64293f986f3d19</td><td>Washington, Washington</td><td>missing</td><td>missing</td><td>2011-12-26 05:00:00 UTC+0000</td></tr><tr><th>29</th><td>8e75aca48b434c79b8b4729ef871cb50</td><td>Boston, Massachusetts</td><td>missing</td><td>missing</td><td>2011-12-26 05:00:00 UTC+0000</td></tr><tr><th>30</th><td>01b3e033848b41f6b7a55cefc59ba61a</td><td>San Francisco, California</td><td>missing</td><td>missing</td><td>2011-12-26 05:00:00 UTC+0000</td></tr><tr><th>&vellip;</th><td>&vellip;</td><td>&vellip;</td><td>&vellip;</td><td>&vellip;</td><td>&vellip;</td></tr></tbody></table>"
      ],
      "text/latex": [
       "\\begin{tabular}{r|ccccc}\n",
       "\t& professionals\\_id & professionals\\_location & professionals\\_industry & professionals\\_headline & professionals\\_date\\_joined\\\\\n",
       "\t\\hline\n",
       "\t& String⍰ & String⍰ & String⍰ & String⍰ & String⍰\\\\\n",
       "\t\\hline\n",
       "\t1 & 9ced4ce7519049c0944147afb75a8ce3 &  &  &  & 2011-10-05 20:35:19 UTC+0000 \\\\\n",
       "\t2 & f718dcf6d2ec4cb0a52a9db59d7f9e67 &  &  &  & 2011-10-05 20:49:21 UTC+0000 \\\\\n",
       "\t3 & 0c673e046d824ec0ad0ebe012a0673e4 & New York, New York &  &  & 2011-10-18 17:31:26 UTC+0000 \\\\\n",
       "\t4 & 977428d851b24183b223be0eb8619a8c & Boston, Massachusetts &  &  & 2011-11-09 20:39:29 UTC+0000 \\\\\n",
       "\t5 & e2d57e5041a44f489288397c9904c2b2 &  &  &  & 2011-12-10 22:14:44 UTC+0000 \\\\\n",
       "\t6 & c9bfa93898594cbbace436deca644c64 &  &  &  & 2011-12-12 14:25:46 UTC+0000 \\\\\n",
       "\t7 & ed85488fb5e941eaa97014137fcbf317 &  &  &  & 2011-12-28 03:02:04 UTC+0000 \\\\\n",
       "\t8 & 102fb92c28034ad988b593d0111cb4bb &  &  &  & 2011-12-26 05:00:00 UTC+0000 \\\\\n",
       "\t9 & 5a4a16842ec64430ac3f916aacf35fe1 &  &  &  & 2011-12-26 05:00:00 UTC+0000 \\\\\n",
       "\t10 & 81999d5ad93549dab55636a545e84f2a &  &  &  & 2011-12-26 05:00:00 UTC+0000 \\\\\n",
       "\t11 & 7d425e8d7cfb4fe7b0702fff4d6d84e7 & Milwaukee, Wisconsin &  & Ph.D. Student in Political Science at Harvard University & 2011-12-26 05:00:00 UTC+0000 \\\\\n",
       "\t12 & 7daf1e6dfb3443b99b240890f0a4d69b &  &  &  & 2011-12-26 05:00:00 UTC+0000 \\\\\n",
       "\t13 & b7dc946585734ab8acfbeeeb0d76af20 &  &  &  & 2011-12-26 05:00:00 UTC+0000 \\\\\n",
       "\t14 & 4863a65cd35b42a1bb89f3ecfc8fa2fe &  &  &  & 2011-12-26 05:00:00 UTC+0000 \\\\\n",
       "\t15 & d07bdc32226e4d2c826da05b39a0f8f7 &  &  &  & 2011-12-26 05:00:00 UTC+0000 \\\\\n",
       "\t16 & 68ecc66323b8418092fdd724aaf5be94 & New York, New York & Special Events & Event Hospitality \\& Operations Specialist & 2011-12-26 05:00:00 UTC+0000 \\\\\n",
       "\t17 & 2b17cd431763494fa6096617645ba173 &  &  &  & 2011-12-26 05:00:00 UTC+0000 \\\\\n",
       "\t18 & 4ca2656185ca4ed298111128d2e1679e &  &  &  & 2011-12-26 05:00:00 UTC+0000 \\\\\n",
       "\t19 & 971937860c164896a0771bf502bad482 & Wilmington, Vermont &  &  & 2011-12-26 05:00:00 UTC+0000 \\\\\n",
       "\t20 & 0c9a2748560541be9fe2df0d7be88282 & New York, New York &  &  & 2011-12-26 05:00:00 UTC+0000 \\\\\n",
       "\t21 & b6af2f682f0e4bf2af7783c1980820e6 &  &  &  & 2011-12-26 05:00:00 UTC+0000 \\\\\n",
       "\t22 & 752fe9d006c246a285787563ddb69bf8 &  &  &  & 2011-12-26 05:00:00 UTC+0000 \\\\\n",
       "\t23 & 0891498de2ed423f85ec713e00b53561 &  &  &  & 2011-12-26 05:00:00 UTC+0000 \\\\\n",
       "\t24 & 8074bb4fb8894ab99c2716ea6ef91ff9 &  &  &  & 2011-12-26 05:00:00 UTC+0000 \\\\\n",
       "\t25 & 5f77e0a2c3a144dda336df2294a64530 &  &  &  & 2011-12-26 05:00:00 UTC+0000 \\\\\n",
       "\t26 & 8ff80b2548fa4e68892da71d1e320289 &  &  &  & 2011-12-26 05:00:00 UTC+0000 \\\\\n",
       "\t27 & 20c67345727444678b7e91267f1c1d4b &  &  &  & 2011-12-26 05:00:00 UTC+0000 \\\\\n",
       "\t28 & 2a8328f6ceb548699a64293f986f3d19 & Washington, Washington &  &  & 2011-12-26 05:00:00 UTC+0000 \\\\\n",
       "\t29 & 8e75aca48b434c79b8b4729ef871cb50 & Boston, Massachusetts &  &  & 2011-12-26 05:00:00 UTC+0000 \\\\\n",
       "\t30 & 01b3e033848b41f6b7a55cefc59ba61a & San Francisco, California &  &  & 2011-12-26 05:00:00 UTC+0000 \\\\\n",
       "\t$\\dots$ & $\\dots$ & $\\dots$ & $\\dots$ & $\\dots$ & $\\dots$ \\\\\n",
       "\\end{tabular}\n"
      ],
      "text/plain": [
       "28152×5 DataFrame. Omitted printing of 3 columns\n",
       "│ Row   │ professionals_id                 │ professionals_location │\n",
       "│       │ \u001b[90mUnion{Missing, String}\u001b[39m           │ \u001b[90mUnion{Missing, String}\u001b[39m │\n",
       "├───────┼──────────────────────────────────┼────────────────────────┤\n",
       "│ 1     │ 9ced4ce7519049c0944147afb75a8ce3 │ \u001b[90mmissing\u001b[39m                │\n",
       "│ 2     │ f718dcf6d2ec4cb0a52a9db59d7f9e67 │ \u001b[90mmissing\u001b[39m                │\n",
       "│ 3     │ 0c673e046d824ec0ad0ebe012a0673e4 │ New York, New York     │\n",
       "│ 4     │ 977428d851b24183b223be0eb8619a8c │ Boston, Massachusetts  │\n",
       "│ 5     │ e2d57e5041a44f489288397c9904c2b2 │ \u001b[90mmissing\u001b[39m                │\n",
       "│ 6     │ c9bfa93898594cbbace436deca644c64 │ \u001b[90mmissing\u001b[39m                │\n",
       "│ 7     │ ed85488fb5e941eaa97014137fcbf317 │ \u001b[90mmissing\u001b[39m                │\n",
       "│ 8     │ 102fb92c28034ad988b593d0111cb4bb │ \u001b[90mmissing\u001b[39m                │\n",
       "│ 9     │ 5a4a16842ec64430ac3f916aacf35fe1 │ \u001b[90mmissing\u001b[39m                │\n",
       "│ 10    │ 81999d5ad93549dab55636a545e84f2a │ \u001b[90mmissing\u001b[39m                │\n",
       "⋮\n",
       "│ 28142 │ f2781b6dbf9a4099814138c069c6f3a4 │ Lubbock, Texas         │\n",
       "│ 28143 │ 47d169f6ab93480f9ef500f4ef0c127f │ \u001b[90mmissing\u001b[39m                │\n",
       "│ 28144 │ 57a497a3dd214fe6880816c376211ddb │ Irving, Texas          │\n",
       "│ 28145 │ fcf9ae3fef164c9d8b3387dfaafd56dc │ Woodland, California   │\n",
       "│ 28146 │ de0f1f642fd14a5bbea3b8d96da9638b │ Richardson, Texas      │\n",
       "│ 28147 │ fda6f3b0021e48dfb14773e9e7291c2f │ San Diego, California  │\n",
       "│ 28148 │ 9f267950ab8e43e2afcf564327049297 │ El Segundo, California │\n",
       "│ 28149 │ 4a7e1e5dd884488da283e1cab6ad11e0 │ Alexandria, Virginia   │\n",
       "│ 28150 │ ea75c5fce38348e0a151c3c346929e6a │ Berkeley, California   │\n",
       "│ 28151 │ 34f6222c3c02480ca2df8a3e4ba878d0 │ Houston, Texas Area    │\n",
       "│ 28152 │ ebc523719253485bb35e94ca561eb051 │ Dallas, Texas          │"
      ]
     },
     "execution_count": 15,
     "metadata": {},
     "output_type": "execute_result"
    }
   ],
   "source": [
    "professionals = explore_data(\"data/professionals.csv\")"
   ]
  },
  {
   "cell_type": "markdown",
   "metadata": {},
   "source": [
    "### Questions"
   ]
  },
  {
   "cell_type": "code",
   "execution_count": 16,
   "metadata": {},
   "outputs": [
    {
     "data": {
      "text/plain": [
       "5-element Array{Symbol,1}:\n",
       " :questions_id        \n",
       " :questions_author_id \n",
       " :questions_date_added\n",
       " :questions_title     \n",
       " :questions_body      "
      ]
     },
     "metadata": {},
     "output_type": "display_data"
    },
    {
     "data": {
      "text/html": [
       "<table class=\"data-frame\"><thead><tr><th></th><th>questions_id</th><th>questions_author_id</th><th>questions_date_added</th><th>questions_title</th><th>questions_body</th></tr><tr><th></th><th>String⍰</th><th>String⍰</th><th>String⍰</th><th>String⍰</th><th>String⍰</th></tr></thead><tbody><p>23,931 rows × 5 columns</p><tr><th>1</th><td>332a511f1569444485cf7a7a556a5e54</td><td>8f6f374ffd834d258ab69d376dd998f5</td><td>2016-04-26 11:14:26 UTC+0000</td><td>Teacher   career   question</td><td>What  is  a  maths  teacher?   what  is  a  maths  teacher  useful? #college #professor #lecture</td></tr><tr><th>2</th><td>eb80205482e4424cad8f16bc25aa2d9c</td><td>acccbda28edd4362ab03fb8b6fd2d67b</td><td>2016-05-20 16:48:25 UTC+0000</td><td>I want to become an army officer. What can I do to become an army officer?</td><td>I am Priyanka from Bangalore . Now am in 10th std . When I go to college I should not get confused on what I want to take to become army officer. So I am asking this question  #military #army</td></tr><tr><th>3</th><td>4ec31632938a40b98909416bdd0decff</td><td>f2c179a563024ccc927399ce529094b5</td><td>2017-02-08 19:13:38 UTC+0000</td><td>Will going abroad for your first job increase your chances for jobs back home?</td><td>I'm planning on going abroad for my first job. It will be a teaching job and I don't have any serious career ideas. I don't know what job I would be working if I stay home instead so I'm assuming staying or leaving won't makeba huge difference in what I care about, unless I find something before my first job. I can think of ways that going abroad can be seen as good and bad. I do not know which side respectable employers willl side with. #working-abroad #employment- #overseas</td></tr><tr><th>4</th><td>2f6a9a99d9b24e5baa50d40d0ba50a75</td><td>2c30ffba444e40eabb4583b55233a5a4</td><td>2017-09-01 14:05:32 UTC+0000</td><td>To become a specialist in business  management, will I have to network myself?</td><td>i hear business management is a hard way to get a job if you're not known in the right areas. #business #networking </td></tr><tr><th>5</th><td>5af8880460c141dbb02971a1a8369529</td><td>aa9eb1a2ab184ebbb00dc01ab663428a</td><td>2017-09-01 02:36:54 UTC+0000</td><td>Are there any scholarships out there for students that are first generation and live in GA?</td><td>I'm trying to find scholarships for first year students but they all seem to be for other states besides GA. Any help??\\r\\n\\r\\n#college\\r\\n#scholarships \\r\\n#highschoolsenior \\r\\n#firstgeneration \\r\\n</td></tr><tr><th>6</th><td>7c336403258f4da3a2e0955742c76462</td><td>d1e4587c0e784c62bc27eb8d16a07f38</td><td>2017-03-01 04:27:08 UTC+0000</td><td>How many years of coege do you need to be an engineer</td><td>To be an engineer #united-states</td></tr><tr><th>7</th><td>be3c5edfdb07423e955e9b2d7f186bce</td><td>71b4554d4a824253aa28287372c55797</td><td>2017-09-01 04:59:38 UTC+0000</td><td>I want to become a doctor because of my great interest in science and helping people, but can I major in something that isn't science oriented?</td><td>I am a musician and want to pursue that in college as well, but I don't want my love of science to supersede that. \\r\\n#medicine #music </td></tr><tr><th>8</th><td>0f1d6a4f276c4a05878dd48e03e52289</td><td>585ac233015447cc9e9a217044e515e1</td><td>2016-05-19 22:16:25 UTC+0000</td><td>what kind of  college could i go  to for a soccer player</td><td>I like soccer because i been playing sense i was 6 years old. soccer is my best sport  i played  for 1/7 years.every year.   #college #soccer #building</td></tr><tr><th>9</th><td>d4999cdc470049a1a3382c4b5f14a7aa</td><td>654e1d6fd5b947249c0e70658d01b2ac</td><td>2017-08-31 19:20:47 UTC+0000</td><td>What are the college classes like for and graphics design major?</td><td>I'm asking because I was thinking about choosing that career as an major for when I go to  college. I though why not ask someone who has went to college and graduated with and  degree in that subject. #graphic-design  #graphics</td></tr><tr><th>10</th><td>e214acfbe6644d65b889a3268828db9d</td><td>16908136951a48ed942738822cedd5c2</td><td>2012-09-09 05:33:25 UTC+0000</td><td>what does it take to be an anesthesiologist?</td><td>I am a sophomore who is interested in learning more about anesthesiologist. What steps do they have to take in order to become a anesthesiologist? Is it fun or hard?  #doctor #healthcare #experience #anesthesiologist</td></tr><tr><th>11</th><td>6351c23f2e144b359c3301d40b3d81ef</td><td>4627ecfaf1814d2e8935ed3e3cd4b88b</td><td>2018-08-14 20:10:09 UTC+0000</td><td>What major is best for an aspiring Occupational Therapist?</td><td>#majors #occupationaltherapist</td></tr><tr><th>12</th><td>a978f83b826c4fba80cbef96f16777cd</td><td>47be51b6231e4bbf8f354e0cece47e08</td><td>2016-10-24 17:25:35 UTC+0000</td><td>How does the gender gap effect productivity in the work force?</td><td>As a woman of color, I am concerned about being marginalized in the workplace.  #scientists</td></tr><tr><th>13</th><td>63171d8c2d3f4a8c9100b0bfcb062195</td><td>240a5e4e4acd469b936e1a091232ceb0</td><td>2016-10-25 21:09:04 UTC+0000</td><td>As a civil engineer, what percent of your time would you say per week you spend on site helping to organize construction efforts and people and what percent of your time do you spend in an office making calculation and coming up with designs?</td><td>I would love to be a civil engineer one day. I definitely don't want to be a construction worker and spend all day outside working with tools and building things but I also wouldn't want a 10 hour a day desk job. Civil engineer seems like a happy medium and I just wondered from a professional if that was the case.  #mathematics #civil-engineering</td></tr><tr><th>14</th><td>fecd4c7f68144042abca8672b6114a36</td><td>3acd97cf60da4b23950fb316644da839</td><td>2018-01-15 22:03:20 UTC+0000</td><td>what is the hardest about becoming a lawyer?</td><td>Throughout the process of becoming a lawyer, what is the hardest? Is it the LSAT's OR getting into a Law school, or finding a job after?  #lawyer </td></tr><tr><th>15</th><td>baa937b4cd184a22acfd76249d25042c</td><td>43411aa04f6041b0af4be5f881b21c18</td><td>2018-03-12 19:38:56 UTC+0000</td><td>How to have a board that can attract $500,000 capital for a non-profit start up</td><td>I've been accepted at Harvard's joint bachelor's and master's program in management for the summer of 2018.  Since 2003, I've had a financial planning practice with Indian Tribes.  My goal at Harvard is to learn best practices, so I can transition my practice into a sustainable and scalable non-profit organization, the Native Finance Development Corporation, for Indian Country.  When funded, I will develop an online and in-person platform to provide financial education, debt resolution, savings and affordable loans to the tribal communities.  Initially, I intend to leverage my relationship with existing client tribes.\\r\\n\\r\\nI've already submitted for establishment of my 401(c)3 with the IRS.  In early March, 2018, I applied for certification as a Native American Community Development Finance Institution.  I have a business plan.  Over the next four years, I will attend Harvard full-time while developing  the IT and human resources and training aspects of the non-profit.\\r\\n\\r\\nWhat would be the most effective and efficient way to develop this board?  \\r\\n\\r\\n#business #business-development #nonprofits \\r\\n\\r\\n\\r\\n\\r\\n</td></tr><tr><th>16</th><td>eb0027b3dcd04d88b76a493fc1558c15</td><td>aa425c019c7b49af97f58f9de4c609f9</td><td>2017-03-10 01:05:03 UTC+0000</td><td>To be a dental hygienist or a dentist?</td><td>I'm a sophomore in high school and I am trying to decide what classes to take. I'm trying to take as many classes as I can if I decide I want to go to a four year school instead of just a two. I'm from Iowa and my biggest decision maker is how much I would make? I've read all over and there are tons of different numbers and job availabilities. I want to live extremely comfortably. I really enjoyed watching what the hygienist do, too. But, if the dentist make more then I think I want to do that.  I need advice.  #dentistry #dental-hygienist #family-dentistry #pediatric-dentistry</td></tr><tr><th>17</th><td>be0bac33e0594b21ac1f82fe2ffac7fb</td><td>8801c375ce6a439a97acce986f4f826b</td><td>2018-07-09 00:01:00 UTC+0000</td><td>Is it better to sell your invention idea(s) to a company or raise money to patent it yourself?</td><td>I have a lot of invention ideas and I am not sure how to get help. There are a lot of website that say they help people who have invention ideas but I am afraid they will steal my ideas and I will not have any legal ownership of them.  \\r\\n\\r\\n#help #innovation #Mechanical #MechanicalEngineering  #engineering #engineers #patent #legal #IndustrialDesign  #design #inventor #problem #solving #ownership #money #company  #future #product #products #ideas #architect #art  #creative #science #technology #tech #customer </td></tr><tr><th>18</th><td>5cf8f5929e1c4357af4b467d4537dcef</td><td>7b7ad31c59f74b3fbe9f597a0f580599</td><td>2016-05-13 01:49:00 UTC+0000</td><td>Who/what do you think truly decides where you go to college?</td><td>Most people claim their decision to enroll in a certain college was completely their own. But is this accurate? How much of an influence do you think counselors, family members, friends, and/or money have in their decision? Are there other factors that may indirectly influence their decision? #college #higher-education #niche #decisions</td></tr><tr><th>19</th><td>f156171f9c4944de99c1ab974cb7558d</td><td>454f348c03a14cb3acf4a385bb2aad32</td><td>2018-01-17 17:26:44 UTC+0000</td><td>How can I get my work in Android development noticed by prospective users?</td><td>I have developed several Android applications (one of which is released on the Google Play Store) but am having trouble acquiring new users.  I am looking for ways to increase my user base without spending money on advertising, etc. #android #technology #programming </td></tr><tr><th>20</th><td>fb615cf6770d4b7b92173d3210036df2</td><td>70a65013686d490eb717306fbc07e115</td><td>2016-03-01 18:52:49 UTC+0000</td><td>Which topics in college most helped with your career in Industrial Psychology?</td><td>Hi, I am a high school senior and I have been interested in psychology for the majority of my life. When I heard about Industrial Psychology it really interested me and I would really like to know what topics in college assist those in the field. I would also like to know what is the day to day life in the job is like. #psychology</td></tr><tr><th>21</th><td>c1b82814b0274452873428b9db923939</td><td>e630f730c91044fba85730b06c77e6ca</td><td>2018-02-02 13:41:17 UTC+0000</td><td>How easy/hard is it to find a job in architecture?</td><td>I am currently in between a few possible career options.\\nHow easy/hard is it to get a good paying job as an architect right out of college?\\nHow easy/hard is it to get a good paying job in the marketing field?\\nHow easy/hard is it to get a good paying job in the engineering field?\\n#architecture  #marketing-and-advertising  #engineering </td></tr><tr><th>22</th><td>f05b579f2cd3432898f3ba54feee86b6</td><td>552e9d750bcf4fa4a32a2d894749dd46</td><td>2018-04-24 16:43:01 UTC+0000</td><td>If medicine improves and allows people to live much longer lives, how will we provide for everyone?</td><td>As medical technology improves, people live longer, healthier lives. Anti-aging technologies are getting better and better. If people start regularly living to 100 or longer, or if human life is extended even further beyond natural limits, how we provide for everyone?\\r\\n\\r\\nHow will people in my generation flourish if people currently in their 20s 30s, 40s, and 50s never retire, and keep working indefinitely? How will my generation support and care for a massive population of elderly people? \\r\\n\\r\\n#technology #future #medicine #career </td></tr><tr><th>23</th><td>914d40e5d2cd41baace8320541e23b0f</td><td>30edfaf3ad724737b79bab14612f1f3b</td><td>2018-03-23 23:18:15 UTC+0000</td><td>Why are there not more females that help or support other females in college?</td><td>#female-empowerment #women #empowering-women </td></tr><tr><th>24</th><td>205e5d1d3db3473c85c3b3ccc2dd1d61</td><td>dc4dc0965fbb4d0b8272f7693087fd1e</td><td>2018-03-13 01:28:28 UTC+0000</td><td>What Is The Best Undergraduate Degree Before Pursuing A DVM?</td><td>I know that there are several options for undergraduate degrees that I could do before pursuing a Doctor of Veterinary Medicine. I could do Pre-Med, an undergraduate in Biophysical Sciences, or basically, anything else that satisfies the minimum requirements for the veterinary college I am to attend. I would like to know what the best option is that will prepare me the most for my chosen occupation of Veterinary Medicine.\\r\\n\\r\\n#animals #veterinary #veterinary-technician #veterinary-medicine</td></tr><tr><th>25</th><td>5101824b39d146aca51bf3427fb51f60</td><td>59691f8cc9b24e35b05f20f0e6b82a11</td><td>2015-09-04 10:34:47 UTC+0000</td><td>i am searching college for engineering in civil or computer in US and  i am from nepal with medium economy</td><td>i am from nepal and wants to know how can i join engineering in US and i am from medium economy family .. can i actually afford there by doing side job if available #engineer #consulting</td></tr><tr><th>26</th><td>ec2d5840a0f14aa4bc4b023d660a1318</td><td>e3d75968077c4d6c940943454bd4aae2</td><td>2018-01-31 14:35:00 UTC+0000</td><td>I am really interested in science, but not so much with math...are there any feilds in science that require limited math?</td><td>Science is usually my best subject, but math is usually my worst. I really want to be involved in the science feild but i am afraid this isn't possible with my subpar math skills. I've found a few options, but am in need of suggestions. #science  #biology  #math </td></tr><tr><th>27</th><td>79acffec2c84405984d059f27079f7fd</td><td>af5ab70613e44eefad6112eef251d929</td><td>2018-03-13 03:02:59 UTC+0000</td><td>How to not give up on college when you are feeling depressed?</td><td>I know this might be a bit of a hard question to answer... Lately, I have just been feeling like giving up because I feel like my education is pointless because I won't be able to succeed and get through it. I am about to graduate in May. I am trying to hold on, but I am not doing so well in my courses. Should I visit a counselor? How should I fix this? #dealing-with-college </td></tr><tr><th>28</th><td>98c30720fcb7431e8f8de4ea4afc8790</td><td>d110a711882c450aab42977e67d13f9f</td><td>2017-09-27 00:25:21 UTC+0000</td><td>Question for professions at PwC! What is your favorite part of your job and what is the most challenging part?</td><td>What is your favorite part about your job? What is the most challenging part of your job? How do you honestly feel about your job and your career goals? Do you feel satisfied in your life being in the finance industry? How do you contribute to the better whole of society working the job you do? \\n\\n#CentreCollegeStudent #PwC #ProfessionalServiceWeek #passion </td></tr><tr><th>29</th><td>4e99b017897a46e88b9bf0c56ad01cd2</td><td>4baa9dc14d794359bd0b9a49ad4ad47d</td><td>2017-09-01 04:20:54 UTC+0000</td><td>How do I know I will get a job after college?</td><td>I'm worried that I will struggle to find a job once I obtain my degree.\\r\\n#stressed #worried #help #career-path #college </td></tr><tr><th>30</th><td>8df806208c1e4c838fd36917b2c07dc9</td><td>463f95aad19345eba4fee563d60a3d55</td><td>2018-10-14 20:40:53 UTC+0000</td><td>Are there any rules of thumb when it comes to student loans?</td><td>#finance #college #loans </td></tr><tr><th>&vellip;</th><td>&vellip;</td><td>&vellip;</td><td>&vellip;</td><td>&vellip;</td><td>&vellip;</td></tr></tbody></table>"
      ],
      "text/latex": [
       "\\begin{tabular}{r|ccccc}\n",
       "\t& questions\\_id & questions\\_author\\_id & questions\\_date\\_added & questions\\_title & questions\\_body\\\\\n",
       "\t\\hline\n",
       "\t& String⍰ & String⍰ & String⍰ & String⍰ & String⍰\\\\\n",
       "\t\\hline\n",
       "\t1 & 332a511f1569444485cf7a7a556a5e54 & 8f6f374ffd834d258ab69d376dd998f5 & 2016-04-26 11:14:26 UTC+0000 & Teacher   career   question & What  is  a  maths  teacher?   what  is  a  maths  teacher  useful? \\#college \\#professor \\#lecture \\\\\n",
       "\t2 & eb80205482e4424cad8f16bc25aa2d9c & acccbda28edd4362ab03fb8b6fd2d67b & 2016-05-20 16:48:25 UTC+0000 & I want to become an army officer. What can I do to become an army officer? & I am Priyanka from Bangalore . Now am in 10th std . When I go to college I should not get confused on what I want to take to become army officer. So I am asking this question  \\#military \\#army \\\\\n",
       "\t3 & 4ec31632938a40b98909416bdd0decff & f2c179a563024ccc927399ce529094b5 & 2017-02-08 19:13:38 UTC+0000 & Will going abroad for your first job increase your chances for jobs back home? & I'm planning on going abroad for my first job. It will be a teaching job and I don't have any serious career ideas. I don't know what job I would be working if I stay home instead so I'm assuming staying or leaving won't makeba huge difference in what I care about, unless I find something before my first job. I can think of ways that going abroad can be seen as good and bad. I do not know which side respectable employers willl side with. \\#working-abroad \\#employment- \\#overseas \\\\\n",
       "\t4 & 2f6a9a99d9b24e5baa50d40d0ba50a75 & 2c30ffba444e40eabb4583b55233a5a4 & 2017-09-01 14:05:32 UTC+0000 & To become a specialist in business  management, will I have to network myself? & i hear business management is a hard way to get a job if you're not known in the right areas. \\#business \\#networking  \\\\\n",
       "\t5 & 5af8880460c141dbb02971a1a8369529 & aa9eb1a2ab184ebbb00dc01ab663428a & 2017-09-01 02:36:54 UTC+0000 & Are there any scholarships out there for students that are first generation and live in GA? & I'm trying to find scholarships for first year students but they all seem to be for other states besides GA. Any help??\\textbackslash{}r\\textbackslash{}n\\textbackslash{}r\\textbackslash{}n\\#college\\textbackslash{}r\\textbackslash{}n\\#scholarships \\textbackslash{}r\\textbackslash{}n\\#highschoolsenior \\textbackslash{}r\\textbackslash{}n\\#firstgeneration \\textbackslash{}r\\textbackslash{}n \\\\\n",
       "\t6 & 7c336403258f4da3a2e0955742c76462 & d1e4587c0e784c62bc27eb8d16a07f38 & 2017-03-01 04:27:08 UTC+0000 & How many years of coege do you need to be an engineer & To be an engineer \\#united-states \\\\\n",
       "\t7 & be3c5edfdb07423e955e9b2d7f186bce & 71b4554d4a824253aa28287372c55797 & 2017-09-01 04:59:38 UTC+0000 & I want to become a doctor because of my great interest in science and helping people, but can I major in something that isn't science oriented? & I am a musician and want to pursue that in college as well, but I don't want my love of science to supersede that. \\textbackslash{}r\\textbackslash{}n\\#medicine \\#music  \\\\\n",
       "\t8 & 0f1d6a4f276c4a05878dd48e03e52289 & 585ac233015447cc9e9a217044e515e1 & 2016-05-19 22:16:25 UTC+0000 & what kind of  college could i go  to for a soccer player & I like soccer because i been playing sense i was 6 years old. soccer is my best sport  i played  for 1/7 years.every year.   \\#college \\#soccer \\#building \\\\\n",
       "\t9 & d4999cdc470049a1a3382c4b5f14a7aa & 654e1d6fd5b947249c0e70658d01b2ac & 2017-08-31 19:20:47 UTC+0000 & What are the college classes like for and graphics design major? & I'm asking because I was thinking about choosing that career as an major for when I go to  college. I though why not ask someone who has went to college and graduated with and  degree in that subject. \\#graphic-design  \\#graphics \\\\\n",
       "\t10 & e214acfbe6644d65b889a3268828db9d & 16908136951a48ed942738822cedd5c2 & 2012-09-09 05:33:25 UTC+0000 & what does it take to be an anesthesiologist? & I am a sophomore who is interested in learning more about anesthesiologist. What steps do they have to take in order to become a anesthesiologist? Is it fun or hard?  \\#doctor \\#healthcare \\#experience \\#anesthesiologist \\\\\n",
       "\t11 & 6351c23f2e144b359c3301d40b3d81ef & 4627ecfaf1814d2e8935ed3e3cd4b88b & 2018-08-14 20:10:09 UTC+0000 & What major is best for an aspiring Occupational Therapist? & \\#majors \\#occupationaltherapist \\\\\n",
       "\t12 & a978f83b826c4fba80cbef96f16777cd & 47be51b6231e4bbf8f354e0cece47e08 & 2016-10-24 17:25:35 UTC+0000 & How does the gender gap effect productivity in the work force? & As a woman of color, I am concerned about being marginalized in the workplace.  \\#scientists \\\\\n",
       "\t13 & 63171d8c2d3f4a8c9100b0bfcb062195 & 240a5e4e4acd469b936e1a091232ceb0 & 2016-10-25 21:09:04 UTC+0000 & As a civil engineer, what percent of your time would you say per week you spend on site helping to organize construction efforts and people and what percent of your time do you spend in an office making calculation and coming up with designs? & I would love to be a civil engineer one day. I definitely don't want to be a construction worker and spend all day outside working with tools and building things but I also wouldn't want a 10 hour a day desk job. Civil engineer seems like a happy medium and I just wondered from a professional if that was the case.  \\#mathematics \\#civil-engineering \\\\\n",
       "\t14 & fecd4c7f68144042abca8672b6114a36 & 3acd97cf60da4b23950fb316644da839 & 2018-01-15 22:03:20 UTC+0000 & what is the hardest about becoming a lawyer? & Throughout the process of becoming a lawyer, what is the hardest? Is it the LSAT's OR getting into a Law school, or finding a job after?  \\#lawyer  \\\\\n",
       "\t15 & baa937b4cd184a22acfd76249d25042c & 43411aa04f6041b0af4be5f881b21c18 & 2018-03-12 19:38:56 UTC+0000 & How to have a board that can attract \\$500,000 capital for a non-profit start up & I've been accepted at Harvard's joint bachelor's and master's program in management for the summer of 2018.  Since 2003, I've had a financial planning practice with Indian Tribes.  My goal at Harvard is to learn best practices, so I can transition my practice into a sustainable and scalable non-profit organization, the Native Finance Development Corporation, for Indian Country.  When funded, I will develop an online and in-person platform to provide financial education, debt resolution, savings and affordable loans to the tribal communities.  Initially, I intend to leverage my relationship with existing client tribes.\\textbackslash{}r\\textbackslash{}n\\textbackslash{}r\\textbackslash{}nI've already submitted for establishment of my 401(c)3 with the IRS.  In early March, 2018, I applied for certification as a Native American Community Development Finance Institution.  I have a business plan.  Over the next four years, I will attend Harvard full-time while developing  the IT and human resources and training aspects of the non-profit.\\textbackslash{}r\\textbackslash{}n\\textbackslash{}r\\textbackslash{}nWhat would be the most effective and efficient way to develop this board?  \\textbackslash{}r\\textbackslash{}n\\textbackslash{}r\\textbackslash{}n\\#business \\#business-development \\#nonprofits \\textbackslash{}r\\textbackslash{}n\\textbackslash{}r\\textbackslash{}n\\textbackslash{}r\\textbackslash{}n\\textbackslash{}r\\textbackslash{}n \\\\\n",
       "\t16 & eb0027b3dcd04d88b76a493fc1558c15 & aa425c019c7b49af97f58f9de4c609f9 & 2017-03-10 01:05:03 UTC+0000 & To be a dental hygienist or a dentist? & I'm a sophomore in high school and I am trying to decide what classes to take. I'm trying to take as many classes as I can if I decide I want to go to a four year school instead of just a two. I'm from Iowa and my biggest decision maker is how much I would make? I've read all over and there are tons of different numbers and job availabilities. I want to live extremely comfortably. I really enjoyed watching what the hygienist do, too. But, if the dentist make more then I think I want to do that.  I need advice.  \\#dentistry \\#dental-hygienist \\#family-dentistry \\#pediatric-dentistry \\\\\n",
       "\t17 & be0bac33e0594b21ac1f82fe2ffac7fb & 8801c375ce6a439a97acce986f4f826b & 2018-07-09 00:01:00 UTC+0000 & Is it better to sell your invention idea(s) to a company or raise money to patent it yourself? & I have a lot of invention ideas and I am not sure how to get help. There are a lot of website that say they help people who have invention ideas but I am afraid they will steal my ideas and I will not have any legal ownership of them.  \\textbackslash{}r\\textbackslash{}n\\textbackslash{}r\\textbackslash{}n\\#help \\#innovation \\#Mechanical \\#MechanicalEngineering  \\#engineering \\#engineers \\#patent \\#legal \\#IndustrialDesign  \\#design \\#inventor \\#problem \\#solving \\#ownership \\#money \\#company  \\#future \\#product \\#products \\#ideas \\#architect \\#art  \\#creative \\#science \\#technology \\#tech \\#customer  \\\\\n",
       "\t18 & 5cf8f5929e1c4357af4b467d4537dcef & 7b7ad31c59f74b3fbe9f597a0f580599 & 2016-05-13 01:49:00 UTC+0000 & Who/what do you think truly decides where you go to college? & Most people claim their decision to enroll in a certain college was completely their own. But is this accurate? How much of an influence do you think counselors, family members, friends, and/or money have in their decision? Are there other factors that may indirectly influence their decision? \\#college \\#higher-education \\#niche \\#decisions \\\\\n",
       "\t19 & f156171f9c4944de99c1ab974cb7558d & 454f348c03a14cb3acf4a385bb2aad32 & 2018-01-17 17:26:44 UTC+0000 & How can I get my work in Android development noticed by prospective users? & I have developed several Android applications (one of which is released on the Google Play Store) but am having trouble acquiring new users.  I am looking for ways to increase my user base without spending money on advertising, etc. \\#android \\#technology \\#programming  \\\\\n",
       "\t20 & fb615cf6770d4b7b92173d3210036df2 & 70a65013686d490eb717306fbc07e115 & 2016-03-01 18:52:49 UTC+0000 & Which topics in college most helped with your career in Industrial Psychology? & Hi, I am a high school senior and I have been interested in psychology for the majority of my life. When I heard about Industrial Psychology it really interested me and I would really like to know what topics in college assist those in the field. I would also like to know what is the day to day life in the job is like. \\#psychology \\\\\n",
       "\t21 & c1b82814b0274452873428b9db923939 & e630f730c91044fba85730b06c77e6ca & 2018-02-02 13:41:17 UTC+0000 & How easy/hard is it to find a job in architecture? & I am currently in between a few possible career options.\\textbackslash{}nHow easy/hard is it to get a good paying job as an architect right out of college?\\textbackslash{}nHow easy/hard is it to get a good paying job in the marketing field?\\textbackslash{}nHow easy/hard is it to get a good paying job in the engineering field?\\textbackslash{}n\\#architecture  \\#marketing-and-advertising  \\#engineering  \\\\\n",
       "\t22 & f05b579f2cd3432898f3ba54feee86b6 & 552e9d750bcf4fa4a32a2d894749dd46 & 2018-04-24 16:43:01 UTC+0000 & If medicine improves and allows people to live much longer lives, how will we provide for everyone? & As medical technology improves, people live longer, healthier lives. Anti-aging technologies are getting better and better. If people start regularly living to 100 or longer, or if human life is extended even further beyond natural limits, how we provide for everyone?\\textbackslash{}r\\textbackslash{}n\\textbackslash{}r\\textbackslash{}nHow will people in my generation flourish if people currently in their 20s 30s, 40s, and 50s never retire, and keep working indefinitely? How will my generation support and care for a massive population of elderly people? \\textbackslash{}r\\textbackslash{}n\\textbackslash{}r\\textbackslash{}n\\#technology \\#future \\#medicine \\#career  \\\\\n",
       "\t23 & 914d40e5d2cd41baace8320541e23b0f & 30edfaf3ad724737b79bab14612f1f3b & 2018-03-23 23:18:15 UTC+0000 & Why are there not more females that help or support other females in college? & \\#female-empowerment \\#women \\#empowering-women  \\\\\n",
       "\t24 & 205e5d1d3db3473c85c3b3ccc2dd1d61 & dc4dc0965fbb4d0b8272f7693087fd1e & 2018-03-13 01:28:28 UTC+0000 & What Is The Best Undergraduate Degree Before Pursuing A DVM? & I know that there are several options for undergraduate degrees that I could do before pursuing a Doctor of Veterinary Medicine. I could do Pre-Med, an undergraduate in Biophysical Sciences, or basically, anything else that satisfies the minimum requirements for the veterinary college I am to attend. I would like to know what the best option is that will prepare me the most for my chosen occupation of Veterinary Medicine.\\textbackslash{}r\\textbackslash{}n\\textbackslash{}r\\textbackslash{}n\\#animals \\#veterinary \\#veterinary-technician \\#veterinary-medicine \\\\\n",
       "\t25 & 5101824b39d146aca51bf3427fb51f60 & 59691f8cc9b24e35b05f20f0e6b82a11 & 2015-09-04 10:34:47 UTC+0000 & i am searching college for engineering in civil or computer in US and  i am from nepal with medium economy & i am from nepal and wants to know how can i join engineering in US and i am from medium economy family .. can i actually afford there by doing side job if available \\#engineer \\#consulting \\\\\n",
       "\t26 & ec2d5840a0f14aa4bc4b023d660a1318 & e3d75968077c4d6c940943454bd4aae2 & 2018-01-31 14:35:00 UTC+0000 & I am really interested in science, but not so much with math...are there any feilds in science that require limited math? & Science is usually my best subject, but math is usually my worst. I really want to be involved in the science feild but i am afraid this isn't possible with my subpar math skills. I've found a few options, but am in need of suggestions. \\#science  \\#biology  \\#math  \\\\\n",
       "\t27 & 79acffec2c84405984d059f27079f7fd & af5ab70613e44eefad6112eef251d929 & 2018-03-13 03:02:59 UTC+0000 & How to not give up on college when you are feeling depressed? & I know this might be a bit of a hard question to answer... Lately, I have just been feeling like giving up because I feel like my education is pointless because I won't be able to succeed and get through it. I am about to graduate in May. I am trying to hold on, but I am not doing so well in my courses. Should I visit a counselor? How should I fix this? \\#dealing-with-college  \\\\\n",
       "\t28 & 98c30720fcb7431e8f8de4ea4afc8790 & d110a711882c450aab42977e67d13f9f & 2017-09-27 00:25:21 UTC+0000 & Question for professions at PwC! What is your favorite part of your job and what is the most challenging part? & What is your favorite part about your job? What is the most challenging part of your job? How do you honestly feel about your job and your career goals? Do you feel satisfied in your life being in the finance industry? How do you contribute to the better whole of society working the job you do? \\textbackslash{}n\\textbackslash{}n\\#CentreCollegeStudent \\#PwC \\#ProfessionalServiceWeek \\#passion  \\\\\n",
       "\t29 & 4e99b017897a46e88b9bf0c56ad01cd2 & 4baa9dc14d794359bd0b9a49ad4ad47d & 2017-09-01 04:20:54 UTC+0000 & How do I know I will get a job after college? & I'm worried that I will struggle to find a job once I obtain my degree.\\textbackslash{}r\\textbackslash{}n\\#stressed \\#worried \\#help \\#career-path \\#college  \\\\\n",
       "\t30 & 8df806208c1e4c838fd36917b2c07dc9 & 463f95aad19345eba4fee563d60a3d55 & 2018-10-14 20:40:53 UTC+0000 & Are there any rules of thumb when it comes to student loans? & \\#finance \\#college \\#loans  \\\\\n",
       "\t$\\dots$ & $\\dots$ & $\\dots$ & $\\dots$ & $\\dots$ & $\\dots$ \\\\\n",
       "\\end{tabular}\n"
      ],
      "text/plain": [
       "23931×5 DataFrame. Omitted printing of 3 columns\n",
       "│ Row   │ questions_id                     │ questions_author_id              │\n",
       "│       │ \u001b[90mUnion{Missing, String}\u001b[39m           │ \u001b[90mUnion{Missing, String}\u001b[39m           │\n",
       "├───────┼──────────────────────────────────┼──────────────────────────────────┤\n",
       "│ 1     │ 332a511f1569444485cf7a7a556a5e54 │ 8f6f374ffd834d258ab69d376dd998f5 │\n",
       "│ 2     │ eb80205482e4424cad8f16bc25aa2d9c │ acccbda28edd4362ab03fb8b6fd2d67b │\n",
       "│ 3     │ 4ec31632938a40b98909416bdd0decff │ f2c179a563024ccc927399ce529094b5 │\n",
       "│ 4     │ 2f6a9a99d9b24e5baa50d40d0ba50a75 │ 2c30ffba444e40eabb4583b55233a5a4 │\n",
       "│ 5     │ 5af8880460c141dbb02971a1a8369529 │ aa9eb1a2ab184ebbb00dc01ab663428a │\n",
       "│ 6     │ 7c336403258f4da3a2e0955742c76462 │ d1e4587c0e784c62bc27eb8d16a07f38 │\n",
       "│ 7     │ be3c5edfdb07423e955e9b2d7f186bce │ 71b4554d4a824253aa28287372c55797 │\n",
       "│ 8     │ 0f1d6a4f276c4a05878dd48e03e52289 │ 585ac233015447cc9e9a217044e515e1 │\n",
       "│ 9     │ d4999cdc470049a1a3382c4b5f14a7aa │ 654e1d6fd5b947249c0e70658d01b2ac │\n",
       "│ 10    │ e214acfbe6644d65b889a3268828db9d │ 16908136951a48ed942738822cedd5c2 │\n",
       "⋮\n",
       "│ 23921 │ 102c1c9f2373485f8a001e5dae7fe613 │ 63ac8ce004334b7d99b242428c170cd8 │\n",
       "│ 23922 │ b4d121f0fccd41e79fced5810f4b3638 │ 950f1ea4d19b4cf7bbb4d226241d4b15 │\n",
       "│ 23923 │ 72d48d6351924ce99796658950aec869 │ 2c1a13c4c79f4e85b6b5335e64783a6c │\n",
       "│ 23924 │ 4d48b42c25ff499e8e31981f72098090 │ 9ae81395f6434db4a7143ecc5bfa7381 │\n",
       "│ 23925 │ 19e1b4fb883f4a55a1e6d1fa449b4422 │ 971b5846b6324e788f5bfcc1defcaa60 │\n",
       "│ 23926 │ fa506016974d43c1b0b0649e65af6ce5 │ 66d54cc26d7f43ceb30e1909277d5b99 │\n",
       "│ 23927 │ ce1ff7a035d74721a5b7d21105f9ddb6 │ c1c6e6a8c9df4c02af52eda6fa0c552f │\n",
       "│ 23928 │ 7df38c9ded4a4474bb4f9c1f659e1ad1 │ 6ab792d625e14eb2abc14f9a57a450aa │\n",
       "│ 23929 │ 63c89317413046f483020585f0cc8dc4 │ 977428d851b24183b223be0eb8619a8c │\n",
       "│ 23930 │ b64ef9cf0d33475ca9c22bdb8749f5a8 │ 82cc74c0e18347e4b68b219e250eb10f │\n",
       "│ 23931 │ 1b1ebe9afc5046ccbb328704e88e5cc0 │ d233c9936cd64363877ffea1feb10c35 │"
      ]
     },
     "execution_count": 16,
     "metadata": {},
     "output_type": "execute_result"
    }
   ],
   "source": [
    "questions = explore_data(\"data/questions.csv\")"
   ]
  },
  {
   "cell_type": "markdown",
   "metadata": {},
   "source": [
    "### School Memberships"
   ]
  },
  {
   "cell_type": "code",
   "execution_count": 17,
   "metadata": {},
   "outputs": [
    {
     "data": {
      "text/plain": [
       "2-element Array{Symbol,1}:\n",
       " :school_memberships_school_id\n",
       " :school_memberships_user_id  "
      ]
     },
     "metadata": {},
     "output_type": "display_data"
    },
    {
     "data": {
      "text/html": [
       "<table class=\"data-frame\"><thead><tr><th></th><th>school_memberships_school_id</th><th>school_memberships_user_id</th></tr><tr><th></th><th>Int64⍰</th><th>String⍰</th></tr></thead><tbody><p>5,638 rows × 2 columns</p><tr><th>1</th><td>197406</td><td>23dce13ca6164a73aec7a3cd56a4884d</td></tr><tr><th>2</th><td>197398</td><td>23dce13ca6164a73aec7a3cd56a4884d</td></tr><tr><th>3</th><td>199821</td><td>23dce13ca6164a73aec7a3cd56a4884d</td></tr><tr><th>4</th><td>186239</td><td>9c5803ae43ca4cf6b27ea85871625116</td></tr><tr><th>5</th><td>182063</td><td>9c5803ae43ca4cf6b27ea85871625116</td></tr><tr><th>6</th><td>197893</td><td>9c5803ae43ca4cf6b27ea85871625116</td></tr><tr><th>7</th><td>197913</td><td>9c5803ae43ca4cf6b27ea85871625116</td></tr><tr><th>8</th><td>198515</td><td>9c5803ae43ca4cf6b27ea85871625116</td></tr><tr><th>9</th><td>197922</td><td>f6495850d9be4bebbd0a78f25a9f4371</td></tr><tr><th>10</th><td>102979</td><td>f6495850d9be4bebbd0a78f25a9f4371</td></tr><tr><th>11</th><td>140409</td><td>8184a78118104fd9990ebd91dc25fc7d</td></tr><tr><th>12</th><td>93732</td><td>8184a78118104fd9990ebd91dc25fc7d</td></tr><tr><th>13</th><td>196755</td><td>8184a78118104fd9990ebd91dc25fc7d</td></tr><tr><th>14</th><td>196809</td><td>cb5efdb6742143169de54ee11b9eb314</td></tr><tr><th>15</th><td>109178</td><td>8edea83e5da54eccb2be640f91fe8cac</td></tr><tr><th>16</th><td>196401</td><td>8edea83e5da54eccb2be640f91fe8cac</td></tr><tr><th>17</th><td>73655</td><td>df6914127acf484a8addf256396d6857</td></tr><tr><th>18</th><td>75029</td><td>df6914127acf484a8addf256396d6857</td></tr><tr><th>19</th><td>196230</td><td>df6914127acf484a8addf256396d6857</td></tr><tr><th>20</th><td>197246</td><td>df6914127acf484a8addf256396d6857</td></tr><tr><th>21</th><td>198334</td><td>19a0bc7af96e4b3f96d174249bdcde1b</td></tr><tr><th>22</th><td>196913</td><td>233ab2b01dc94180b2f0519f2723b7b4</td></tr><tr><th>23</th><td>196665</td><td>564ef581bed64addb3cf0ff0ab652ffd</td></tr><tr><th>24</th><td>196393</td><td>6814d369672b4c34856bdac085f69506</td></tr><tr><th>25</th><td>69932</td><td>bc46e3699d92477ba8c7aa723e54a151</td></tr><tr><th>26</th><td>196343</td><td>bc46e3699d92477ba8c7aa723e54a151</td></tr><tr><th>27</th><td>196393</td><td>bc46e3699d92477ba8c7aa723e54a151</td></tr><tr><th>28</th><td>198741</td><td>955add7b9d3c4295812f453d07cbbcc7</td></tr><tr><th>29</th><td>197007</td><td>955add7b9d3c4295812f453d07cbbcc7</td></tr><tr><th>30</th><td>196401</td><td>17001ea532b044b08a006a989924e2e9</td></tr><tr><th>&vellip;</th><td>&vellip;</td><td>&vellip;</td></tr></tbody></table>"
      ],
      "text/latex": [
       "\\begin{tabular}{r|cc}\n",
       "\t& school\\_memberships\\_school\\_id & school\\_memberships\\_user\\_id\\\\\n",
       "\t\\hline\n",
       "\t& Int64⍰ & String⍰\\\\\n",
       "\t\\hline\n",
       "\t1 & 197406 & 23dce13ca6164a73aec7a3cd56a4884d \\\\\n",
       "\t2 & 197398 & 23dce13ca6164a73aec7a3cd56a4884d \\\\\n",
       "\t3 & 199821 & 23dce13ca6164a73aec7a3cd56a4884d \\\\\n",
       "\t4 & 186239 & 9c5803ae43ca4cf6b27ea85871625116 \\\\\n",
       "\t5 & 182063 & 9c5803ae43ca4cf6b27ea85871625116 \\\\\n",
       "\t6 & 197893 & 9c5803ae43ca4cf6b27ea85871625116 \\\\\n",
       "\t7 & 197913 & 9c5803ae43ca4cf6b27ea85871625116 \\\\\n",
       "\t8 & 198515 & 9c5803ae43ca4cf6b27ea85871625116 \\\\\n",
       "\t9 & 197922 & f6495850d9be4bebbd0a78f25a9f4371 \\\\\n",
       "\t10 & 102979 & f6495850d9be4bebbd0a78f25a9f4371 \\\\\n",
       "\t11 & 140409 & 8184a78118104fd9990ebd91dc25fc7d \\\\\n",
       "\t12 & 93732 & 8184a78118104fd9990ebd91dc25fc7d \\\\\n",
       "\t13 & 196755 & 8184a78118104fd9990ebd91dc25fc7d \\\\\n",
       "\t14 & 196809 & cb5efdb6742143169de54ee11b9eb314 \\\\\n",
       "\t15 & 109178 & 8edea83e5da54eccb2be640f91fe8cac \\\\\n",
       "\t16 & 196401 & 8edea83e5da54eccb2be640f91fe8cac \\\\\n",
       "\t17 & 73655 & df6914127acf484a8addf256396d6857 \\\\\n",
       "\t18 & 75029 & df6914127acf484a8addf256396d6857 \\\\\n",
       "\t19 & 196230 & df6914127acf484a8addf256396d6857 \\\\\n",
       "\t20 & 197246 & df6914127acf484a8addf256396d6857 \\\\\n",
       "\t21 & 198334 & 19a0bc7af96e4b3f96d174249bdcde1b \\\\\n",
       "\t22 & 196913 & 233ab2b01dc94180b2f0519f2723b7b4 \\\\\n",
       "\t23 & 196665 & 564ef581bed64addb3cf0ff0ab652ffd \\\\\n",
       "\t24 & 196393 & 6814d369672b4c34856bdac085f69506 \\\\\n",
       "\t25 & 69932 & bc46e3699d92477ba8c7aa723e54a151 \\\\\n",
       "\t26 & 196343 & bc46e3699d92477ba8c7aa723e54a151 \\\\\n",
       "\t27 & 196393 & bc46e3699d92477ba8c7aa723e54a151 \\\\\n",
       "\t28 & 198741 & 955add7b9d3c4295812f453d07cbbcc7 \\\\\n",
       "\t29 & 197007 & 955add7b9d3c4295812f453d07cbbcc7 \\\\\n",
       "\t30 & 196401 & 17001ea532b044b08a006a989924e2e9 \\\\\n",
       "\t$\\dots$ & $\\dots$ & $\\dots$ \\\\\n",
       "\\end{tabular}\n"
      ],
      "text/plain": [
       "5638×2 DataFrame\n",
       "│ Row  │ school_memberships_school_id │ school_memberships_user_id       │\n",
       "│      │ \u001b[90mUnion{Missing, Int64}\u001b[39m        │ \u001b[90mUnion{Missing, String}\u001b[39m           │\n",
       "├──────┼──────────────────────────────┼──────────────────────────────────┤\n",
       "│ 1    │ 197406                       │ 23dce13ca6164a73aec7a3cd56a4884d │\n",
       "│ 2    │ 197398                       │ 23dce13ca6164a73aec7a3cd56a4884d │\n",
       "│ 3    │ 199821                       │ 23dce13ca6164a73aec7a3cd56a4884d │\n",
       "│ 4    │ 186239                       │ 9c5803ae43ca4cf6b27ea85871625116 │\n",
       "│ 5    │ 182063                       │ 9c5803ae43ca4cf6b27ea85871625116 │\n",
       "│ 6    │ 197893                       │ 9c5803ae43ca4cf6b27ea85871625116 │\n",
       "│ 7    │ 197913                       │ 9c5803ae43ca4cf6b27ea85871625116 │\n",
       "│ 8    │ 198515                       │ 9c5803ae43ca4cf6b27ea85871625116 │\n",
       "│ 9    │ 197922                       │ f6495850d9be4bebbd0a78f25a9f4371 │\n",
       "│ 10   │ 102979                       │ f6495850d9be4bebbd0a78f25a9f4371 │\n",
       "⋮\n",
       "│ 5628 │ 199745                       │ 56f3b56efe31426299f4887f56dd9126 │\n",
       "│ 5629 │ 196304                       │ 56f3b56efe31426299f4887f56dd9126 │\n",
       "│ 5630 │ 70289                        │ a859df38c3684f18b9930997a87022b4 │\n",
       "│ 5631 │ 199676                       │ a859df38c3684f18b9930997a87022b4 │\n",
       "│ 5632 │ 75256                        │ de40a9dc047c4cf3acdf9756af10462c │\n",
       "│ 5633 │ 196653                       │ eee7985edfc64e0494b1424fed2136b8 │\n",
       "│ 5634 │ 196377                       │ a8a936e405204420a981ffec2ae0dc98 │\n",
       "│ 5635 │ 196396                       │ a8a936e405204420a981ffec2ae0dc98 │\n",
       "│ 5636 │ 196700                       │ de2415064b9b445c8717425ed70fd99a │\n",
       "│ 5637 │ 198038                       │ de2415064b9b445c8717425ed70fd99a │\n",
       "│ 5638 │ 197243                       │ 46277aad38704d319e8f953b5592819c │"
      ]
     },
     "execution_count": 17,
     "metadata": {},
     "output_type": "execute_result"
    }
   ],
   "source": [
    "school_memberships = explore_data(\"data/school_memberships.csv\")"
   ]
  },
  {
   "cell_type": "markdown",
   "metadata": {},
   "source": [
    "### Students"
   ]
  },
  {
   "cell_type": "code",
   "execution_count": 18,
   "metadata": {},
   "outputs": [
    {
     "data": {
      "text/plain": [
       "3-element Array{Symbol,1}:\n",
       " :students_id         \n",
       " :students_location   \n",
       " :students_date_joined"
      ]
     },
     "metadata": {},
     "output_type": "display_data"
    },
    {
     "data": {
      "text/html": [
       "<table class=\"data-frame\"><thead><tr><th></th><th>students_id</th><th>students_location</th><th>students_date_joined</th></tr><tr><th></th><th>String⍰</th><th>String⍰</th><th>String⍰</th></tr></thead><tbody><p>30,971 rows × 3 columns</p><tr><th>1</th><td>12a89e96755a4dba83ff03e03043d9c0</td><td>missing</td><td>2011-12-16 14:19:24 UTC+0000</td></tr><tr><th>2</th><td>e37a5990fe354c60be5e87376b08d5e3</td><td>missing</td><td>2011-12-27 03:02:44 UTC+0000</td></tr><tr><th>3</th><td>12b402cceeda43dcb6e12ef9f2d221ea</td><td>missing</td><td>2012-01-01 05:00:00 UTC+0000</td></tr><tr><th>4</th><td>a0f431fc79794edcb104f68ce55ab897</td><td>missing</td><td>2012-01-01 05:00:00 UTC+0000</td></tr><tr><th>5</th><td>23aea4702d804bd88d1e9fb28074a1b4</td><td>missing</td><td>2012-01-01 05:00:00 UTC+0000</td></tr><tr><th>6</th><td>18a8f9363cd24a37b690e1b205146b14</td><td>missing</td><td>2012-01-01 05:00:00 UTC+0000</td></tr><tr><th>7</th><td>d21c67279ada49d1bcf66ad620c00911</td><td>missing</td><td>2012-01-01 05:00:00 UTC+0000</td></tr><tr><th>8</th><td>433c0f5f90344453ba50ec8aee5fdfa4</td><td>missing</td><td>2012-01-01 05:00:00 UTC+0000</td></tr><tr><th>9</th><td>f0a7d23c3d374f8d9a1a5eb9b96eab0f</td><td>missing</td><td>2012-01-01 05:00:00 UTC+0000</td></tr><tr><th>10</th><td>26269f6765b74347b28155aea1b57393</td><td>missing</td><td>2012-01-01 05:00:00 UTC+0000</td></tr><tr><th>11</th><td>f19f07d3ae054c8986d484fd768ebe91</td><td>missing</td><td>2012-01-01 05:00:00 UTC+0000</td></tr><tr><th>12</th><td>7c17eee6e63f44a4972cd7ad5e01e896</td><td>missing</td><td>2012-01-01 05:00:00 UTC+0000</td></tr><tr><th>13</th><td>c5e6c290f1e84ec09b595d37f58e0277</td><td>missing</td><td>2012-01-01 05:00:00 UTC+0000</td></tr><tr><th>14</th><td>f7a2f122d9444c30a8059d7c9977bf5b</td><td>missing</td><td>2012-01-01 05:00:00 UTC+0000</td></tr><tr><th>15</th><td>761e6dbe1b8f42d388cf640e4cb60511</td><td>missing</td><td>2012-01-01 05:00:00 UTC+0000</td></tr><tr><th>16</th><td>76e3c7b0436b44b6bcb718353389fc17</td><td>missing</td><td>2012-01-01 05:00:00 UTC+0000</td></tr><tr><th>17</th><td>76543fdd7d0d47c38d0d0f66cae86b4c</td><td>missing</td><td>2012-01-01 05:00:00 UTC+0000</td></tr><tr><th>18</th><td>d495ba67f1ce46a19806201dea4996c6</td><td>missing</td><td>2012-01-01 05:00:00 UTC+0000</td></tr><tr><th>19</th><td>f6456e9a3ffe47f2a4f0c0ac9925c101</td><td>missing</td><td>2012-01-01 05:00:00 UTC+0000</td></tr><tr><th>20</th><td>9f9b537c661c455c93ae64f4106c2990</td><td>missing</td><td>2012-01-01 05:00:00 UTC+0000</td></tr><tr><th>21</th><td>6b6bedc2096348e2957e34bd8920fbb0</td><td>missing</td><td>2012-01-01 05:00:00 UTC+0000</td></tr><tr><th>22</th><td>45b5a5ac40fd4f77a5cd52e496a4d0ce</td><td>missing</td><td>2012-01-01 05:00:00 UTC+0000</td></tr><tr><th>23</th><td>ba4def20e1184fa599b55145c33fade6</td><td>missing</td><td>2012-01-01 05:00:00 UTC+0000</td></tr><tr><th>24</th><td>6b98d59bcc594e1db7d7e6f92202a802</td><td>missing</td><td>2012-01-01 05:00:00 UTC+0000</td></tr><tr><th>25</th><td>d13761de67544834862058425028360a</td><td>missing</td><td>2012-01-01 05:00:00 UTC+0000</td></tr><tr><th>26</th><td>2341742efb924ea3aa0444fd5532b7e4</td><td>missing</td><td>2012-01-01 05:00:00 UTC+0000</td></tr><tr><th>27</th><td>a7113312c7e24f92b6018a1f0e08a88a</td><td>missing</td><td>2012-01-01 05:00:00 UTC+0000</td></tr><tr><th>28</th><td>faa066f7e4784d22a7efa2bf3e458aba</td><td>missing</td><td>2012-01-01 05:00:00 UTC+0000</td></tr><tr><th>29</th><td>84550bb131df4e6c8269ac2e37bbddce</td><td>missing</td><td>2012-01-01 05:00:00 UTC+0000</td></tr><tr><th>30</th><td>1bb133ca30e0420780a1eb432b795820</td><td>missing</td><td>2012-01-01 05:00:00 UTC+0000</td></tr><tr><th>&vellip;</th><td>&vellip;</td><td>&vellip;</td><td>&vellip;</td></tr></tbody></table>"
      ],
      "text/latex": [
       "\\begin{tabular}{r|ccc}\n",
       "\t& students\\_id & students\\_location & students\\_date\\_joined\\\\\n",
       "\t\\hline\n",
       "\t& String⍰ & String⍰ & String⍰\\\\\n",
       "\t\\hline\n",
       "\t1 & 12a89e96755a4dba83ff03e03043d9c0 &  & 2011-12-16 14:19:24 UTC+0000 \\\\\n",
       "\t2 & e37a5990fe354c60be5e87376b08d5e3 &  & 2011-12-27 03:02:44 UTC+0000 \\\\\n",
       "\t3 & 12b402cceeda43dcb6e12ef9f2d221ea &  & 2012-01-01 05:00:00 UTC+0000 \\\\\n",
       "\t4 & a0f431fc79794edcb104f68ce55ab897 &  & 2012-01-01 05:00:00 UTC+0000 \\\\\n",
       "\t5 & 23aea4702d804bd88d1e9fb28074a1b4 &  & 2012-01-01 05:00:00 UTC+0000 \\\\\n",
       "\t6 & 18a8f9363cd24a37b690e1b205146b14 &  & 2012-01-01 05:00:00 UTC+0000 \\\\\n",
       "\t7 & d21c67279ada49d1bcf66ad620c00911 &  & 2012-01-01 05:00:00 UTC+0000 \\\\\n",
       "\t8 & 433c0f5f90344453ba50ec8aee5fdfa4 &  & 2012-01-01 05:00:00 UTC+0000 \\\\\n",
       "\t9 & f0a7d23c3d374f8d9a1a5eb9b96eab0f &  & 2012-01-01 05:00:00 UTC+0000 \\\\\n",
       "\t10 & 26269f6765b74347b28155aea1b57393 &  & 2012-01-01 05:00:00 UTC+0000 \\\\\n",
       "\t11 & f19f07d3ae054c8986d484fd768ebe91 &  & 2012-01-01 05:00:00 UTC+0000 \\\\\n",
       "\t12 & 7c17eee6e63f44a4972cd7ad5e01e896 &  & 2012-01-01 05:00:00 UTC+0000 \\\\\n",
       "\t13 & c5e6c290f1e84ec09b595d37f58e0277 &  & 2012-01-01 05:00:00 UTC+0000 \\\\\n",
       "\t14 & f7a2f122d9444c30a8059d7c9977bf5b &  & 2012-01-01 05:00:00 UTC+0000 \\\\\n",
       "\t15 & 761e6dbe1b8f42d388cf640e4cb60511 &  & 2012-01-01 05:00:00 UTC+0000 \\\\\n",
       "\t16 & 76e3c7b0436b44b6bcb718353389fc17 &  & 2012-01-01 05:00:00 UTC+0000 \\\\\n",
       "\t17 & 76543fdd7d0d47c38d0d0f66cae86b4c &  & 2012-01-01 05:00:00 UTC+0000 \\\\\n",
       "\t18 & d495ba67f1ce46a19806201dea4996c6 &  & 2012-01-01 05:00:00 UTC+0000 \\\\\n",
       "\t19 & f6456e9a3ffe47f2a4f0c0ac9925c101 &  & 2012-01-01 05:00:00 UTC+0000 \\\\\n",
       "\t20 & 9f9b537c661c455c93ae64f4106c2990 &  & 2012-01-01 05:00:00 UTC+0000 \\\\\n",
       "\t21 & 6b6bedc2096348e2957e34bd8920fbb0 &  & 2012-01-01 05:00:00 UTC+0000 \\\\\n",
       "\t22 & 45b5a5ac40fd4f77a5cd52e496a4d0ce &  & 2012-01-01 05:00:00 UTC+0000 \\\\\n",
       "\t23 & ba4def20e1184fa599b55145c33fade6 &  & 2012-01-01 05:00:00 UTC+0000 \\\\\n",
       "\t24 & 6b98d59bcc594e1db7d7e6f92202a802 &  & 2012-01-01 05:00:00 UTC+0000 \\\\\n",
       "\t25 & d13761de67544834862058425028360a &  & 2012-01-01 05:00:00 UTC+0000 \\\\\n",
       "\t26 & 2341742efb924ea3aa0444fd5532b7e4 &  & 2012-01-01 05:00:00 UTC+0000 \\\\\n",
       "\t27 & a7113312c7e24f92b6018a1f0e08a88a &  & 2012-01-01 05:00:00 UTC+0000 \\\\\n",
       "\t28 & faa066f7e4784d22a7efa2bf3e458aba &  & 2012-01-01 05:00:00 UTC+0000 \\\\\n",
       "\t29 & 84550bb131df4e6c8269ac2e37bbddce &  & 2012-01-01 05:00:00 UTC+0000 \\\\\n",
       "\t30 & 1bb133ca30e0420780a1eb432b795820 &  & 2012-01-01 05:00:00 UTC+0000 \\\\\n",
       "\t$\\dots$ & $\\dots$ & $\\dots$ & $\\dots$ \\\\\n",
       "\\end{tabular}\n"
      ],
      "text/plain": [
       "30971×3 DataFrame. Omitted printing of 2 columns\n",
       "│ Row   │ students_id                      │\n",
       "│       │ \u001b[90mUnion{Missing, String}\u001b[39m           │\n",
       "├───────┼──────────────────────────────────┤\n",
       "│ 1     │ 12a89e96755a4dba83ff03e03043d9c0 │\n",
       "│ 2     │ e37a5990fe354c60be5e87376b08d5e3 │\n",
       "│ 3     │ 12b402cceeda43dcb6e12ef9f2d221ea │\n",
       "│ 4     │ a0f431fc79794edcb104f68ce55ab897 │\n",
       "│ 5     │ 23aea4702d804bd88d1e9fb28074a1b4 │\n",
       "│ 6     │ 18a8f9363cd24a37b690e1b205146b14 │\n",
       "│ 7     │ d21c67279ada49d1bcf66ad620c00911 │\n",
       "│ 8     │ 433c0f5f90344453ba50ec8aee5fdfa4 │\n",
       "│ 9     │ f0a7d23c3d374f8d9a1a5eb9b96eab0f │\n",
       "│ 10    │ 26269f6765b74347b28155aea1b57393 │\n",
       "⋮\n",
       "│ 30961 │ c377c9ad468c43eeb920f01051174295 │\n",
       "│ 30962 │ 0a5e2196c8bc4cd1a379a6455e17e58a │\n",
       "│ 30963 │ 246417df7b7e49fb9adca803c2a2d6ee │\n",
       "│ 30964 │ 682ee5be71884281a0789ea95c4ecc65 │\n",
       "│ 30965 │ 986cb049d2c44c43816b2a7f7ad91ea2 │\n",
       "│ 30966 │ 965f3afe66b3453dba0366ea28ccc3a0 │\n",
       "│ 30967 │ 1154f74f4ac14aaf8ef1b15cdda2b84f │\n",
       "│ 30968 │ 008c7ebabbdf4e7382870d172e6e6691 │\n",
       "│ 30969 │ c445148b5fc8472da00f50b86dfd8faa │\n",
       "│ 30970 │ 44b3515e25454cfb80ed1df3a2a23f61 │\n",
       "│ 30971 │ 1de9d7d0329e40e6996bbc92d13c6a00 │"
      ]
     },
     "execution_count": 18,
     "metadata": {},
     "output_type": "execute_result"
    }
   ],
   "source": [
    "students = explore_data(\"data/students.csv\")"
   ]
  },
  {
   "cell_type": "markdown",
   "metadata": {},
   "source": [
    "### Tag Questions"
   ]
  },
  {
   "cell_type": "code",
   "execution_count": 19,
   "metadata": {},
   "outputs": [
    {
     "data": {
      "text/plain": [
       "2-element Array{Symbol,1}:\n",
       " :tag_questions_tag_id     \n",
       " :tag_questions_question_id"
      ]
     },
     "metadata": {},
     "output_type": "display_data"
    },
    {
     "data": {
      "text/html": [
       "<table class=\"data-frame\"><thead><tr><th></th><th>tag_questions_tag_id</th><th>tag_questions_question_id</th></tr><tr><th></th><th>Int64⍰</th><th>String⍰</th></tr></thead><tbody><p>76,553 rows × 2 columns</p><tr><th>1</th><td>28930</td><td>cb43ebee01364c68ac61d347a393ae39</td></tr><tr><th>2</th><td>28930</td><td>47f55e85ce944242a5a347ab85a8ffb4</td></tr><tr><th>3</th><td>28930</td><td>ccc30a033a0f4dfdb2eb987012f25792</td></tr><tr><th>4</th><td>28930</td><td>e30b274e48d741f7bf50eb5e7171a3c0</td></tr><tr><th>5</th><td>28930</td><td>3d22742052df4989b311b4195cbb0f1a</td></tr><tr><th>6</th><td>28930</td><td>c79baebeb6d44726b6f70a2414fb69bc</td></tr><tr><th>7</th><td>28930</td><td>4eb64ed1527847f29d3e3d8a713bb3dc</td></tr><tr><th>8</th><td>28930</td><td>bebfb741f4524b8cb871f35b5780b54f</td></tr><tr><th>9</th><td>28930</td><td>3e7c462a0adb4bfa8830282867f3900b</td></tr><tr><th>10</th><td>28930</td><td>23b52dd81ad7465a9472596c7dedc492</td></tr><tr><th>11</th><td>28930</td><td>8adf891fa3d4451fa6f56cbfb85e1ea4</td></tr><tr><th>12</th><td>28930</td><td>e184549a832647f2a17ee2909d4938cf</td></tr><tr><th>13</th><td>28930</td><td>a80c0870d2b44ad586988053c86bc0ec</td></tr><tr><th>14</th><td>28930</td><td>5cdcacacb5f24a3a9bf34507ab7bb0a5</td></tr><tr><th>15</th><td>28930</td><td>fcee43dddcf546baa6837013213de7f5</td></tr><tr><th>16</th><td>28930</td><td>1e5fc85f0c0a4d58ab96918f5ec70c24</td></tr><tr><th>17</th><td>28930</td><td>f005cad7aae34394852de6f58d2129b1</td></tr><tr><th>18</th><td>28930</td><td>d37274bd121a4f4f8d5cee8c76c191cf</td></tr><tr><th>19</th><td>28930</td><td>3b0d3e84f1874016b42109fdc15e6d9c</td></tr><tr><th>20</th><td>28930</td><td>66fb01788f2646caa11babcfc63669c7</td></tr><tr><th>21</th><td>28933</td><td>7bb68116d0a44afb9945258da7ce7461</td></tr><tr><th>22</th><td>28933</td><td>5ad683a5f52d46199857e4c3e6eca4c4</td></tr><tr><th>23</th><td>28933</td><td>dd79931438d7422f9c75bb151df2c516</td></tr><tr><th>24</th><td>28933</td><td>2547379c118640c6bc431448b742fee4</td></tr><tr><th>25</th><td>28933</td><td>5b0ba044d7c74408bb55e10f78d184bb</td></tr><tr><th>26</th><td>28933</td><td>9c3ed93b83894c87baf82090a7d152f7</td></tr><tr><th>27</th><td>28933</td><td>bf0e71f6c29b4f4c9f50165457c62593</td></tr><tr><th>28</th><td>28933</td><td>3b635a31be8b4fe299eca3325fe2e365</td></tr><tr><th>29</th><td>28933</td><td>611d5dcf7e074585a8575f9edacfb576</td></tr><tr><th>30</th><td>28933</td><td>47f0f2c98691462ca7d957e3a59b12a1</td></tr><tr><th>&vellip;</th><td>&vellip;</td><td>&vellip;</td></tr></tbody></table>"
      ],
      "text/latex": [
       "\\begin{tabular}{r|cc}\n",
       "\t& tag\\_questions\\_tag\\_id & tag\\_questions\\_question\\_id\\\\\n",
       "\t\\hline\n",
       "\t& Int64⍰ & String⍰\\\\\n",
       "\t\\hline\n",
       "\t1 & 28930 & cb43ebee01364c68ac61d347a393ae39 \\\\\n",
       "\t2 & 28930 & 47f55e85ce944242a5a347ab85a8ffb4 \\\\\n",
       "\t3 & 28930 & ccc30a033a0f4dfdb2eb987012f25792 \\\\\n",
       "\t4 & 28930 & e30b274e48d741f7bf50eb5e7171a3c0 \\\\\n",
       "\t5 & 28930 & 3d22742052df4989b311b4195cbb0f1a \\\\\n",
       "\t6 & 28930 & c79baebeb6d44726b6f70a2414fb69bc \\\\\n",
       "\t7 & 28930 & 4eb64ed1527847f29d3e3d8a713bb3dc \\\\\n",
       "\t8 & 28930 & bebfb741f4524b8cb871f35b5780b54f \\\\\n",
       "\t9 & 28930 & 3e7c462a0adb4bfa8830282867f3900b \\\\\n",
       "\t10 & 28930 & 23b52dd81ad7465a9472596c7dedc492 \\\\\n",
       "\t11 & 28930 & 8adf891fa3d4451fa6f56cbfb85e1ea4 \\\\\n",
       "\t12 & 28930 & e184549a832647f2a17ee2909d4938cf \\\\\n",
       "\t13 & 28930 & a80c0870d2b44ad586988053c86bc0ec \\\\\n",
       "\t14 & 28930 & 5cdcacacb5f24a3a9bf34507ab7bb0a5 \\\\\n",
       "\t15 & 28930 & fcee43dddcf546baa6837013213de7f5 \\\\\n",
       "\t16 & 28930 & 1e5fc85f0c0a4d58ab96918f5ec70c24 \\\\\n",
       "\t17 & 28930 & f005cad7aae34394852de6f58d2129b1 \\\\\n",
       "\t18 & 28930 & d37274bd121a4f4f8d5cee8c76c191cf \\\\\n",
       "\t19 & 28930 & 3b0d3e84f1874016b42109fdc15e6d9c \\\\\n",
       "\t20 & 28930 & 66fb01788f2646caa11babcfc63669c7 \\\\\n",
       "\t21 & 28933 & 7bb68116d0a44afb9945258da7ce7461 \\\\\n",
       "\t22 & 28933 & 5ad683a5f52d46199857e4c3e6eca4c4 \\\\\n",
       "\t23 & 28933 & dd79931438d7422f9c75bb151df2c516 \\\\\n",
       "\t24 & 28933 & 2547379c118640c6bc431448b742fee4 \\\\\n",
       "\t25 & 28933 & 5b0ba044d7c74408bb55e10f78d184bb \\\\\n",
       "\t26 & 28933 & 9c3ed93b83894c87baf82090a7d152f7 \\\\\n",
       "\t27 & 28933 & bf0e71f6c29b4f4c9f50165457c62593 \\\\\n",
       "\t28 & 28933 & 3b635a31be8b4fe299eca3325fe2e365 \\\\\n",
       "\t29 & 28933 & 611d5dcf7e074585a8575f9edacfb576 \\\\\n",
       "\t30 & 28933 & 47f0f2c98691462ca7d957e3a59b12a1 \\\\\n",
       "\t$\\dots$ & $\\dots$ & $\\dots$ \\\\\n",
       "\\end{tabular}\n"
      ],
      "text/plain": [
       "76553×2 DataFrame\n",
       "│ Row   │ tag_questions_tag_id │ tag_questions_question_id        │\n",
       "│       │ \u001b[90mInt64⍰\u001b[39m               │ \u001b[90mUnion{Missing, String}\u001b[39m           │\n",
       "├───────┼──────────────────────┼──────────────────────────────────┤\n",
       "│ 1     │ 28930                │ cb43ebee01364c68ac61d347a393ae39 │\n",
       "│ 2     │ 28930                │ 47f55e85ce944242a5a347ab85a8ffb4 │\n",
       "│ 3     │ 28930                │ ccc30a033a0f4dfdb2eb987012f25792 │\n",
       "│ 4     │ 28930                │ e30b274e48d741f7bf50eb5e7171a3c0 │\n",
       "│ 5     │ 28930                │ 3d22742052df4989b311b4195cbb0f1a │\n",
       "│ 6     │ 28930                │ c79baebeb6d44726b6f70a2414fb69bc │\n",
       "│ 7     │ 28930                │ 4eb64ed1527847f29d3e3d8a713bb3dc │\n",
       "│ 8     │ 28930                │ bebfb741f4524b8cb871f35b5780b54f │\n",
       "│ 9     │ 28930                │ 3e7c462a0adb4bfa8830282867f3900b │\n",
       "│ 10    │ 28930                │ 23b52dd81ad7465a9472596c7dedc492 │\n",
       "⋮\n",
       "│ 76543 │ 39142                │ dc33139503744d1fafdf41a0b2b8e321 │\n",
       "│ 76544 │ 39165                │ 3871d39fd1654b1c9b8fc6a66dcdf5cd │\n",
       "│ 76545 │ 39182                │ a25c4cee64974799ba0c150e6afce95f │\n",
       "│ 76546 │ 39183                │ c7cb6c54dbb34c0ab2eb23751deea6ad │\n",
       "│ 76547 │ 39183                │ f4790c8029064b41bd410f66c5039890 │\n",
       "│ 76548 │ 39183                │ e8c8ed32802b4090b5865dd3c2c3f42a │\n",
       "│ 76549 │ 39183                │ 72affe86909d49c09761a1d376476c92 │\n",
       "│ 76550 │ 39248                │ 5b86153f2b6c46a4801bb39e10e01281 │\n",
       "│ 76551 │ 39249                │ 0946a81d511b48c58376fd59058d3b12 │\n",
       "│ 76552 │ 39249                │ b4de8ccfcd874481bfc80ceacb0caac8 │\n",
       "│ 76553 │ 39250                │ 0946a81d511b48c58376fd59058d3b12 │"
      ]
     },
     "execution_count": 19,
     "metadata": {},
     "output_type": "execute_result"
    }
   ],
   "source": [
    "tag_questions = explore_data(\"data/tag_questions.csv\")"
   ]
  },
  {
   "cell_type": "markdown",
   "metadata": {},
   "source": [
    "### Tag Users"
   ]
  },
  {
   "cell_type": "code",
   "execution_count": 20,
   "metadata": {},
   "outputs": [
    {
     "data": {
      "text/plain": [
       "2-element Array{Symbol,1}:\n",
       " :tag_users_tag_id \n",
       " :tag_users_user_id"
      ]
     },
     "metadata": {},
     "output_type": "display_data"
    },
    {
     "data": {
      "text/html": [
       "<table class=\"data-frame\"><thead><tr><th></th><th>tag_users_tag_id</th><th>tag_users_user_id</th></tr><tr><th></th><th>Int64⍰</th><th>String⍰</th></tr></thead><tbody><p>136,663 rows × 2 columns</p><tr><th>1</th><td>593</td><td>c72ab38e073246e88da7e9a4ec7a4472</td></tr><tr><th>2</th><td>1642</td><td>8db519781ec24f2e8bdc67c2ac53f614</td></tr><tr><th>3</th><td>638</td><td>042d2184ee3e4e548fc3589baaa69caf</td></tr><tr><th>4</th><td>11093</td><td>c660bd0dc1b34224be78a58aa5a84a63</td></tr><tr><th>5</th><td>21539</td><td>8ce1dca4e94240239e4385ed22ef43ce</td></tr><tr><th>6</th><td>1047</td><td>3330f8a7835346a2a91f9393ae21efee</td></tr><tr><th>7</th><td>64</td><td>5a4a16842ec64430ac3f916aacf35fe1</td></tr><tr><th>8</th><td>1139</td><td>461f92b955924604832a92b6bc14ac1d</td></tr><tr><th>9</th><td>55</td><td>7daf1e6dfb3443b99b240890f0a4d69b</td></tr><tr><th>10</th><td>54</td><td>7daf1e6dfb3443b99b240890f0a4d69b</td></tr><tr><th>11</th><td>8593</td><td>82cc74c0e18347e4b68b219e250eb10f</td></tr><tr><th>12</th><td>11460</td><td>d68c9bc7d1a841dc95164ced387275e0</td></tr><tr><th>13</th><td>36</td><td>0c9a2748560541be9fe2df0d7be88282</td></tr><tr><th>14</th><td>461</td><td>5e9b2110f97c487a86940511245cd5cf</td></tr><tr><th>15</th><td>29573</td><td>c85f4b239372443b917d45f6371d27be</td></tr><tr><th>16</th><td>335</td><td>c85f4b239372443b917d45f6371d27be</td></tr><tr><th>17</th><td>46</td><td>b6af2f682f0e4bf2af7783c1980820e6</td></tr><tr><th>18</th><td>22408</td><td>c85f4b239372443b917d45f6371d27be</td></tr><tr><th>19</th><td>162</td><td>b1b79c07b9334fc9b1ab40456f0fd16e</td></tr><tr><th>20</th><td>692</td><td>58f48953d3cb4522961028937c3e231b</td></tr><tr><th>21</th><td>19804</td><td>58f48953d3cb4522961028937c3e231b</td></tr><tr><th>22</th><td>2763</td><td>58f48953d3cb4522961028937c3e231b</td></tr><tr><th>23</th><td>55</td><td>8074bb4fb8894ab99c2716ea6ef91ff9</td></tr><tr><th>24</th><td>54</td><td>8074bb4fb8894ab99c2716ea6ef91ff9</td></tr><tr><th>25</th><td>27</td><td>5f77e0a2c3a144dda336df2294a64530</td></tr><tr><th>26</th><td>19720</td><td>58f48953d3cb4522961028937c3e231b</td></tr><tr><th>27</th><td>29257</td><td>58f48953d3cb4522961028937c3e231b</td></tr><tr><th>28</th><td>23731</td><td>58f48953d3cb4522961028937c3e231b</td></tr><tr><th>29</th><td>30067</td><td>c734f2d3fdc4446393a096b3a1b7be62</td></tr><tr><th>30</th><td>29807</td><td>548999c9caf24ad986bd2aa7dce0c714</td></tr><tr><th>&vellip;</th><td>&vellip;</td><td>&vellip;</td></tr></tbody></table>"
      ],
      "text/latex": [
       "\\begin{tabular}{r|cc}\n",
       "\t& tag\\_users\\_tag\\_id & tag\\_users\\_user\\_id\\\\\n",
       "\t\\hline\n",
       "\t& Int64⍰ & String⍰\\\\\n",
       "\t\\hline\n",
       "\t1 & 593 & c72ab38e073246e88da7e9a4ec7a4472 \\\\\n",
       "\t2 & 1642 & 8db519781ec24f2e8bdc67c2ac53f614 \\\\\n",
       "\t3 & 638 & 042d2184ee3e4e548fc3589baaa69caf \\\\\n",
       "\t4 & 11093 & c660bd0dc1b34224be78a58aa5a84a63 \\\\\n",
       "\t5 & 21539 & 8ce1dca4e94240239e4385ed22ef43ce \\\\\n",
       "\t6 & 1047 & 3330f8a7835346a2a91f9393ae21efee \\\\\n",
       "\t7 & 64 & 5a4a16842ec64430ac3f916aacf35fe1 \\\\\n",
       "\t8 & 1139 & 461f92b955924604832a92b6bc14ac1d \\\\\n",
       "\t9 & 55 & 7daf1e6dfb3443b99b240890f0a4d69b \\\\\n",
       "\t10 & 54 & 7daf1e6dfb3443b99b240890f0a4d69b \\\\\n",
       "\t11 & 8593 & 82cc74c0e18347e4b68b219e250eb10f \\\\\n",
       "\t12 & 11460 & d68c9bc7d1a841dc95164ced387275e0 \\\\\n",
       "\t13 & 36 & 0c9a2748560541be9fe2df0d7be88282 \\\\\n",
       "\t14 & 461 & 5e9b2110f97c487a86940511245cd5cf \\\\\n",
       "\t15 & 29573 & c85f4b239372443b917d45f6371d27be \\\\\n",
       "\t16 & 335 & c85f4b239372443b917d45f6371d27be \\\\\n",
       "\t17 & 46 & b6af2f682f0e4bf2af7783c1980820e6 \\\\\n",
       "\t18 & 22408 & c85f4b239372443b917d45f6371d27be \\\\\n",
       "\t19 & 162 & b1b79c07b9334fc9b1ab40456f0fd16e \\\\\n",
       "\t20 & 692 & 58f48953d3cb4522961028937c3e231b \\\\\n",
       "\t21 & 19804 & 58f48953d3cb4522961028937c3e231b \\\\\n",
       "\t22 & 2763 & 58f48953d3cb4522961028937c3e231b \\\\\n",
       "\t23 & 55 & 8074bb4fb8894ab99c2716ea6ef91ff9 \\\\\n",
       "\t24 & 54 & 8074bb4fb8894ab99c2716ea6ef91ff9 \\\\\n",
       "\t25 & 27 & 5f77e0a2c3a144dda336df2294a64530 \\\\\n",
       "\t26 & 19720 & 58f48953d3cb4522961028937c3e231b \\\\\n",
       "\t27 & 29257 & 58f48953d3cb4522961028937c3e231b \\\\\n",
       "\t28 & 23731 & 58f48953d3cb4522961028937c3e231b \\\\\n",
       "\t29 & 30067 & c734f2d3fdc4446393a096b3a1b7be62 \\\\\n",
       "\t30 & 29807 & 548999c9caf24ad986bd2aa7dce0c714 \\\\\n",
       "\t$\\dots$ & $\\dots$ & $\\dots$ \\\\\n",
       "\\end{tabular}\n"
      ],
      "text/plain": [
       "136663×2 DataFrame\n",
       "│ Row    │ tag_users_tag_id │ tag_users_user_id                │\n",
       "│        │ \u001b[90mInt64⍰\u001b[39m           │ \u001b[90mUnion{Missing, String}\u001b[39m           │\n",
       "├────────┼──────────────────┼──────────────────────────────────┤\n",
       "│ 1      │ 593              │ c72ab38e073246e88da7e9a4ec7a4472 │\n",
       "│ 2      │ 1642             │ 8db519781ec24f2e8bdc67c2ac53f614 │\n",
       "│ 3      │ 638              │ 042d2184ee3e4e548fc3589baaa69caf │\n",
       "│ 4      │ 11093            │ c660bd0dc1b34224be78a58aa5a84a63 │\n",
       "│ 5      │ 21539            │ 8ce1dca4e94240239e4385ed22ef43ce │\n",
       "│ 6      │ 1047             │ 3330f8a7835346a2a91f9393ae21efee │\n",
       "│ 7      │ 64               │ 5a4a16842ec64430ac3f916aacf35fe1 │\n",
       "│ 8      │ 1139             │ 461f92b955924604832a92b6bc14ac1d │\n",
       "│ 9      │ 55               │ 7daf1e6dfb3443b99b240890f0a4d69b │\n",
       "│ 10     │ 54               │ 7daf1e6dfb3443b99b240890f0a4d69b │\n",
       "⋮\n",
       "│ 136653 │ 20141            │ 59c34559e4504e318b0f280fc8c6e527 │\n",
       "│ 136654 │ 28970            │ 59c34559e4504e318b0f280fc8c6e527 │\n",
       "│ 136655 │ 32247            │ 59c34559e4504e318b0f280fc8c6e527 │\n",
       "│ 136656 │ 33955            │ 59c34559e4504e318b0f280fc8c6e527 │\n",
       "│ 136657 │ 39254            │ 59c34559e4504e318b0f280fc8c6e527 │\n",
       "│ 136658 │ 20141            │ 1d9ba1fe480f491a918a89688c4aa053 │\n",
       "│ 136659 │ 18609            │ 1d9ba1fe480f491a918a89688c4aa053 │\n",
       "│ 136660 │ 18145            │ 1d9ba1fe480f491a918a89688c4aa053 │\n",
       "│ 136661 │ 15360            │ 1d9ba1fe480f491a918a89688c4aa053 │\n",
       "│ 136662 │ 31705            │ d7c0825fc2c64269ac3c55c31a043b1d │\n",
       "│ 136663 │ 692              │ 840061e4fb07473fada4a9c655a39c4e │"
      ]
     },
     "execution_count": 20,
     "metadata": {},
     "output_type": "execute_result"
    }
   ],
   "source": [
    "tag_users = explore_data(\"data/tag_users.csv\")"
   ]
  },
  {
   "cell_type": "markdown",
   "metadata": {},
   "source": [
    "### Tags"
   ]
  },
  {
   "cell_type": "code",
   "execution_count": 21,
   "metadata": {},
   "outputs": [
    {
     "data": {
      "text/plain": [
       "2-element Array{Symbol,1}:\n",
       " :tags_tag_id  \n",
       " :tags_tag_name"
      ]
     },
     "metadata": {},
     "output_type": "display_data"
    },
    {
     "data": {
      "text/html": [
       "<table class=\"data-frame\"><thead><tr><th></th><th>tags_tag_id</th><th>tags_tag_name</th></tr><tr><th></th><th>Int64⍰</th><th>String⍰</th></tr></thead><tbody><p>16,269 rows × 2 columns</p><tr><th>1</th><td>27490</td><td>college</td></tr><tr><th>2</th><td>461</td><td>computer-science</td></tr><tr><th>3</th><td>593</td><td>computer-software</td></tr><tr><th>4</th><td>27292</td><td>business</td></tr><tr><th>5</th><td>18217</td><td>doctor</td></tr><tr><th>6</th><td>54</td><td>engineering</td></tr><tr><th>7</th><td>129</td><td>career</td></tr><tr><th>8</th><td>89</td><td>medicine</td></tr><tr><th>9</th><td>53</td><td>science</td></tr><tr><th>10</th><td>55</td><td>engineer</td></tr><tr><th>11</th><td>29</td><td>teaching</td></tr><tr><th>12</th><td>452</td><td>nursing</td></tr><tr><th>13</th><td>18360</td><td>psychology</td></tr><tr><th>14</th><td>27286</td><td>teacher</td></tr><tr><th>15</th><td>27422</td><td>medical</td></tr><tr><th>16</th><td>18351</td><td>finance</td></tr><tr><th>17</th><td>18109</td><td>healthcare</td></tr><tr><th>18</th><td>20227</td><td>college-major</td></tr><tr><th>19</th><td>21438</td><td>professor</td></tr><tr><th>20</th><td>27295</td><td>computer</td></tr><tr><th>21</th><td>18370</td><td>law</td></tr><tr><th>22</th><td>146</td><td>nurse</td></tr><tr><th>23</th><td>51</td><td>biology</td></tr><tr><th>24</th><td>18073</td><td>technology</td></tr><tr><th>25</th><td>187</td><td>jobs</td></tr><tr><th>26</th><td>18547</td><td>education</td></tr><tr><th>27</th><td>18145</td><td>management</td></tr><tr><th>28</th><td>13909</td><td>any</td></tr><tr><th>29</th><td>5648</td><td>professional</td></tr><tr><th>30</th><td>18263</td><td>sports</td></tr><tr><th>&vellip;</th><td>&vellip;</td><td>&vellip;</td></tr></tbody></table>"
      ],
      "text/latex": [
       "\\begin{tabular}{r|cc}\n",
       "\t& tags\\_tag\\_id & tags\\_tag\\_name\\\\\n",
       "\t\\hline\n",
       "\t& Int64⍰ & String⍰\\\\\n",
       "\t\\hline\n",
       "\t1 & 27490 & college \\\\\n",
       "\t2 & 461 & computer-science \\\\\n",
       "\t3 & 593 & computer-software \\\\\n",
       "\t4 & 27292 & business \\\\\n",
       "\t5 & 18217 & doctor \\\\\n",
       "\t6 & 54 & engineering \\\\\n",
       "\t7 & 129 & career \\\\\n",
       "\t8 & 89 & medicine \\\\\n",
       "\t9 & 53 & science \\\\\n",
       "\t10 & 55 & engineer \\\\\n",
       "\t11 & 29 & teaching \\\\\n",
       "\t12 & 452 & nursing \\\\\n",
       "\t13 & 18360 & psychology \\\\\n",
       "\t14 & 27286 & teacher \\\\\n",
       "\t15 & 27422 & medical \\\\\n",
       "\t16 & 18351 & finance \\\\\n",
       "\t17 & 18109 & healthcare \\\\\n",
       "\t18 & 20227 & college-major \\\\\n",
       "\t19 & 21438 & professor \\\\\n",
       "\t20 & 27295 & computer \\\\\n",
       "\t21 & 18370 & law \\\\\n",
       "\t22 & 146 & nurse \\\\\n",
       "\t23 & 51 & biology \\\\\n",
       "\t24 & 18073 & technology \\\\\n",
       "\t25 & 187 & jobs \\\\\n",
       "\t26 & 18547 & education \\\\\n",
       "\t27 & 18145 & management \\\\\n",
       "\t28 & 13909 & any \\\\\n",
       "\t29 & 5648 & professional \\\\\n",
       "\t30 & 18263 & sports \\\\\n",
       "\t$\\dots$ & $\\dots$ & $\\dots$ \\\\\n",
       "\\end{tabular}\n"
      ],
      "text/plain": [
       "16269×2 DataFrame\n",
       "│ Row   │ tags_tag_id │ tags_tag_name     │\n",
       "│       │ \u001b[90mInt64⍰\u001b[39m      │ \u001b[90mString⍰\u001b[39m           │\n",
       "├───────┼─────────────┼───────────────────┤\n",
       "│ 1     │ 27490       │ college           │\n",
       "│ 2     │ 461         │ computer-science  │\n",
       "│ 3     │ 593         │ computer-software │\n",
       "│ 4     │ 27292       │ business          │\n",
       "│ 5     │ 18217       │ doctor            │\n",
       "│ 6     │ 54          │ engineering       │\n",
       "│ 7     │ 129         │ career            │\n",
       "│ 8     │ 89          │ medicine          │\n",
       "│ 9     │ 53          │ science           │\n",
       "│ 10    │ 55          │ engineer          │\n",
       "⋮\n",
       "│ 16259 │ 25457       │ zeitgeist         │\n",
       "│ 16260 │ 26917       │ zillow            │\n",
       "│ 16261 │ 29979       │ zjz               │\n",
       "│ 16262 │ 22388       │ zombie-killing    │\n",
       "│ 16263 │ 33856       │ #zoo              │\n",
       "│ 16264 │ 11035       │ zoo-keeper        │\n",
       "│ 16265 │ 33855       │ #zoology          │\n",
       "│ 16266 │ 20743       │ zsh               │\n",
       "│ 16267 │ 21302       │ zumba             │\n",
       "│ 16268 │ 19497       │ zynga             │\n",
       "│ 16269 │ 32737       │ 零售              │"
      ]
     },
     "execution_count": 21,
     "metadata": {},
     "output_type": "execute_result"
    }
   ],
   "source": [
    "tags = explore_data(\"data/tags.csv\")"
   ]
  },
  {
   "cell_type": "code",
   "execution_count": null,
   "metadata": {},
   "outputs": [],
   "source": []
  }
 ],
 "metadata": {
  "kernelspec": {
   "display_name": "Julia 1.0.3",
   "language": "julia",
   "name": "julia-1.0"
  },
  "language_info": {
   "file_extension": ".jl",
   "mimetype": "application/julia",
   "name": "julia",
   "version": "1.0.3"
  }
 },
 "nbformat": 4,
 "nbformat_minor": 2
}
